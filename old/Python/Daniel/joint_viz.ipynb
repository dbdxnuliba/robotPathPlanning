{
 "cells": [
  {
   "cell_type": "code",
   "execution_count": null,
   "metadata": {},
   "outputs": [],
   "source": [
    "import pybullet as p\n",
    "import pybullet_data\n",
    "import os\n",
    "import sys\n",
    "import numpy as np\n",
    "import time\n",
    "\n",
    "#From original file\n",
    "#robot_path = r\"C:\\Users\\snowl\\Google Drive\\Documents\\Research\\ARCLAB Arm_\\CAD\\active\\full_arm\\arm\\subarms\\output\\urdf\\output.urdf\"\n",
    "#robot_path2 = r\"C:\\Users\\snowl\\Google Drive\\Documents\\Research\\ARCLAB Arm_\\CAD\\active\\full_arm\\arm\\subarms\\multi.SLDASM\\urdf\\multi.SLDASM.urdf\"\n",
    "#robot_path3 = r\"C:\\Users\\snowl\\Google Drive\\Documents\\Research\\ARCLAB Arm_\\CAD\\active\\full_arm\\arm\\subarms\\asdf\\urdf\\multi.SLDASM.urdf\"\n",
    "#robot_4seg = r\"C:\\Users\\snowl\\out\\urdf\\works.urdf\"\n",
    "\n",
    "#file paths\n",
    "cwd = os.getcwd()\n",
    "subfolders = ['mri','out']\n",
    "urdfs = ['mri_vhacd.urdf', 'works.urdf']\n",
    "model_paths = []\n",
    "\n",
    "for folder, urdf in zip(subfolders, urdfs):\n",
    "    path = os.path.join(cwd, 'models', folder, 'urdf', urdf)\n",
    "    model_paths.append(path)\n",
    "    \n",
    "print(model_paths)\n",
    "#can also use relative paths\n",
    "#p.loadURDF(\"models/out/urdf/works.urdf\")"
   ]
  },
  {
   "cell_type": "code",
   "execution_count": null,
   "metadata": {},
   "outputs": [],
   "source": [
    "p.connect(p.GUI)#start simulation in a gui\n",
    "p.setAdditionalSearchPath(pybullet_data.getDataPath())"
   ]
  },
  {
   "cell_type": "code",
   "execution_count": null,
   "metadata": {},
   "outputs": [],
   "source": [
    "p.resetSimulation()\n",
    "p.loadURDF('plane.urdf')\n",
    "\n",
    "mri_start_pos = [-0.35,1,0.60]\n",
    "mri_start_orientation = p.getQuaternionFromEuler([0,0,0])\n",
    "mri = p.loadURDF(model_paths[0], mri_start_pos, mri_start_orientation, useFixedBase = 1)\n",
    "\n",
    "robot_start_pos = [0,0,1]\n",
    "#robot_start_orientation = p.getQuaternionFromEuler([0,0,0])\n",
    "robot_start_orientation = p.getQuaternionFromEuler([3*np.pi/2,0,0])\n",
    "robot = p.loadURDF(model_paths[1], robot_start_pos, robot_start_orientation, useFixedBase = 1, flags = p.URDF_USE_SELF_COLLISION)\n",
    "\n",
    "\n",
    "p.setGravity(0, 0, -9.81)   # everything should fall down\n",
    "p.setTimeStep(0.005)       # this slows everything down, but let's be accurate...\n",
    "p.setRealTimeSimulation(0)  # we want to be faster than real time :)"
   ]
  },
  {
   "cell_type": "code",
   "execution_count": null,
   "metadata": {},
   "outputs": [],
   "source": [
    "#orients to one side of search space\n",
    "for i in range(1000):\n",
    "    p.setJointMotorControl2(robot,0,controlMode=p.POSITION_CONTROL, targetPosition = 0)\n",
    "    p.setJointMotorControl2(robot,1,controlMode=p.POSITION_CONTROL, targetPosition = np.pi)\n",
    "    p.setJointMotorControl2(robot,2,controlMode=p.POSITION_CONTROL, targetPosition = np.pi)\n",
    "    p.setJointMotorControl2(robot,3,controlMode=p.POSITION_CONTROL, targetPosition = np.pi)\n",
    "    p.stepSimulation()\n",
    "    #print(p.getContactPoints())"
   ]
  },
  {
   "cell_type": "code",
   "execution_count": null,
   "metadata": {},
   "outputs": [],
   "source": [
    "j_i = -1\n",
    "k_i = -1\n",
    "\n",
    "for i in np.linspace(np.pi,-np.pi,360):\n",
    "    j_i = j_i * -1\n",
    "    for j in np.linspace(np.pi,-np.pi,360):\n",
    "        k_i = k_i * -1\n",
    "        j = j * j_i\n",
    "        for k in np.linspace(np.pi,-np.pi,360):\n",
    "            k = k * k_i\n",
    "            p.setJointMotorControl2(robot,3,controlMode=p.POSITION_CONTROL, targetPosition = k)\n",
    "            p.setJointMotorControl2(robot,2,controlMode=p.POSITION_CONTROL, targetPosition = j)\n",
    "            p.setJointMotorControl2(robot,1,controlMode=p.POSITION_CONTROL, targetPosition = i)\n",
    "            p.setJointMotorControl2(robot,0,controlMode=p.POSITION_CONTROL, targetPosition = 0)\n",
    "            p.stepSimulation()\n",
    "            #p.getLinkState(robot, 4,0,1)[0] #End link center of mass world coordinates\n",
    "            \n",
    "            #time.sleep(0.000001)\n",
    "            "
   ]
  },
  {
   "cell_type": "code",
   "execution_count": null,
   "metadata": {},
   "outputs": [],
   "source": [
    "#testing collisions\n",
    "p.setTimeStep(0.01)       # this slows everything down, but let's be accurate...\n",
    "p.stepSimulation()\n",
    "p.getContactPoints(mri,robot)"
   ]
  },
  {
   "cell_type": "code",
   "execution_count": null,
   "metadata": {},
   "outputs": [],
   "source": [
    "#Joint information\n",
    "position,orientation = p.getBasePositionAndOrientation(robot)\n",
    "print(\"Base orientation of robot(euler): {}\".format(p.getEulerFromQuaternion(orientation)))\n",
    "print(\"Base position of robot: {}\".format(position))\n",
    "\n",
    "num_joints = p.getNumJoints(robot) \n",
    "print(\"Number of joints: {}\".format(num_joints))\n",
    "\n",
    "joint_info = []\n",
    "for i in range(num_joints):\n",
    "    joint_info.append(p.getJointInfo(robot, i))\n",
    "print(joint_info[4])\n",
    "    \n",
    "print(\"Position, velocity ,forces, torque of joint 0: {}\".format(p.getJointStates(robot, [0]))) #joint position, velocity, reaction forces, and motor torque\n",
    "\n",
    "#get world position of links\n",
    "world_position, world_orientation = p.getLinkState(robot, 0)[:2]\n",
    "print(\"world position: {}\".format(world_position))\n",
    "print(\"world orientation: {}\".format(p.getEulerFromQuaternion(world_orientation)))"
   ]
  },
  {
   "cell_type": "code",
   "execution_count": null,
   "metadata": {},
   "outputs": [],
   "source": [
    "for i in range(num_joints):\n",
    "    print(joint_info[i])"
   ]
  },
  {
   "cell_type": "code",
   "execution_count": null,
   "metadata": {},
   "outputs": [],
   "source": [
    "for _ in range(10000):\n",
    "    p.stepSimulation()"
   ]
  },
  {
   "cell_type": "code",
   "execution_count": null,
   "metadata": {},
   "outputs": [],
   "source": [
    "p.getJointState(robot, 1)"
   ]
  },
  {
   "cell_type": "code",
   "execution_count": null,
   "metadata": {},
   "outputs": [],
   "source": [
    "p.setJointMotorControl2(robot, 1, controlMode=p.POSITION_CONTROL, targetPosition = 1)\n",
    "for _ in range(10000):\n",
    "    p.stepSimulation()"
   ]
  },
  {
   "cell_type": "code",
   "execution_count": null,
   "metadata": {},
   "outputs": [],
   "source": [
    "#p.setJointMotorControlArray(\n",
    "#    temp, range(num_joints), p.POSITION_CONTROL,\n",
    "#    targetPositions=[1] * num_joints)\n",
    "p.setJointMotorControl2(robot, 0,\n",
    "     controlMode=p.POSITION_CONTROL, targetPosition = 2)\n",
    "\n",
    "jointPositions = np.linspace(0,2, num = 100)\n",
    "for i in range(100):\n",
    "    p.setJointMotorControl2(bodyUniqueId = robot, jointIndex = 4, \n",
    "                            controlMode = p.POSITION_CONTROL,\n",
    "                            targetPosition = 0)\n",
    "    p.setJointMotorControl2(bodyUniqueId = robot, jointIndex = 1, \n",
    "                            controlMode = p.POSITION_CONTROL,\n",
    "                            targetPosition = 0)\n",
    "    p.setJointMotorControl2(bodyUniqueId = robot, jointIndex = 2, \n",
    "                            controlMode = p.POSITION_CONTROL,\n",
    "                            targetPosition = 0)\n",
    "    p.setJointMotorControl2(bodyUniqueId = robot, jointIndex = 3, \n",
    "                            controlMode = p.POSITION_CONTROL,\n",
    "                            targetPosition = 0)\n",
    "    p.stepSimulation()\n",
    "    time.sleep(0.05)\n",
    "#p.disconnect()"
   ]
  },
  {
   "cell_type": "code",
   "execution_count": null,
   "metadata": {},
   "outputs": [],
   "source": [
    "p.disconnect()"
   ]
  }
 ],
 "metadata": {
  "kernelspec": {
   "display_name": "Python 3",
   "language": "python",
   "name": "python3"
  },
  "language_info": {
   "codemirror_mode": {
    "name": "ipython",
    "version": 3
   },
   "file_extension": ".py",
   "mimetype": "text/x-python",
   "name": "python",
   "nbconvert_exporter": "python",
   "pygments_lexer": "ipython3",
   "version": "3.6.4"
  }
 },
 "nbformat": 4,
 "nbformat_minor": 2
}
