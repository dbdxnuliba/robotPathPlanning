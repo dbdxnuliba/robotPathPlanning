{
 "cells": [
  {
   "cell_type": "code",
   "execution_count": 5,
   "metadata": {},
   "outputs": [
    {
     "ename": "error",
     "evalue": "Cannot load URDF file.",
     "output_type": "error",
     "traceback": [
      "\u001b[0;31m---------------------------------------------------------------------------\u001b[0m",
      "\u001b[0;31merror\u001b[0m                                     Traceback (most recent call last)",
      "\u001b[0;32m<ipython-input-5-b21e641fd5ae>\u001b[0m in \u001b[0;36m<module>\u001b[0;34m()\u001b[0m\n\u001b[1;32m     11\u001b[0m \u001b[0;32mfor\u001b[0m \u001b[0mi\u001b[0m \u001b[0;32min\u001b[0m \u001b[0mrange\u001b[0m \u001b[0;34m(\u001b[0m\u001b[0;36m10\u001b[0m\u001b[0;34m)\u001b[0m\u001b[0;34m:\u001b[0m\u001b[0;34m\u001b[0m\u001b[0m\n\u001b[1;32m     12\u001b[0m         \u001b[0;32mfor\u001b[0m \u001b[0mj\u001b[0m \u001b[0;32min\u001b[0m \u001b[0mrange\u001b[0m \u001b[0;34m(\u001b[0m\u001b[0;36m10\u001b[0m\u001b[0;34m)\u001b[0m\u001b[0;34m:\u001b[0m\u001b[0;34m\u001b[0m\u001b[0m\n\u001b[0;32m---> 13\u001b[0;31m                 \u001b[0mp\u001b[0m\u001b[0;34m.\u001b[0m\u001b[0mloadURDF\u001b[0m\u001b[0;34m(\u001b[0m\u001b[0;34m\"sphere_small.urdf\"\u001b[0m\u001b[0;34m,\u001b[0m\u001b[0;34m[\u001b[0m\u001b[0;36m5\u001b[0m\u001b[0;34m-\u001b[0m\u001b[0mi\u001b[0m\u001b[0;34m,\u001b[0m\u001b[0;36m5\u001b[0m\u001b[0;34m-\u001b[0m\u001b[0mj\u001b[0m\u001b[0;34m,\u001b[0m\u001b[0;36m3\u001b[0m\u001b[0;34m]\u001b[0m\u001b[0;34m,\u001b[0m \u001b[0museMaximalCoordinates\u001b[0m\u001b[0;34m=\u001b[0m\u001b[0;32mTrue\u001b[0m\u001b[0;34m)\u001b[0m\u001b[0;34m\u001b[0m\u001b[0m\n\u001b[0m\u001b[1;32m     14\u001b[0m \u001b[0mp\u001b[0m\u001b[0;34m.\u001b[0m\u001b[0mconfigureDebugVisualizer\u001b[0m\u001b[0;34m(\u001b[0m\u001b[0mp\u001b[0m\u001b[0;34m.\u001b[0m\u001b[0mCOV_ENABLE_RENDERING\u001b[0m\u001b[0;34m,\u001b[0m\u001b[0;36m1\u001b[0m\u001b[0;34m)\u001b[0m\u001b[0;34m\u001b[0m\u001b[0m\n\u001b[1;32m     15\u001b[0m \u001b[0;34m\u001b[0m\u001b[0m\n",
      "\u001b[0;31merror\u001b[0m: Cannot load URDF file."
     ]
    }
   ],
   "source": [
    "import pybullet as p\n",
    "import time\n",
    "import sys\n",
    "sys.path.append('bullet3')\n",
    "p.connect(p.GUI)\n",
    "\n",
    "#disable rendering during loading speeds it up\n",
    "#p.configureDebugVisualizer(p.COV_ENABLE_RENDERING,0)\n",
    "#p.configureDebugVisualizer(p.COV_ENABLE_TINY_RENDERER,0)\n",
    "#p.loadURDF(\"ground.urdf\",useMaximalCoordinates=True)\n",
    "for i in range (10):\n",
    "        for j in range (10):\n",
    "                p.loadURDF(\"sphere_small.urdf\",[5-i,5-j,3], useMaximalCoordinates=True)\n",
    "p.configureDebugVisualizer(p.COV_ENABLE_RENDERING,1)\n",
    "\n",
    "p.setGravity(0,0,-10)\n",
    "\n",
    "p.setRealTimeSimulation(1)\n",
    "while (1):\n",
    "        p.setGravity(0,0,-10)\n",
    "        time.sleep(0.01)"
   ]
  },
  {
   "cell_type": "code",
   "execution_count": 4,
   "metadata": {},
   "outputs": [
    {
     "name": "stdout",
     "output_type": "stream",
     "text": [
      "['', '/home/daniel/anaconda3/lib/python36.zip', '/home/daniel/anaconda3/lib/python3.6', '/home/daniel/anaconda3/lib/python3.6/lib-dynload', '/home/daniel/anaconda3/lib/python3.6/site-packages', '/home/daniel/baselines', '/home/daniel/anaconda3/lib/python3.6/site-packages/torchvision-0.2.0-py3.6.egg', '/home/daniel/anaconda3/lib/python3.6/site-packages/IPython/extensions', '/home/daniel/.ipython', 'bullet3', 'bullet3']\n"
     ]
    }
   ],
   "source": [
    "import sys\n",
    "sys.path.append('bullet3')\n",
    "\n",
    "print(sys.path)"
   ]
  }
 ],
 "metadata": {
  "kernelspec": {
   "display_name": "Python 3",
   "language": "python",
   "name": "python3"
  },
  "language_info": {
   "codemirror_mode": {
    "name": "ipython",
    "version": 3
   },
   "file_extension": ".py",
   "mimetype": "text/x-python",
   "name": "python",
   "nbconvert_exporter": "python",
   "pygments_lexer": "ipython3",
   "version": "3.6.4"
  }
 },
 "nbformat": 4,
 "nbformat_minor": 2
}
