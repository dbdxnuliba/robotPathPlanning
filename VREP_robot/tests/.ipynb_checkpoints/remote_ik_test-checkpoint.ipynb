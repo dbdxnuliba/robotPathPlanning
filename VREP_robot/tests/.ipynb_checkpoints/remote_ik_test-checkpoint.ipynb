{
 "cells": [
  {
   "cell_type": "code",
   "execution_count": 1,
   "metadata": {},
   "outputs": [],
   "source": [
    "#puts above directory into the path\n",
    "import sys\n",
    "sys.path.append(\"..\")\n",
    "import vrep"
   ]
  },
  {
   "cell_type": "code",
   "execution_count": 2,
   "metadata": {},
   "outputs": [],
   "source": [
    "import numpy as np\n",
    "import time"
   ]
  },
  {
   "cell_type": "code",
   "execution_count": 298,
   "metadata": {},
   "outputs": [],
   "source": [
    "class VREP_Environement():\n",
    "    ''' This object defines a VREP environment '''\n",
    "    def __init__(self, synchronous = False, dt = 0.05):\n",
    "        self.dt = dt\n",
    "        self.synchronous = synchronous\n",
    "        self.robots_connected = 0\n",
    "        self.robot_names = []\n",
    "        self.handles_init = None\n",
    "        self.clientID = None\n",
    "\n",
    "        #Close any open connections\n",
    "        vrep.simxFinish(-1)\n",
    "        \n",
    "        #Initiate connection to server\n",
    "        self.connectToServer()\n",
    "\n",
    "    def connectToServer(self):\n",
    "        self.clientID = vrep.simxStart('127.0.0.1', 19997, True, True, 500, 5)\n",
    "        \n",
    "        if self.clientID != -1: # if we connected successfully\n",
    "            print ('Connected to remote API server')\n",
    "            \n",
    "        #Setup synchronous mode or not\n",
    "        if self.synchronous == True:\n",
    "            print(\"In synchronous mode\")\n",
    "            vrep.simxSynchronous(self.clientID, True)\n",
    "\n",
    "    def add_robot(self, robot_class):\n",
    "        self.robots_connected = self.robots_connected + 1\n",
    "        \n",
    "        #Vrep env class stuff\n",
    "        self.robot_names.append(robot_class.robot_name)\n",
    "        \n",
    "        #robot_class stuff\n",
    "        robot_class.clientID = self.clientID\n",
    "        robot_class.get_handles()\n",
    "        \n",
    "        #Add robot to class attributes\n",
    "        setattr(self, robot_class.robot_name, robot_class)\n",
    "        \n",
    "    def start_simulation(self):\n",
    "        if self.robots_connected == 0:\n",
    "            print(\"no robots connected, simulation not started\")\n",
    "        else:\n",
    "            # Set up streaming\n",
    "            print(\"{} robot(s) connect: {}\".format(self.robots_connected, self.robot_names))\n",
    "            vrep.simxSetFloatingParameter(\n",
    "                self.clientID,\n",
    "                vrep.sim_floatparam_simulation_time_step,\n",
    "                self.dt, # specify a simulation time stept\n",
    "                vrep.simx_opmode_oneshot)\n",
    "        \n",
    "            # Start the simulation\n",
    "            #vrep.simxStartSimulation(clientID,vrep.simx_opmode_blocking) #to increase loop speed mode is changed.\n",
    "            vrep.simxStartSimulation(clientID,vrep.simx_opmode_oneshot_wait)\n",
    "\n",
    "\n",
    "    def shutdown(self):\n",
    "        vrep.simxStopSimulation(self.clientID, vrep.simx_opmode_oneshot)\n",
    "        vrep.simxFinish(self.clientID)\n"
   ]
  },
  {
   "cell_type": "code",
   "execution_count": 331,
   "metadata": {},
   "outputs": [],
   "source": [
    "class VREP_Robot():\n",
    "    '''This object defines the robots in the environment'''\n",
    "    def __init__(self, robot_name, handle_names, connection_type = 'nonblocking'):\n",
    "        self.robot_name = robot_name\n",
    "        self.handle_names = handle_names\n",
    "        self.handles = None\n",
    "        self.num_poses = len(handle_names) \n",
    "        self.positions = np.ones([self.num_poses,3]) #xyz\n",
    "        self.orientations = np.ones([self.num_poses,4]) #xyzw\n",
    "        self.connection_type = connection_type\n",
    "        self.clientID = None\n",
    "        \n",
    "        #Connection type for object grabbing/setting\n",
    "        if self.connection_type == 'blocking':\n",
    "            self.opmode = vrep.simx_opmode_blocking\n",
    "        elif self.connection_type == 'nonblocking':\n",
    "            self.opmode = vrep.simx_opmode_oneshot\n",
    "        \n",
    "    def get_handles(self):\n",
    "        self.handles = [vrep.simxGetObjectHandle(self.clientID,\n",
    "            name, vrep.simx_opmode_blocking)[1] for name in self.handle_names]\n",
    "        \n",
    "    def setObjectPosition(self, object_name, cartesian_position):\n",
    "        if self.clientID == None:\n",
    "            print(\"Robot not attached to VREP environment\")\n",
    "        else:\n",
    "            vrep.simxSetObjectPosition(\n",
    "                clientID,\n",
    "                object_name,\n",
    "                -1,# Setting the absolute position\n",
    "                position=cartesian_position,\n",
    "                operationMode=self.opmode\n",
    "                )\n",
    "            \n",
    "    def setObjectQuaternion(self, object_name, quaternion):\n",
    "        if self.clientID == None:\n",
    "            print(\"Robot not attached to VREP environment\")\n",
    "        else:\n",
    "            vrep.simxSetObjectQuaternion(\n",
    "                clientID,\n",
    "                object_name,\n",
    "                vrep.sim_handle_parent,# Setting the absolute position\n",
    "                quaternion, #(x, y, z, w)\n",
    "                operationMode = self.opmode\n",
    "                )\n",
    "\n",
    "    def getObjectPosition(self, object_name):\n",
    "        if self.clientID == None:\n",
    "            print(\"Robot not attached to VREP environment\")\n",
    "        else:\n",
    "            cartesian_position = vrep.simxGetObjectPosition(\n",
    "                clientID,\n",
    "                object_name,\n",
    "                -1,# Setting the absolute position\n",
    "                operationMode = self.opmode\n",
    "                )\n",
    "        return cartesian_position\n",
    "    \n",
    "    def getObjectOrientation(self, object_name):\n",
    "        if self.clientID == None:\n",
    "            print(\"Robot not attached to VREP environment\")\n",
    "        else:\n",
    "            quaternion = vrep.simxGetObjectQuaternion(\n",
    "                clientID,\n",
    "                object_name,\n",
    "                -1,# Setting the absolute position\n",
    "                operationMode = self.opmode\n",
    "                )\n",
    "        return quaternion"
   ]
  },
  {
   "cell_type": "code",
   "execution_count": 332,
   "metadata": {},
   "outputs": [
    {
     "name": "stdout",
     "output_type": "stream",
     "text": [
      "Connected to remote API server\n"
     ]
    }
   ],
   "source": [
    "vrep_env = VREP_Environement()"
   ]
  },
  {
   "cell_type": "code",
   "execution_count": 333,
   "metadata": {},
   "outputs": [],
   "source": [
    "robot_handles  = ['joint1', 'joint2', 'joint3', 'joint4', 'joint5', 'joint6', 'joint7']\n",
    "vrep_env.add_robot(VREP_Robot('robot', robot_handles))\n",
    "\n",
    "ik_handles = ['ik_joint1', 'ik_joint2', 'ik_joint3', 'ik_joint4', 'ik_joint5', 'ik_joint6', 'ik_joint7','kinematicsTest_manipulatorSphere']\n",
    "vrep_env.add_robot(VREP_Robot('ik_robot', ik_handles))\n"
   ]
  },
  {
   "cell_type": "code",
   "execution_count": 334,
   "metadata": {},
   "outputs": [
    {
     "name": "stdout",
     "output_type": "stream",
     "text": [
      "2 robot(s) connect: ['robot', 'ik_robot']\n"
     ]
    }
   ],
   "source": [
    "vrep_env.start_simulation()"
   ]
  },
  {
   "cell_type": "code",
   "execution_count": 325,
   "metadata": {},
   "outputs": [
    {
     "name": "stdout",
     "output_type": "stream",
     "text": [
      "(1, [0.0, 0.0, 0.0])\n",
      "(1, [0.0, 0.0, 0.0])\n",
      "(1, [0.0, 0.0, 0.0])\n",
      "(1, [0.0, 0.0, 0.0])\n",
      "(1, [0.0, 0.0, 0.0])\n",
      "(1, [0.0, 0.0, 0.0])\n",
      "(1, [0.0, 0.0, 0.0])\n"
     ]
    }
   ],
   "source": [
    "for i in range(len(robot_handles)):\n",
    "    print(vrep_env.robot.getObjectPosition(vrep_env.robot.handles[i]))"
   ]
  },
  {
   "cell_type": "code",
   "execution_count": 326,
   "metadata": {},
   "outputs": [
    {
     "name": "stdout",
     "output_type": "stream",
     "text": [
      "['ik_joint1', 'ik_joint2', 'ik_joint3', 'ik_joint4', 'ik_joint5', 'ik_joint6', 'ik_joint7', 'kinematicsTest_manipulatorSphere']\n"
     ]
    }
   ],
   "source": [
    "print(vrep_env.ik_robot.handle_names)"
   ]
  },
  {
   "cell_type": "code",
   "execution_count": 327,
   "metadata": {},
   "outputs": [
    {
     "name": "stdout",
     "output_type": "stream",
     "text": [
      "(1, [0.0, 0.0, 0.0])\n",
      "(1, [0.0, 0.0, 0.0])\n",
      "(1, [0.0, 0.0, 0.0])\n",
      "(1, [0.0, 0.0, 0.0])\n",
      "(1, [0.0, 0.0, 0.0])\n",
      "(1, [0.0, 0.0, 0.0])\n",
      "(1, [0.0, 0.0, 0.0])\n",
      "(1, [0.0, 0.0, 0.0])\n"
     ]
    }
   ],
   "source": [
    "for i in range(len(ik_handles)):\n",
    "    print(vrep_env.ik_robot.getObjectPosition(vrep_env.ik_robot.handles[i]))"
   ]
  },
  {
   "cell_type": "code",
   "execution_count": 328,
   "metadata": {},
   "outputs": [
    {
     "name": "stdout",
     "output_type": "stream",
     "text": [
      "[0.0, 0.0, 0.0, 0.0]\n",
      "[0.0, 0.0, 0.0, 0.0]\n",
      "[0.0, 0.0, 0.0, 0.0]\n",
      "[0.0, 0.0, 0.0, 0.0]\n",
      "[0.0, 0.0, 0.0, 0.0]\n",
      "[0.0, 0.0, 0.0, 0.0]\n",
      "[0.0, 0.0, 0.0, 0.0]\n",
      "[0.0, 0.0, 0.0, 0.0]\n"
     ]
    }
   ],
   "source": [
    "for i in range(len(ik_handles)):\n",
    "    print(vrep_env.ik_robot.getObjectOrientation(vrep_env.ik_robot.handles[i])[1])"
   ]
  },
  {
   "cell_type": "code",
   "execution_count": 335,
   "metadata": {},
   "outputs": [],
   "source": [
    "vrep_env.ik_robot.setObjectPosition(vrep_env.ik_robot.handles[-1], [.1,0,0])"
   ]
  },
  {
   "cell_type": "code",
   "execution_count": 336,
   "metadata": {},
   "outputs": [],
   "source": [
    "for i in range(len(robot_handles)):\n",
    "    vrep_env.robot.setObjectQuaternion(vrep_env.robot.handles[i],vrep_env.ik_robot.getObjectOrientation(vrep_env.ik_robot.handles[i])[1])"
   ]
  },
  {
   "cell_type": "code",
   "execution_count": 256,
   "metadata": {},
   "outputs": [],
   "source": [
    "vrep_env.shutdown() #not working right now"
   ]
  },
  {
   "cell_type": "code",
   "execution_count": null,
   "metadata": {},
   "outputs": [],
   "source": []
  },
  {
   "cell_type": "code",
   "execution_count": null,
   "metadata": {},
   "outputs": [],
   "source": []
  },
  {
   "cell_type": "code",
   "execution_count": null,
   "metadata": {},
   "outputs": [],
   "source": []
  },
  {
   "cell_type": "code",
   "execution_count": null,
   "metadata": {},
   "outputs": [],
   "source": []
  },
  {
   "cell_type": "code",
   "execution_count": null,
   "metadata": {},
   "outputs": [],
   "source": []
  },
  {
   "cell_type": "code",
   "execution_count": 219,
   "metadata": {},
   "outputs": [],
   "source": [
    "EE = vrep.simxGetObjectHandle(clientID, 'kinematicsTest_manipulatorSphere', vrep.simx_opmode_blocking)\n",
    "current_pos = vrep.simxGetObjectPosition(clientID, EE[1], -1, vrep.simx_opmode_streaming)[1]"
   ]
  },
  {
   "cell_type": "code",
   "execution_count": 204,
   "metadata": {},
   "outputs": [
    {
     "name": "stdout",
     "output_type": "stream",
     "text": [
      "Connected to remote API server\n"
     ]
    }
   ],
   "source": [
    "vrep.simxFinish(-1)\n",
    "clientID = vrep.simxStart('127.0.0.1', 19997, True, True, 500, 5) \n",
    "if clientID != -1: # if we connected successfully\n",
    "        print ('Connected to remote API server')"
   ]
  },
  {
   "cell_type": "code",
   "execution_count": 205,
   "metadata": {},
   "outputs": [],
   "source": [
    "EE = vrep.simxGetObjectHandle(clientID, 'kinematicsTest_manipulatorSphere', vrep.simx_opmode_blocking)"
   ]
  },
  {
   "cell_type": "code",
   "execution_count": 209,
   "metadata": {},
   "outputs": [
    {
     "data": {
      "text/plain": [
       "(0, 48)"
      ]
     },
     "execution_count": 209,
     "metadata": {},
     "output_type": "execute_result"
    }
   ],
   "source": [
    "EE"
   ]
  },
  {
   "cell_type": "code",
   "execution_count": 206,
   "metadata": {},
   "outputs": [
    {
     "data": {
      "text/plain": [
       "0"
      ]
     },
     "execution_count": 206,
     "metadata": {},
     "output_type": "execute_result"
    }
   ],
   "source": [
    "dt = .05\n",
    "vrep.simxSetFloatingParameter(clientID,\n",
    "        vrep.sim_floatparam_simulation_time_step,\n",
    "        dt, # specify a simulation time step\n",
    "        vrep.simx_opmode_oneshot)\n",
    " \n",
    "# --------------------- Start the simulation\n",
    "# start our simulation\n",
    "vrep.simxStartSimulation(clientID,vrep.simx_opmode_oneshot_wait)"
   ]
  },
  {
   "cell_type": "code",
   "execution_count": 207,
   "metadata": {},
   "outputs": [],
   "source": [
    "current_pos = vrep.simxGetObjectPosition(clientID, EE[1], -1, vrep.simx_opmode_streaming)[1]"
   ]
  },
  {
   "cell_type": "code",
   "execution_count": 208,
   "metadata": {},
   "outputs": [
    {
     "data": {
      "text/plain": [
       "[0.0, 0.0, 0.0]"
      ]
     },
     "execution_count": 208,
     "metadata": {},
     "output_type": "execute_result"
    }
   ],
   "source": [
    "current_pos"
   ]
  },
  {
   "cell_type": "code",
   "execution_count": 37,
   "metadata": {},
   "outputs": [
    {
     "name": "stdout",
     "output_type": "stream",
     "text": [
      "[-1.3423935174942017, 1.0249996185302734, 0.34000134468078613]\n",
      "[0.1735815405845642, 0.17358148097991943, 0.17358151078224182]\n",
      "[-0.18833930790424347, -0.18833935260772705, -0.18833932280540466]\n",
      "[0.07129213213920593, 0.07129210233688354, 0.07129213213920593]\n"
     ]
    },
    {
     "ename": "KeyboardInterrupt",
     "evalue": "",
     "output_type": "error",
     "traceback": [
      "\u001b[0;31m---------------------------------------------------------------------------\u001b[0m",
      "\u001b[0;31mKeyboardInterrupt\u001b[0m                         Traceback (most recent call last)",
      "\u001b[0;32m<ipython-input-37-117780eea3f1>\u001b[0m in \u001b[0;36m<module>\u001b[0;34m()\u001b[0m\n\u001b[1;32m      5\u001b[0m     \u001b[0mvrep\u001b[0m\u001b[0;34m.\u001b[0m\u001b[0msimxSetObjectPosition\u001b[0m\u001b[0;34m(\u001b[0m\u001b[0mclientID\u001b[0m\u001b[0;34m,\u001b[0m \u001b[0mEE\u001b[0m\u001b[0;34m[\u001b[0m\u001b[0;36m1\u001b[0m\u001b[0;34m]\u001b[0m\u001b[0;34m,\u001b[0m \u001b[0;34m-\u001b[0m\u001b[0;36m1\u001b[0m\u001b[0;34m,\u001b[0m \u001b[0mnew_pos\u001b[0m \u001b[0;34m,\u001b[0m\u001b[0mvrep\u001b[0m\u001b[0;34m.\u001b[0m\u001b[0msimx_opmode_oneshot\u001b[0m\u001b[0;34m)\u001b[0m\u001b[0;34m\u001b[0m\u001b[0m\n\u001b[1;32m      6\u001b[0m     \u001b[0mprint\u001b[0m\u001b[0;34m(\u001b[0m\u001b[0mvrep\u001b[0m\u001b[0;34m.\u001b[0m\u001b[0msimxGetObjectPosition\u001b[0m\u001b[0;34m(\u001b[0m\u001b[0mclientID\u001b[0m\u001b[0;34m,\u001b[0m \u001b[0mEE\u001b[0m\u001b[0;34m[\u001b[0m\u001b[0;36m1\u001b[0m\u001b[0;34m]\u001b[0m\u001b[0;34m,\u001b[0m \u001b[0;34m-\u001b[0m\u001b[0;36m1\u001b[0m\u001b[0;34m,\u001b[0m \u001b[0mvrep\u001b[0m\u001b[0;34m.\u001b[0m\u001b[0msimx_opmode_streaming\u001b[0m\u001b[0;34m)\u001b[0m\u001b[0;34m[\u001b[0m\u001b[0;36m1\u001b[0m\u001b[0;34m]\u001b[0m\u001b[0;34m)\u001b[0m\u001b[0;34m\u001b[0m\u001b[0m\n\u001b[0;32m----> 7\u001b[0;31m     \u001b[0mtime\u001b[0m\u001b[0;34m.\u001b[0m\u001b[0msleep\u001b[0m\u001b[0;34m(\u001b[0m\u001b[0;36m2\u001b[0m\u001b[0;34m)\u001b[0m\u001b[0;34m\u001b[0m\u001b[0m\n\u001b[0m\u001b[1;32m      8\u001b[0m \u001b[0;34m\u001b[0m\u001b[0m\n",
      "\u001b[0;31mKeyboardInterrupt\u001b[0m: "
     ]
    }
   ],
   "source": [
    "start_time = time.time()\n",
    "current_pos = np.array(current_pos)\n",
    "while(time.time() - start_time <= 15):\n",
    "    new_pos = current_pos + 0.2*np.sin(time.time()*2)\n",
    "    vrep.simxSetObjectPosition(clientID, EE[1], -1, new_pos ,vrep.simx_opmode_oneshot)\n",
    "    print(vrep.simxGetObjectPosition(clientID, EE[1], -1, vrep.simx_opmode_streaming)[1])\n",
    "    time.sleep(2)\n",
    "    "
   ]
  }
 ],
 "metadata": {
  "kernelspec": {
   "display_name": "Python 3",
   "language": "python",
   "name": "python3"
  },
  "language_info": {
   "codemirror_mode": {
    "name": "ipython",
    "version": 3
   },
   "file_extension": ".py",
   "mimetype": "text/x-python",
   "name": "python",
   "nbconvert_exporter": "python",
   "pygments_lexer": "ipython3",
   "version": "3.6.4"
  }
 },
 "nbformat": 4,
 "nbformat_minor": 2
}
