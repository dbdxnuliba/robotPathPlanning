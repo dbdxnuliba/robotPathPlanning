{
 "cells": [
  {
   "cell_type": "code",
   "execution_count": 106,
   "metadata": {},
   "outputs": [],
   "source": [
    "#puts above directory into the path\n",
    "import sys\n",
    "sys.path.append(\"..\")\n",
    "import vrep"
   ]
  },
  {
   "cell_type": "code",
   "execution_count": 107,
   "metadata": {},
   "outputs": [],
   "source": [
    "import numpy as np\n",
    "import time"
   ]
  },
  {
   "cell_type": "code",
   "execution_count": 108,
   "metadata": {},
   "outputs": [
    {
     "name": "stdout",
     "output_type": "stream",
     "text": [
      "Connected to remote API server\n"
     ]
    }
   ],
   "source": [
    "vrep.simxFinish(-1)\n",
    "clientID = vrep.simxStart('127.0.0.1', 19997, True, True, 500, 5) \n",
    "if clientID != -1: # if we connected successfully\n",
    "        print ('Connected to remote API server')"
   ]
  },
  {
   "cell_type": "code",
   "execution_count": 109,
   "metadata": {},
   "outputs": [],
   "source": [
    "EE = vrep.simxGetObjectHandle(clientID, 'kinematicsTest_manipulatorSphere', vrep.simx_opmode_blocking)"
   ]
  },
  {
   "cell_type": "code",
   "execution_count": 110,
   "metadata": {},
   "outputs": [
    {
     "data": {
      "text/plain": [
       "0"
      ]
     },
     "execution_count": 110,
     "metadata": {},
     "output_type": "execute_result"
    }
   ],
   "source": [
    "dt = .05\n",
    "vrep.simxSetFloatingParameter(clientID,\n",
    "        vrep.sim_floatparam_simulation_time_step,\n",
    "        dt, # specify a simulation time step\n",
    "        vrep.simx_opmode_oneshot)\n",
    " \n",
    "# --------------------- Start the simulation\n",
    "# start our simulation\n",
    "vrep.simxStartSimulation(clientID,vrep.simx_opmode_oneshot_wait)"
   ]
  },
  {
   "cell_type": "code",
   "execution_count": 111,
   "metadata": {},
   "outputs": [],
   "source": [
    "current_pos = vrep.simxGetObjectPosition(clientID, EE[1], -1, vrep.simx_opmode_streaming)[1]"
   ]
  },
  {
   "cell_type": "code",
   "execution_count": 112,
   "metadata": {},
   "outputs": [
    {
     "data": {
      "text/plain": [
       "1"
      ]
     },
     "execution_count": 112,
     "metadata": {},
     "output_type": "execute_result"
    }
   ],
   "source": [
    "vrep.simxSetObjectPosition(clientID, EE[1], -1, np.array(new_pos) ,vrep.simx_opmode_oneshot)"
   ]
  },
  {
   "cell_type": "code",
   "execution_count": null,
   "metadata": {},
   "outputs": [
    {
     "name": "stdout",
     "output_type": "stream",
     "text": [
      "[-1.0646957159042358, 1.421655535697937, 0.71573805809021]\n",
      "[-0.2957088351249695, -0.29570889472961426, -0.29570889472961426]\n",
      "[-0.011591210961341858, -0.011591315269470215, -0.011591196060180664]\n",
      "[0.310486376285553, 0.3104863166809082, 0.3104863166809082]\n",
      "[-0.39348548650741577, -0.39348554611206055, -0.39348554611206055]\n",
      "[0.2020217776298523, 0.2020217776298523, 0.2020217478275299]\n",
      "[0.13008278608322144, 0.13008278608322144, 0.13008275628089905]\n",
      "[-0.371970534324646, -0.371970534324646, -0.371970534324646]\n",
      "[0.3536301255226135, 0.35363006591796875, 0.35363006591796875]\n",
      "[-0.0878981500864029, -0.0878983736038208, -0.08789819478988647]\n",
      "[-0.23812250792980194, -0.23812270164489746, -0.2381225824356079]\n",
      "[0.39901626110076904, 0.39901620149612427, 0.3990163207054138]\n",
      "[-0.28106290102005005, -0.2810630798339844, -0.2810629606246948]\n"
     ]
    }
   ],
   "source": [
    "start_time = time.time()\n",
    "current_pos = np.array(current_pos)\n",
    "while(time.time() - start_time <= 15):\n",
    "    new_pos = current_pos + 0.4*np.sin(time.time()*2)\n",
    "    vrep.simxSetObjectPosition(clientID, EE[1], -1, new_pos ,vrep.simx_opmode_oneshot)\n",
    "    print(vrep.simxGetObjectPosition(clientID, EE[1], -1, vrep.simx_opmode_streaming)[1])\n",
    "    time.sleep(2)\n",
    "    "
   ]
  }
 ],
 "metadata": {
  "kernelspec": {
   "display_name": "Python 3",
   "language": "python",
   "name": "python3"
  },
  "language_info": {
   "codemirror_mode": {
    "name": "ipython",
    "version": 3
   },
   "file_extension": ".py",
   "mimetype": "text/x-python",
   "name": "python",
   "nbconvert_exporter": "python",
   "pygments_lexer": "ipython3",
   "version": "3.6.4"
  }
 },
 "nbformat": 4,
 "nbformat_minor": 2
}
