{
 "cells": [
  {
   "cell_type": "code",
   "execution_count": 8,
   "metadata": {},
   "outputs": [],
   "source": [
    "#puts above directory into the path\n",
    "import sys\n",
    "sys.path.append(\"..\")\n",
    "import vrep"
   ]
  },
  {
   "cell_type": "code",
   "execution_count": 9,
   "metadata": {},
   "outputs": [],
   "source": [
    "import numpy as np\n",
    "import time"
   ]
  },
  {
   "cell_type": "code",
   "execution_count": 33,
   "metadata": {},
   "outputs": [
    {
     "name": "stdout",
     "output_type": "stream",
     "text": [
      "Connected to remote API server\n"
     ]
    }
   ],
   "source": [
    "vrep.simxFinish(-1)\n",
    "clientID = vrep.simxStart('127.0.0.1', 19997, True, True, 500, 5) \n",
    "if clientID != -1: # if we connected successfully\n",
    "        print ('Connected to remote API server')"
   ]
  },
  {
   "cell_type": "code",
   "execution_count": 34,
   "metadata": {},
   "outputs": [],
   "source": [
    "EE = vrep.simxGetObjectHandle(clientID, 'kinematicsTest_manipulatorSphere', vrep.simx_opmode_blocking)"
   ]
  },
  {
   "cell_type": "code",
   "execution_count": 35,
   "metadata": {},
   "outputs": [
    {
     "data": {
      "text/plain": [
       "0"
      ]
     },
     "execution_count": 35,
     "metadata": {},
     "output_type": "execute_result"
    }
   ],
   "source": [
    "dt = .05\n",
    "vrep.simxSetFloatingParameter(clientID,\n",
    "        vrep.sim_floatparam_simulation_time_step,\n",
    "        dt, # specify a simulation time step\n",
    "        vrep.simx_opmode_oneshot)\n",
    " \n",
    "# --------------------- Start the simulation\n",
    "# start our simulation\n",
    "vrep.simxStartSimulation(clientID,vrep.simx_opmode_oneshot_wait)"
   ]
  },
  {
   "cell_type": "code",
   "execution_count": 36,
   "metadata": {},
   "outputs": [],
   "source": [
    "current_pos = vrep.simxGetObjectPosition(clientID, EE[1], -1, vrep.simx_opmode_streaming)[1]"
   ]
  },
  {
   "cell_type": "code",
   "execution_count": 31,
   "metadata": {},
   "outputs": [
    {
     "data": {
      "text/plain": [
       "[0.0, 0.0, 0.0]"
      ]
     },
     "execution_count": 31,
     "metadata": {},
     "output_type": "execute_result"
    }
   ],
   "source": [
    "current_pos"
   ]
  },
  {
   "cell_type": "code",
   "execution_count": 37,
   "metadata": {},
   "outputs": [
    {
     "name": "stdout",
     "output_type": "stream",
     "text": [
      "[-1.3423935174942017, 1.0249996185302734, 0.34000134468078613]\n",
      "[0.1735815405845642, 0.17358148097991943, 0.17358151078224182]\n",
      "[-0.18833930790424347, -0.18833935260772705, -0.18833932280540466]\n",
      "[0.07129213213920593, 0.07129210233688354, 0.07129213213920593]\n"
     ]
    },
    {
     "ename": "KeyboardInterrupt",
     "evalue": "",
     "output_type": "error",
     "traceback": [
      "\u001b[0;31m---------------------------------------------------------------------------\u001b[0m",
      "\u001b[0;31mKeyboardInterrupt\u001b[0m                         Traceback (most recent call last)",
      "\u001b[0;32m<ipython-input-37-117780eea3f1>\u001b[0m in \u001b[0;36m<module>\u001b[0;34m()\u001b[0m\n\u001b[1;32m      5\u001b[0m     \u001b[0mvrep\u001b[0m\u001b[0;34m.\u001b[0m\u001b[0msimxSetObjectPosition\u001b[0m\u001b[0;34m(\u001b[0m\u001b[0mclientID\u001b[0m\u001b[0;34m,\u001b[0m \u001b[0mEE\u001b[0m\u001b[0;34m[\u001b[0m\u001b[0;36m1\u001b[0m\u001b[0;34m]\u001b[0m\u001b[0;34m,\u001b[0m \u001b[0;34m-\u001b[0m\u001b[0;36m1\u001b[0m\u001b[0;34m,\u001b[0m \u001b[0mnew_pos\u001b[0m \u001b[0;34m,\u001b[0m\u001b[0mvrep\u001b[0m\u001b[0;34m.\u001b[0m\u001b[0msimx_opmode_oneshot\u001b[0m\u001b[0;34m)\u001b[0m\u001b[0;34m\u001b[0m\u001b[0m\n\u001b[1;32m      6\u001b[0m     \u001b[0mprint\u001b[0m\u001b[0;34m(\u001b[0m\u001b[0mvrep\u001b[0m\u001b[0;34m.\u001b[0m\u001b[0msimxGetObjectPosition\u001b[0m\u001b[0;34m(\u001b[0m\u001b[0mclientID\u001b[0m\u001b[0;34m,\u001b[0m \u001b[0mEE\u001b[0m\u001b[0;34m[\u001b[0m\u001b[0;36m1\u001b[0m\u001b[0;34m]\u001b[0m\u001b[0;34m,\u001b[0m \u001b[0;34m-\u001b[0m\u001b[0;36m1\u001b[0m\u001b[0;34m,\u001b[0m \u001b[0mvrep\u001b[0m\u001b[0;34m.\u001b[0m\u001b[0msimx_opmode_streaming\u001b[0m\u001b[0;34m)\u001b[0m\u001b[0;34m[\u001b[0m\u001b[0;36m1\u001b[0m\u001b[0;34m]\u001b[0m\u001b[0;34m)\u001b[0m\u001b[0;34m\u001b[0m\u001b[0m\n\u001b[0;32m----> 7\u001b[0;31m     \u001b[0mtime\u001b[0m\u001b[0;34m.\u001b[0m\u001b[0msleep\u001b[0m\u001b[0;34m(\u001b[0m\u001b[0;36m2\u001b[0m\u001b[0;34m)\u001b[0m\u001b[0;34m\u001b[0m\u001b[0m\n\u001b[0m\u001b[1;32m      8\u001b[0m \u001b[0;34m\u001b[0m\u001b[0m\n",
      "\u001b[0;31mKeyboardInterrupt\u001b[0m: "
     ]
    }
   ],
   "source": [
    "start_time = time.time()\n",
    "current_pos = np.array(current_pos)\n",
    "while(time.time() - start_time <= 15):\n",
    "    new_pos = current_pos + 0.2*np.sin(time.time()*2)\n",
    "    vrep.simxSetObjectPosition(clientID, EE[1], -1, new_pos ,vrep.simx_opmode_oneshot)\n",
    "    print(vrep.simxGetObjectPosition(clientID, EE[1], -1, vrep.simx_opmode_streaming)[1])\n",
    "    time.sleep(2)\n",
    "    "
   ]
  }
 ],
 "metadata": {
  "kernelspec": {
   "display_name": "Python 3",
   "language": "python",
   "name": "python3"
  },
  "language_info": {
   "codemirror_mode": {
    "name": "ipython",
    "version": 3
   },
   "file_extension": ".py",
   "mimetype": "text/x-python",
   "name": "python",
   "nbconvert_exporter": "python",
   "pygments_lexer": "ipython3",
   "version": "3.6.4"
  }
 },
 "nbformat": 4,
 "nbformat_minor": 2
}
