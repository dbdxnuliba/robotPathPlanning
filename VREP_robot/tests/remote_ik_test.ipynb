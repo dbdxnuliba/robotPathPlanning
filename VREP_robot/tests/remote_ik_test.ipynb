{
 "cells": [
  {
   "cell_type": "code",
   "execution_count": 1,
   "metadata": {},
   "outputs": [],
   "source": [
    "#puts above directory into the path\n",
    "import sys\n",
    "sys.path.append(\"..\")\n",
    "import vrep"
   ]
  },
  {
   "cell_type": "code",
   "execution_count": 2,
   "metadata": {},
   "outputs": [],
   "source": [
    "import numpy as np\n",
    "import time"
   ]
  },
  {
   "cell_type": "code",
   "execution_count": 3,
   "metadata": {},
   "outputs": [],
   "source": [
    "class VREP_Environement():\n",
    "    ''' This object defines a VREP environment '''\n",
    "    def __init__(self, synchronous = False, dt = 0.05):\n",
    "        self.dt = dt\n",
    "        self.synchronous = synchronous\n",
    "        self.robots_connected = 0\n",
    "        self.robot_names = []\n",
    "        self.handles_init = None\n",
    "        self.clientID = None\n",
    "\n",
    "        #Close any open connections\n",
    "        vrep.simxFinish(-1)\n",
    "        \n",
    "        #Initiate connection to server\n",
    "        self.connectToServer()\n",
    "\n",
    "    def connectToServer(self):\n",
    "        self.clientID = vrep.simxStart('127.0.0.1', 19997, True, True, 500, 5)\n",
    "        \n",
    "        if self.clientID != -1: # if we connected successfully\n",
    "            print ('Connected to remote API server')\n",
    "            \n",
    "        #Setup synchronous mode or not\n",
    "        if self.synchronous == True:\n",
    "            print(\"In synchronous mode\")\n",
    "            vrep.simxSynchronous(self.clientID, True)\n",
    "\n",
    "    def add_robot(self, robot_class):\n",
    "        self.robots_connected = self.robots_connected + 1\n",
    "        \n",
    "        #Vrep env class stuff\n",
    "        self.robot_names.append(robot_class.robot_name)\n",
    "        \n",
    "        #robot_class stuff\n",
    "        robot_class.clientID = self.clientID\n",
    "        robot_class.get_handles()\n",
    "        \n",
    "        #Add robot to class attributes\n",
    "        setattr(self, robot_class.robot_name, robot_class)\n",
    "        \n",
    "    def start_simulation(self):\n",
    "        if self.robots_connected == 0:\n",
    "            print(\"no robots connected, simulation not started\")\n",
    "        else:\n",
    "            # Set up streaming\n",
    "            print(\"{} robot(s) connect: {}\".format(self.robots_connected, self.robot_names))\n",
    "            vrep.simxSetFloatingParameter(\n",
    "                self.clientID,\n",
    "                vrep.sim_floatparam_simulation_time_step,\n",
    "                self.dt, # specify a simulation time stept\n",
    "                vrep.simx_opmode_oneshot)\n",
    "        \n",
    "            # Start the simulation\n",
    "            #vrep.simxStartSimulation(self.clientID,vrep.simx_opmode_blocking) #to increase loop speed mode is changed.\n",
    "            vrep.simxStartSimulation(self.clientID,vrep.simx_opmode_oneshot_wait)\n",
    "\n",
    "\n",
    "    def shutdown(self):\n",
    "        vrep.simxStopSimulation(self.clientID, vrep.simx_opmode_oneshot)\n",
    "        vrep.simxFinish(self.clientID)\n"
   ]
  },
  {
   "cell_type": "code",
   "execution_count": 4,
   "metadata": {},
   "outputs": [],
   "source": [
    "class VREP_Robot():\n",
    "    '''This object defines the robots in the environment'''\n",
    "    def __init__(self, robot_name, handle_names, connection_type = 'nonblocking'):\n",
    "        self.robot_name = robot_name\n",
    "        self.handle_names = handle_names\n",
    "        self.handles = None\n",
    "        self.num_poses = len(handle_names) \n",
    "        self.positions = np.ones([self.num_poses,3]) #xyz\n",
    "        self.orientations = np.ones([self.num_poses,4]) #xyzw\n",
    "        self.connection_type = connection_type\n",
    "        self.clientID = None\n",
    "        \n",
    "        #Connection type for object grabbing/setting\n",
    "        if self.connection_type == 'blocking':\n",
    "            self.opmode = vrep.simx_opmode_blocking\n",
    "        elif self.connection_type == 'nonblocking':\n",
    "            self.opmode = vrep.simx_opmode_oneshot\n",
    "        \n",
    "    def get_handles(self):\n",
    "        self.handles = [vrep.simxGetObjectHandle(self.clientID,\n",
    "            name, vrep.simx_opmode_blocking)[1] for name in self.handle_names]\n",
    "        \n",
    "    def setObjectPosition(self, object_name, cartesian_position):\n",
    "        if self.clientID == None:\n",
    "            print(\"Robot not attached to VREP environment\")\n",
    "        else:\n",
    "            vrep.simxSetObjectPosition(\n",
    "                self.clientID,\n",
    "                object_name,\n",
    "                -1,# Setting the absolute position\n",
    "                position=cartesian_position,\n",
    "                operationMode=self.opmode\n",
    "                )\n",
    "            \n",
    "    def setObjectQuaternion(self, object_name, quaternion):\n",
    "        if self.clientID == None:\n",
    "            print(\"Robot not attached to VREP environment\")\n",
    "        else:\n",
    "            vrep.simxSetObjectQuaternion(\n",
    "                self.clientID,\n",
    "                object_name,\n",
    "                vrep.sim_handle_parent,# Setting the absolute position\n",
    "                quaternion, #(x, y, z, w)\n",
    "                operationMode = self.opmode\n",
    "                )\n",
    "\n",
    "    def getObjectPosition(self, object_name):\n",
    "        if self.clientID == None:\n",
    "            print(\"Robot not attached to VREP environment\")\n",
    "        else:\n",
    "            cartesian_position = vrep.simxGetObjectPosition(\n",
    "                self.clientID,\n",
    "                object_name,\n",
    "                -1,# Setting the absolute position\n",
    "                operationMode = self.opmode\n",
    "                )\n",
    "        return cartesian_position\n",
    "    \n",
    "    def getObjectOrientation(self, object_name):\n",
    "        if self.clientID == None:\n",
    "            print(\"Robot not attached to VREP environment\")\n",
    "        else:\n",
    "            quaternion = vrep.simxGetObjectQuaternion(\n",
    "                self.clientID,\n",
    "                object_name,\n",
    "                -1,# Setting the absolute position\n",
    "                operationMode = self.opmode\n",
    "                )\n",
    "        return quaternion"
   ]
  },
  {
   "cell_type": "code",
   "execution_count": 5,
   "metadata": {},
   "outputs": [],
   "source": [
    "# http://www.coppeliarobotics.com/helpFiles/en/remoteApiFunctionsPython.htm#simxSetObjectQuaternion\n",
    "\n",
    "#To use classes above, open vrep scene (robot.ttt) first then you can run code below\n",
    "\n",
    "# Availalble commands \n",
    "# vrep_env.robot.getObjectPosition\n",
    "# vrep_env.robot.getObjectOrientation\n",
    "# vrep_env.robot.setObjectPosition\n",
    "# vrep_env.robot.setObjectQuaternion\n",
    "# vrep_env.robot.positions #xyz all positions in robot, dim(num joints/frames, 3)\n",
    "# vrep_env.robot.orientations #xyzw quaternion i think, all orientations in robot, dim(num joints/frames, 4)\n",
    "# vrep_env.robot.connection_type\n",
    "# vrep_env.robot.handle_names\n",
    "# vrep_env.add_robot() - is used to add robots to the environment, must be done before starting simulation\n",
    "# vrep_env.start_simulation()\n",
    "# vrep_env.shutdown() #not working right now\n",
    "\n",
    "# Each command to the vrep server requires an operation mode (blocking, oneshot, etc...), for setting things up\n",
    "# use blocking mode. This makes sure things are connected etc before moving forward. Things like getting/setting information\n",
    "# can be used in async mode. This is vrep_env.robot.connection_type."
   ]
  },
  {
   "cell_type": "code",
   "execution_count": 53,
   "metadata": {},
   "outputs": [
    {
     "name": "stdout",
     "output_type": "stream",
     "text": [
      "Connected to remote API server\n"
     ]
    }
   ],
   "source": [
    "vrep_env = VREP_Environement()"
   ]
  },
  {
   "cell_type": "code",
   "execution_count": 54,
   "metadata": {},
   "outputs": [],
   "source": [
    "#robot_handles = ['pose_j0', 'pose_j1']\n",
    "#vrep_env.add_robot(VREP_Robot('ik_robot', robot_handles))\n",
    "\n",
    "robot_handles  = ['pose_j0', 'pose_j1', 'pose_j2', 'pose_j3', 'pose_j4', 'pose_j5', 'pose_j6', 'pose_j7']\n",
    "vrep_env.add_robot(VREP_Robot('robot', robot_handles))\n",
    "\n",
    "# robot_handles  = ['joint1', 'joint2', 'joint3', 'joint4', 'joint5', 'joint6', 'joint7']\n",
    "# vrep_env.add_robot(VREP_Robot('robot', robot_handles))\n",
    "\n",
    "# ik_handles = ['ik_joint1', 'ik_joint2', 'ik_joint3', 'ik_joint4', 'ik_joint5', 'ik_joint6', 'ik_joint7','kinematicsTest_manipulatorSphere']\n",
    "# vrep_env.add_robot(VREP_Robot('ik_robot', ik_handles))"
   ]
  },
  {
   "cell_type": "code",
   "execution_count": 55,
   "metadata": {},
   "outputs": [
    {
     "name": "stdout",
     "output_type": "stream",
     "text": [
      "1 robot(s) connect: ['robot']\n"
     ]
    }
   ],
   "source": [
    "#Add all robot before starting the simulation - once robots are added start simulation\n",
    "vrep_env.start_simulation()"
   ]
  },
  {
   "cell_type": "code",
   "execution_count": 58,
   "metadata": {},
   "outputs": [
    {
     "name": "stdout",
     "output_type": "stream",
     "text": [
      "['pose_j0', 'pose_j1', 'pose_j2', 'pose_j3', 'pose_j4', 'pose_j5', 'pose_j6', 'pose_j7']\n"
     ]
    }
   ],
   "source": [
    "print(vrep_env.robot.handle_names)\n",
    "for i in range(len(robot_handles)):\n",
    "    vrep_env.robot.setObjectPosition(vrep_env.robot.handles[i], [0])"
   ]
  },
  {
   "cell_type": "code",
   "execution_count": 59,
   "metadata": {},
   "outputs": [
    {
     "name": "stdout",
     "output_type": "stream",
     "text": [
      "(0, [0.0, 0.0, 0.0])\n",
      "(0, [0.0, 0.0, 0.0])\n",
      "(0, [0.0, 0.0, 0.0])\n",
      "(0, [0.0, 0.0, 0.0])\n",
      "(0, [0.0, 0.0, 0.0])\n",
      "(0, [0.0, 0.0, 0.0])\n",
      "(0, [0.0, 0.0, 0.0])\n",
      "(0, [0.0, 0.0, 0.0])\n"
     ]
    }
   ],
   "source": [
    "for i in range(len(robot_handles)):\n",
    "    print(vrep_env.robot.getObjectPosition(vrep_env.robot.handles[i]))"
   ]
  },
  {
   "cell_type": "code",
   "execution_count": 40,
   "metadata": {},
   "outputs": [],
   "source": []
  },
  {
   "cell_type": "code",
   "execution_count": null,
   "metadata": {},
   "outputs": [],
   "source": []
  },
  {
   "cell_type": "code",
   "execution_count": null,
   "metadata": {},
   "outputs": [],
   "source": []
  },
  {
   "cell_type": "code",
   "execution_count": null,
   "metadata": {},
   "outputs": [],
   "source": []
  },
  {
   "cell_type": "code",
   "execution_count": null,
   "metadata": {},
   "outputs": [],
   "source": []
  },
  {
   "cell_type": "code",
   "execution_count": null,
   "metadata": {},
   "outputs": [],
   "source": []
  },
  {
   "cell_type": "code",
   "execution_count": null,
   "metadata": {},
   "outputs": [],
   "source": []
  },
  {
   "cell_type": "code",
   "execution_count": null,
   "metadata": {},
   "outputs": [],
   "source": []
  },
  {
   "cell_type": "code",
   "execution_count": null,
   "metadata": {},
   "outputs": [],
   "source": []
  },
  {
   "cell_type": "code",
   "execution_count": null,
   "metadata": {},
   "outputs": [],
   "source": [
    "print(vrep_env.ik_robot.handle_names)"
   ]
  },
  {
   "cell_type": "code",
   "execution_count": null,
   "metadata": {},
   "outputs": [],
   "source": []
  },
  {
   "cell_type": "code",
   "execution_count": null,
   "metadata": {},
   "outputs": [],
   "source": [
    "for i in range(len(ik_handles)):\n",
    "    print(vrep_env.ik_robot.getObjectPosition(vrep_env.ik_robot.handles[i]))"
   ]
  },
  {
   "cell_type": "code",
   "execution_count": null,
   "metadata": {},
   "outputs": [],
   "source": [
    "for i in range(len(ik_handles)):\n",
    "    print(vrep_env.ik_robot.getObjectOrientation(vrep_env.ik_robot.handles[i])[1])"
   ]
  },
  {
   "cell_type": "code",
   "execution_count": null,
   "metadata": {},
   "outputs": [],
   "source": [
    "vrep_env.ik_robot.setObjectPosition(vrep_env.ik_robot.handles[-1], [.1,0,0])"
   ]
  },
  {
   "cell_type": "code",
   "execution_count": null,
   "metadata": {},
   "outputs": [],
   "source": [
    "for i in range(len(robot_handles)):\n",
    "    vrep_env.robot.setObjectQuaternion(vrep_env.robot.handles[i],vrep_env.ik_robot.getObjectOrientation(vrep_env.ik_robot.handles[i])[1])"
   ]
  },
  {
   "cell_type": "code",
   "execution_count": null,
   "metadata": {},
   "outputs": [],
   "source": [
    "vrep_env.shutdown() #not working right now"
   ]
  },
  {
   "cell_type": "code",
   "execution_count": null,
   "metadata": {},
   "outputs": [],
   "source": []
  },
  {
   "cell_type": "code",
   "execution_count": null,
   "metadata": {},
   "outputs": [],
   "source": []
  },
  {
   "cell_type": "code",
   "execution_count": null,
   "metadata": {},
   "outputs": [],
   "source": []
  },
  {
   "cell_type": "code",
   "execution_count": null,
   "metadata": {},
   "outputs": [],
   "source": []
  },
  {
   "cell_type": "code",
   "execution_count": null,
   "metadata": {},
   "outputs": [],
   "source": []
  },
  {
   "cell_type": "code",
   "execution_count": null,
   "metadata": {},
   "outputs": [],
   "source": [
    "EE = vrep.simxGetObjectHandle(clientID, 'kinematicsTest_manipulatorSphere', vrep.simx_opmode_blocking)\n",
    "current_pos = vrep.simxGetObjectPosition(clientID, EE[1], -1, vrep.simx_opmode_streaming)[1]"
   ]
  },
  {
   "cell_type": "code",
   "execution_count": null,
   "metadata": {},
   "outputs": [],
   "source": [
    "vrep.simxFinish(-1)\n",
    "clientID = vrep.simxStart('127.0.0.1', 19997, True, True, 500, 5) \n",
    "if clientID != -1: # if we connected successfully\n",
    "        print ('Connected to remote API server')"
   ]
  },
  {
   "cell_type": "code",
   "execution_count": null,
   "metadata": {},
   "outputs": [],
   "source": [
    "EE = vrep.simxGetObjectHandle(clientID, 'kinematicsTest_manipulatorSphere', vrep.simx_opmode_blocking)"
   ]
  },
  {
   "cell_type": "code",
   "execution_count": null,
   "metadata": {},
   "outputs": [],
   "source": [
    "EE"
   ]
  },
  {
   "cell_type": "code",
   "execution_count": null,
   "metadata": {},
   "outputs": [],
   "source": [
    "dt = .05\n",
    "vrep.simxSetFloatingParameter(clientID,\n",
    "        vrep.sim_floatparam_simulation_time_step,\n",
    "        dt, # specify a simulation time step\n",
    "        vrep.simx_opmode_oneshot)\n",
    " \n",
    "# --------------------- Start the simulation\n",
    "# start our simulation\n",
    "vrep.simxStartSimulation(clientID,vrep.simx_opmode_oneshot_wait)"
   ]
  },
  {
   "cell_type": "code",
   "execution_count": null,
   "metadata": {},
   "outputs": [],
   "source": [
    "current_pos = vrep.simxGetObjectPosition(clientID, EE[1], -1, vrep.simx_opmode_streaming)[1]"
   ]
  },
  {
   "cell_type": "code",
   "execution_count": null,
   "metadata": {},
   "outputs": [],
   "source": [
    "current_pos"
   ]
  },
  {
   "cell_type": "code",
   "execution_count": null,
   "metadata": {},
   "outputs": [],
   "source": [
    "start_time = time.time()\n",
    "current_pos = np.array(current_pos)\n",
    "while(time.time() - start_time <= 15):\n",
    "    new_pos = current_pos + 0.2*np.sin(time.time()*2)\n",
    "    vrep.simxSetObjectPosition(clientID, EE[1], -1, new_pos ,vrep.simx_opmode_oneshot)\n",
    "    print(vrep.simxGetObjectPosition(clientID, EE[1], -1, vrep.simx_opmode_streaming)[1])\n",
    "    time.sleep(2)\n",
    "    "
   ]
  }
 ],
 "metadata": {
  "kernelspec": {
   "display_name": "Python 3",
   "language": "python",
   "name": "python3"
  },
  "language_info": {
   "codemirror_mode": {
    "name": "ipython",
    "version": 3
   },
   "file_extension": ".py",
   "mimetype": "text/x-python",
   "name": "python",
   "nbconvert_exporter": "python",
   "pygments_lexer": "ipython3",
   "version": "3.7.0"
  }
 },
 "nbformat": 4,
 "nbformat_minor": 2
}
