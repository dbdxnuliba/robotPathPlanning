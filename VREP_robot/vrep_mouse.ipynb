{
 "cells": [
  {
   "cell_type": "code",
   "execution_count": 1,
   "metadata": {},
   "outputs": [],
   "source": [
    "import sys\n",
    "sys.path.append(\"..\")\n",
    "sys.path.append(\"~/\")\n",
    "import numpy as np\n",
    "import time\n",
    "import vrep\n",
    "import spacenav\n",
    "\n",
    "from vrepRobot import VREP_Environement, VREP_Robot\n",
    "from utils.mouse3d import MouseClient"
   ]
  },
  {
   "cell_type": "code",
   "execution_count": 2,
   "metadata": {
    "scrolled": true
   },
   "outputs": [
    {
     "name": "stdout",
     "output_type": "stream",
     "text": [
      "[0, 0, 0, 0, 0, 0]\n",
      "Opening connection to SpaceNav driver ...\n",
      "... connection established.\n"
     ]
    }
   ],
   "source": [
    "mouse = MouseClient()\n",
    "mouse.run()\n",
    "print(mouse.event[:])\n",
    "\n",
    "#mouse.stop()"
   ]
  },
  {
   "cell_type": "code",
   "execution_count": 3,
   "metadata": {},
   "outputs": [
    {
     "name": "stdout",
     "output_type": "stream",
     "text": [
      "Connected to remote API server\n"
     ]
    }
   ],
   "source": [
    "vrep_env = VREP_Environement()\n",
    "\n",
    "#Adding robots to scene\n",
    "ik_handles = ['ik_joint1', 'ik_joint2', 'ik_joint3', 'ik_joint4', 'ik_joint5', 'ik_joint6', 'ik_joint7', 'ik_ee', 'kinematicsTest_IKTip', 'ik_rf7_static']\n",
    "vrep_env.add_robot(VREP_Robot('ik_robot', ik_handles))\n",
    "\n",
    "viz_handles = ['viz_joint1', 'viz_joint2', 'viz_joint3', 'viz_joint4', 'viz_joint5', 'viz_joint6', 'viz_joint7']\n",
    "vrep_env.add_robot(VREP_Robot('viz_robot', viz_handles))\n",
    "\n",
    "\n"
   ]
  },
  {
   "cell_type": "code",
   "execution_count": 4,
   "metadata": {},
   "outputs": [],
   "source": [
    "vrep_env.ik_robot.setObjectPosition(vrep_env.ik_robot.handles[7], [0,0,0], relative2 = 'ik_rf7_static' )\n",
    "vrep_env.ik_robot.setObjectOrientation(vrep_env.ik_robot.handles[7], [0,0,0], relative2 = 'ik_rf7_static' )\n",
    "\n",
    "vrep_env.ik_robot.setObjectPosition(vrep_env.ik_robot.handles[8], [0,0,0], relative2 = 'ik_rf7_static' )\n",
    "vrep_env.ik_robot.setObjectOrientation(vrep_env.ik_robot.handles[8], [0,0,0], relative2 = 'ik_rf7_static' )\n",
    "\n"
   ]
  },
  {
   "cell_type": "code",
   "execution_count": 5,
   "metadata": {},
   "outputs": [
    {
     "name": "stdout",
     "output_type": "stream",
     "text": [
      "2 robot(s) connected: ['ik_robot', 'viz_robot']\n"
     ]
    }
   ],
   "source": [
    "#Add all robot before starting the simulation - once robots are added start simulation\n",
    "vrep_env.start_simulation()"
   ]
  },
  {
   "cell_type": "code",
   "execution_count": 6,
   "metadata": {},
   "outputs": [
    {
     "ename": "KeyboardInterrupt",
     "evalue": "",
     "output_type": "error",
     "traceback": [
      "\u001b[0;31m---------------------------------------------------------------------------\u001b[0m",
      "\u001b[0;31mKeyboardInterrupt\u001b[0m                         Traceback (most recent call last)",
      "\u001b[0;32m<ipython-input-6-984faf732269>\u001b[0m in \u001b[0;36m<module>\u001b[0;34m\u001b[0m\n\u001b[1;32m     27\u001b[0m \u001b[0;34m\u001b[0m\u001b[0m\n\u001b[1;32m     28\u001b[0m \u001b[0;34m\u001b[0m\u001b[0m\n\u001b[0;32m---> 29\u001b[0;31m     \u001b[0mtime\u001b[0m\u001b[0;34m.\u001b[0m\u001b[0msleep\u001b[0m\u001b[0;34m(\u001b[0m\u001b[0;36m0.01\u001b[0m\u001b[0;34m)\u001b[0m\u001b[0;34m\u001b[0m\u001b[0;34m\u001b[0m\u001b[0m\n\u001b[0m\u001b[1;32m     30\u001b[0m \u001b[0;34m\u001b[0m\u001b[0m\n",
      "\u001b[0;31mKeyboardInterrupt\u001b[0m: "
     ]
    }
   ],
   "source": [
    "position = np.zeros(3)\n",
    "orientation = np.zeros(3)\n",
    "\n",
    "while True:\n",
    "    #x,z,y,rx,rz,ry, meters and radians\n",
    "    #0-500 regualr scaling on the mouse, max speed is 5 mm update\n",
    "    #5 degs -> np.pi/180 * 5\n",
    "    position[0] = position[0] + mouse.event[0] * .000001\n",
    "    position[1] = position[1] + mouse.event[2] * .000001\n",
    "    position[2] = position[2] + mouse.event[1] * .000001\n",
    "    orientation[0] = orientation[0] + 0.001 * mouse.event[3] * np.pi/180\n",
    "    orientation[1] = orientation[1] + 0.001 * mouse.event[5] * np.pi/180\n",
    "    orientation[2] = orientation[2] + 0.001 * mouse.event[4] * np.pi/180\n",
    "    \n",
    "    position[position>0.1] = 0.1\n",
    "    position[position<-0.1] = -0.1\n",
    "    orientation[orientation>np.pi/2] = np.pi/2\n",
    "    orientation[orientation<-np.pi/2] = -np.pi/2\n",
    "    \n",
    "    vrep_env.ik_robot.setObjectPosition(vrep_env.ik_robot.handles[7], position, relative2 = 'ik_rf7_static' )\n",
    "    vrep_env.ik_robot.setObjectOrientation(vrep_env.ik_robot.handles[7], orientation, relative2 = 'ik_rf7_static' )\n",
    "    \n",
    "    \n",
    "    for i in range(len(viz_handles)):\n",
    "        joint_pos = vrep_env.ik_robot.getJointPosition(vrep_env.ik_robot.handles[i])[1]\n",
    "        vrep_env.viz_robot.setJointPosition(vrep_env.viz_robot.handles[i], joint_pos)\n",
    "    \n",
    "\n",
    "    time.sleep(0.01)\n",
    "    "
   ]
  },
  {
   "cell_type": "code",
   "execution_count": null,
   "metadata": {},
   "outputs": [],
   "source": []
  }
 ],
 "metadata": {
  "kernelspec": {
   "display_name": "Python 3",
   "language": "python",
   "name": "python3"
  },
  "language_info": {
   "codemirror_mode": {
    "name": "ipython",
    "version": 3
   },
   "file_extension": ".py",
   "mimetype": "text/x-python",
   "name": "python",
   "nbconvert_exporter": "python",
   "pygments_lexer": "ipython3",
   "version": "3.6.7"
  }
 },
 "nbformat": 4,
 "nbformat_minor": 2
}
