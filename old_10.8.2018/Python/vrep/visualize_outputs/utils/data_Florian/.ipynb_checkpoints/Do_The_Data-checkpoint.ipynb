{
 "cells": [
  {
   "cell_type": "code",
   "execution_count": 20,
   "metadata": {},
   "outputs": [],
   "source": [
    "import numpy as np\n",
    "import matplotlib.pyplot as plt\n",
    "import sys\n",
    "sys.path.insert(0, '../')\n",
    "\n",
    "from forwardKinematics import robot_config"
   ]
  },
  {
   "cell_type": "code",
   "execution_count": 21,
   "metadata": {},
   "outputs": [],
   "source": [
    "myRobot = robot_config()"
   ]
  },
  {
   "cell_type": "code",
   "execution_count": 24,
   "metadata": {},
   "outputs": [
    {
     "name": "stdout",
     "output_type": "stream",
     "text": [
      "Generating transform function for EE\n"
     ]
    },
    {
     "ename": "FileNotFoundError",
     "evalue": "[Errno 2] No such file or directory: 'mriArm_config/EE.T'",
     "output_type": "error",
     "traceback": [
      "\u001b[0;31m---------------------------------------------------------------------------\u001b[0m",
      "\u001b[0;31mFileNotFoundError\u001b[0m                         Traceback (most recent call last)",
      "\u001b[0;32m<ipython-input-24-5572dcb01e63>\u001b[0m in \u001b[0;36m<module>\u001b[0;34m()\u001b[0m\n\u001b[1;32m      6\u001b[0m     \u001b[0mtarget_jointAngles\u001b[0m \u001b[0;34m=\u001b[0m \u001b[0mnp\u001b[0m\u001b[0;34m.\u001b[0m\u001b[0mload\u001b[0m\u001b[0;34m(\u001b[0m\u001b[0;34m'data{}/jointControl_target_jointAngles.npy'\u001b[0m\u001b[0;34m.\u001b[0m\u001b[0mformat\u001b[0m\u001b[0;34m(\u001b[0m\u001b[0mi\u001b[0m\u001b[0;34m+\u001b[0m\u001b[0;36m1\u001b[0m\u001b[0;34m)\u001b[0m\u001b[0;34m)\u001b[0m\u001b[0;34m\u001b[0m\u001b[0m\n\u001b[1;32m      7\u001b[0m \u001b[0;34m\u001b[0m\u001b[0m\n\u001b[0;32m----> 8\u001b[0;31m     \u001b[0mmyRobot\u001b[0m\u001b[0;34m.\u001b[0m\u001b[0mTx\u001b[0m\u001b[0;34m(\u001b[0m\u001b[0;34m'EE'\u001b[0m\u001b[0;34m,\u001b[0m \u001b[0mtarget_jointAngles\u001b[0m\u001b[0;34m)\u001b[0m\u001b[0;34m\u001b[0m\u001b[0m\n\u001b[0m\u001b[1;32m      9\u001b[0m \u001b[0;34m\u001b[0m\u001b[0m\n",
      "\u001b[0;32m~/Desktop/robotPathPlanning/Python/vrep/visualize_outputs/utils/forwardKinematics.py\u001b[0m in \u001b[0;36mTx\u001b[0;34m(self, name, q, x)\u001b[0m\n\u001b[1;32m    148\u001b[0m             \u001b[0mprint\u001b[0m\u001b[0;34m(\u001b[0m\u001b[0;34m'Generating transform function for %s'\u001b[0m \u001b[0;34m%\u001b[0m \u001b[0mname\u001b[0m\u001b[0;34m)\u001b[0m\u001b[0;34m\u001b[0m\u001b[0m\n\u001b[1;32m    149\u001b[0m             self._Tx[name] = self._calc_Tx(\n\u001b[0;32m--> 150\u001b[0;31m                 name, x=x)\n\u001b[0m\u001b[1;32m    151\u001b[0m         \u001b[0mparameters\u001b[0m \u001b[0;34m=\u001b[0m \u001b[0mtuple\u001b[0m\u001b[0;34m(\u001b[0m\u001b[0mq\u001b[0m\u001b[0;34m)\u001b[0m \u001b[0;34m+\u001b[0m \u001b[0mtuple\u001b[0m\u001b[0;34m(\u001b[0m\u001b[0mx\u001b[0m\u001b[0;34m)\u001b[0m\u001b[0;34m\u001b[0m\u001b[0m\n\u001b[1;32m    152\u001b[0m         \u001b[0;32mreturn\u001b[0m \u001b[0mself\u001b[0m\u001b[0;34m.\u001b[0m\u001b[0m_Tx\u001b[0m\u001b[0;34m[\u001b[0m\u001b[0mname\u001b[0m\u001b[0;34m]\u001b[0m\u001b[0;34m(\u001b[0m\u001b[0;34m*\u001b[0m\u001b[0mparameters\u001b[0m\u001b[0;34m)\u001b[0m\u001b[0;34m[\u001b[0m\u001b[0;34m:\u001b[0m\u001b[0;34m-\u001b[0m\u001b[0;36m1\u001b[0m\u001b[0;34m]\u001b[0m\u001b[0;34m.\u001b[0m\u001b[0mflatten\u001b[0m\u001b[0;34m(\u001b[0m\u001b[0;34m)\u001b[0m\u001b[0;34m\u001b[0m\u001b[0m\n",
      "\u001b[0;32m~/Desktop/robotPathPlanning/Python/vrep/visualize_outputs/utils/forwardKinematics.py\u001b[0m in \u001b[0;36m_calc_Tx\u001b[0;34m(self, name, x, lambdify)\u001b[0m\n\u001b[1;32m    304\u001b[0m             \u001b[0;31m# save to file\u001b[0m\u001b[0;34m\u001b[0m\u001b[0;34m\u001b[0m\u001b[0m\n\u001b[1;32m    305\u001b[0m             cloudpickle.dump(Tx, open('%s/%s.T' %\n\u001b[0;32m--> 306\u001b[0;31m                                       (self.config_folder, name), 'wb'))\n\u001b[0m\u001b[1;32m    307\u001b[0m \u001b[0;34m\u001b[0m\u001b[0m\n\u001b[1;32m    308\u001b[0m         \u001b[0;32mif\u001b[0m \u001b[0mlambdify\u001b[0m \u001b[0;32mis\u001b[0m \u001b[0;32mFalse\u001b[0m\u001b[0;34m:\u001b[0m\u001b[0;34m\u001b[0m\u001b[0m\n",
      "\u001b[0;31mFileNotFoundError\u001b[0m: [Errno 2] No such file or directory: 'mriArm_config/EE.T'"
     ]
    }
   ],
   "source": [
    "#Go through all the data and get the errors\n",
    "\n",
    "for i in range(4):\n",
    "    measured_EE_orientation = np.load('data{}/jointControl_measurement_EE_orientation.npy'.format(i+1))\n",
    "    measured_EE_position = np.load('data{}/jointControl_measurement_EE_position.npy'.format(i+1))\n",
    "    target_jointAngles = np.load('data{}/jointControl_target_jointAngles.npy'.format(i+1))\n",
    "    \n",
    "    myRobot.Tx('EE', target_jointAngles)\n",
    "    "
   ]
  },
  {
   "cell_type": "code",
   "execution_count": 11,
   "metadata": {},
   "outputs": [],
   "source": [
    "measurements_time_all = np.load('jointControl_measurement_times.npy')\n",
    "measurements_jointAngles_all = np.load('jointControl_measurement_jointAngles.npy')\n",
    "measurements_EE_orientation_all = np.load('jointControl_measurement_EE_orientation.npy')\n",
    "measurements_EE_position_all = np.load('jointControl_measurement_EE_position.npy')\n",
    "goal_jointAngleList_output = np.load('jointControl_goal_joint.npy')\n",
    "target_jointAngles_all = np.load('jointControl_target_jointAngles.npy')\n",
    "target_jointAngles_time_all = np.load('jointControl_target_jointAngles_time.npy')\n"
   ]
  },
  {
   "cell_type": "code",
   "execution_count": 16,
   "metadata": {},
   "outputs": [
    {
     "data": {
      "text/plain": [
       "[<matplotlib.lines.Line2D at 0x7f6de43b3358>]"
      ]
     },
     "execution_count": 16,
     "metadata": {},
     "output_type": "execute_result"
    },
    {
     "data": {
      "image/png": "[encoded data removed]",
      "text/plain": [
       "<matplotlib.figure.Figure at 0x7f6de43b3668>"
      ]
     },
     "metadata": {},
     "output_type": "display_data"
    }
   ],
   "source": [
    "\n",
    "#Index are: (run, sample, joint)\n",
    "plt.plot(measurements_time_all[0,:],measurements_jointAngles_all[0,:,1])\n",
    "\n",
    "\n",
    "#Index are: (run, joint, sample)\n",
    "plt.plot(target_jointAngles_time_all[0,:].squeeze(), target_jointAngles_all[0,1,:])"
   ]
  },
  {
   "cell_type": "code",
   "execution_count": null,
   "metadata": {},
   "outputs": [],
   "source": []
  }
 ],
 "metadata": {
  "kernelspec": {
   "display_name": "Python 3",
   "language": "python",
   "name": "python3"
  },
  "language_info": {
   "codemirror_mode": {
    "name": "ipython",
    "version": 3
   },
   "file_extension": ".py",
   "mimetype": "text/x-python",
   "name": "python",
   "nbconvert_exporter": "python",
   "pygments_lexer": "ipython3",
   "version": "3.6.4"
  }
 },
 "nbformat": 4,
 "nbformat_minor": 2
}
