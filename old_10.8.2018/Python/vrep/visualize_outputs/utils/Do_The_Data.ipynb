{
 "cells": [
  {
   "cell_type": "code",
   "execution_count": 1,
   "metadata": {},
   "outputs": [],
   "source": [
    "import numpy as np\n",
    "import matplotlib.pyplot as plt\n",
    "\n",
    "from forwardKinematics import robot_config"
   ]
  },
  {
   "cell_type": "code",
   "execution_count": 63,
   "metadata": {},
   "outputs": [],
   "source": [
    "#---------------------------------------------\n",
    "#Helper functions\n",
    "#---------------------------------------------\n",
    "PI = np.pi\n",
    "def rads2degs(radians):\n",
    "\tdegrees = np.append(radians[0:-1] * 180/PI, radians[-1])\n",
    "\treturn degrees\n",
    "\n",
    "def degs2rads(degrees):\n",
    "\tradians = np.append(degrees[0:-1] * PI/180, degrees[-1])\n",
    "\treturn radians"
   ]
  },
  {
   "cell_type": "code",
   "execution_count": 2,
   "metadata": {},
   "outputs": [],
   "source": [
    "myRobot = robot_config()"
   ]
  },
  {
   "cell_type": "code",
   "execution_count": 77,
   "metadata": {},
   "outputs": [
    {
     "name": "stdout",
     "output_type": "stream",
     "text": [
      "Zero\n",
      "[ 0.012 -0.005  0.335]\n",
      "[ 0.01912203 -0.04219162  0.3316805 ]\n",
      "last one\n",
      "[-0.43112035  0.02057084  0.2222954 ]\n",
      "[0.04516905 0.03357364 0.3470378 ]\n"
     ]
    }
   ],
   "source": [
    "target_EE_position = myRobot.Tx('EE', np.array([0,0,0,0]))*10\n",
    "measured_EE_position = np.load('data_Florian/data1/jointControl_measurement_EE_position.npy')\n",
    "\n",
    "print(\"Zero\")\n",
    "print(target_EE_position)\n",
    "print(measured_EE_position[0,:])\n",
    "\n",
    "target_EE_position = myRobot.Tx('EE', np.array([np.pi/180.0 * -15,5, np.pi/180.0 *5, 0.02]))*10\n",
    "print(\"last one\")\n",
    "print(target_EE_position)\n",
    "print(measured_EE_position[-3,:])\n"
   ]
  },
  {
   "cell_type": "code",
   "execution_count": 24,
   "metadata": {},
   "outputs": [
    {
     "data": {
      "image/png": "[encoded data removed]",
      "text/plain": [
       "<matplotlib.figure.Figure at 0x7fef33ccd160>"
      ]
     },
     "metadata": {},
     "output_type": "display_data"
    }
   ],
   "source": [
    "measurements_time = np.load('data_Florian/data1/jointControl_measurement_times.npy')\n",
    "measurements_jointAngles = np.load('data_Florian/data1/jointControl_measurement_jointAngles.npy')\n",
    "\n",
    "target_trajectory_time = np.load('data_Florian/data1/jointControl_target_jointAngles_time.npy')\n",
    "target_trajectories = np.load('data_Florian/data1/jointControl_target_jointAngles.npy')\n",
    "\n",
    "\n",
    "fig, axis = plt.subplots(2,2)\n",
    "\n",
    "axis[0,0].clear()\n",
    "axis[0,0].plot(measurements_time, measurements_jointAngles[:,0])\n",
    "axis[0,0].plot(target_trajectory_time, target_trajectories[0,:])\n",
    "\n",
    "axis[0,1].clear()\n",
    "axis[0,1].plot(measurements_time, measurements_jointAngles[:,1])\n",
    "axis[0,1].plot(target_trajectory_time, target_trajectories[1,:])\n",
    "\n",
    "\n",
    "axis[1,0].clear()\n",
    "axis[1,0].plot(measurements_time, measurements_jointAngles[:,2])\n",
    "axis[1,0].plot(target_trajectory_time, target_trajectories[2,:])\n",
    "\n",
    "axis[1,1].clear()\n",
    "axis[1,1].plot(measurements_time, measurements_jointAngles[:,3])\n",
    "axis[1,1].plot(target_trajectory_time, target_trajectories[3,:])\n",
    "\n",
    "\n",
    "plt.show()"
   ]
  },
  {
   "cell_type": "code",
   "execution_count": 28,
   "metadata": {},
   "outputs": [
    {
     "name": "stdout",
     "output_type": "stream",
     "text": [
      "[ 0.01238662 -0.00325354  0.33301078]\n",
      "[0.05182632 0.10164911 0.52811746]\n"
     ]
    }
   ],
   "source": [
    "joint_measured_EE_position = myRobot.Tx('EE', measurements_jointAngles[0,:])*10\n",
    "print(joint_measured_EE_position)\n",
    "\n",
    "joint_measured_EE_position = myRobot.Tx('EE', measurements_jointAngles[-2,:])*10\n",
    "print(joint_measured_EE_position)"
   ]
  },
  {
   "cell_type": "code",
   "execution_count": 18,
   "metadata": {},
   "outputs": [
    {
     "name": "stdout",
     "output_type": "stream",
     "text": [
      "Position Errors: 0.11781440377955074 +/- 0.054774660502043215\n",
      "Orientation Errors: 1.1235489124790223 +/- 0.423489667086611\n"
     ]
    }
   ],
   "source": [
    "#Go through all the data and get the errors\n",
    "\n",
    "error_position = []\n",
    "error_orientation = []\n",
    "\n",
    "for i in range(4):\n",
    "    #measurements are directlyf rom optitrack coe\n",
    "    measured_EE_orientation = np.load('data_Florian/data{}/jointControl_measurement_EE_orientation.npy'.format(i+1))\n",
    "    measured_EE_position = np.load('data_Florian/data{}/jointControl_measurement_EE_position.npy'.format(i+1))\n",
    "    goal_jointAngles = np.load('data_Florian/data{}/jointControl_goal_joint.npy'.format(i+1))\n",
    "        \n",
    "    target_EE_position = myRobot.Tx('EE', goal_jointAngles)*10\n",
    "    target_EE_orientation = myRobot.Te('EE', goal_jointAngles)\n",
    "    \n",
    "    \n",
    "    error_position.append(np.linalg.norm(target_EE_position-measured_EE_position[-1,:]))\n",
    "    error_orientation.append(np.mean(np.abs(180.0/np.pi * target_EE_orientation - 180.0/np.pi * measured_EE_orientation[-1,:])))\n",
    "    \n",
    "error_position = np.array(error_position)\n",
    "error_orientation = np.array(error_orientation)\n",
    "\n",
    "print(\"Position Errors: {} +/- {}\".format(np.mean(error_position), np.std(error_position)))\n",
    "\n",
    "print(\"Orientation Errors: {} +/- {}\".format(np.mean(error_orientation), np.std(error_orientation)))\n"
   ]
  },
  {
   "cell_type": "code",
   "execution_count": 32,
   "metadata": {},
   "outputs": [],
   "source": [
    "positions_0 = [];\n",
    "positions_1 = [];\n",
    "positions_2 = [];\n",
    "positions_3 = [];\n",
    "\n",
    "orientation_0 = [];\n",
    "orientation_1 = [];\n",
    "orientation_2 = [];\n",
    "orientation_3 = [];\n",
    "\n",
    "measured_jointAngles_0 = [];\n",
    "measured_jointAngles_1 = [];\n",
    "measured_jointAngles_2 = [];\n",
    "measured_jointAngles_3 = [];\n",
    "\n",
    "for i in range(40):\n",
    "    #measurements are directlyf rom optitrack coe\n",
    "    measured_EE_orientation = np.load('data_Florian/data{}/jointControl_measurement_EE_orientation.npy'.format(i+1))\n",
    "    measured_EE_position = np.load('data_Florian/data{}/jointControl_measurement_EE_position.npy'.format(i+1))\n",
    "    measure_jointAngles = np.load('data_Florian/data{}/jointControl_measurement_jointAngles.npy'.format(i+1))\n",
    "            \n",
    "    if i%4 == 0 :\n",
    "        positions_0.append(measured_EE_position[-1,:])\n",
    "        orientation_0.append(measured_EE_position[-1,:])\n",
    "        measured_jointAngles_0.append(measure_jointAngles[-1,:])\n",
    "        \n",
    "    elif i%4 == 1:\n",
    "        positions_1.append(measured_EE_position[-1,:])\n",
    "        orientation_1.append(measured_EE_position[-1,:])\n",
    "        measured_jointAngles_1.append(measure_jointAngles[-1,:])\n",
    "        \n",
    "    elif i%4 == 2:\n",
    "        positions_2.append(measured_EE_position[-1,:])\n",
    "        orientation_2.append(measured_EE_position[-1,:])\n",
    "        measured_jointAngles_2.append(measure_jointAngles[-1,:])\n",
    "        \n",
    "    elif i%4 == 3:\n",
    "        positions_3.append(measured_EE_position[-1,:])\n",
    "        orientation_3.append(measured_EE_position[-1,:])\n",
    "        measured_jointAngles_3.append(measure_jointAngles[-1,:])\n",
    "        \n"
   ]
  },
  {
   "cell_type": "code",
   "execution_count": 98,
   "metadata": {},
   "outputs": [
    {
     "name": "stdout",
     "output_type": "stream",
     "text": [
      "[0.05144785 0.1008881  0.52204348]\n",
      "[-10.05470113   4.82921734  -1.29716862]\n"
     ]
    }
   ],
   "source": [
    "#non scaled, thinking we are inputing meters into fk\n",
    "arm_angles_rads = degs2rads(np.array((-15,5,5,.02))) #right now we want 0.02 meters -> 2 cm\n",
    "EE_position_fk = myRobot.Tx('EE', arm_angles_rads) * 10 # is the scaling factor for units\n",
    "EE_orientation_fk = myRobot.Te('EE', arm_angles_rads)\n",
    "print(EE_position_fk)\n",
    "print(EE_orientation_fk* 180/np.pi)"
   ]
  },
  {
   "cell_type": "code",
   "execution_count": 107,
   "metadata": {},
   "outputs": [
    {
     "name": "stdout",
     "output_type": "stream",
     "text": [
      "[0.02077312 0.04116888 0.22881065]\n",
      "[-10.05470113   4.82921734  -1.29716862]\n"
     ]
    }
   ],
   "source": [
    "#Changing input to fk to decimeters\n",
    "arm_angles_rads = degs2rads(np.array((-15,5,5,.2))) #right now we want 0.02 meters -> 2 cm\n",
    "print(myRobot.Tx('EE', arm_angles_rads))\n",
    "print(myRobot.Te('EE', arm_angles_rads) * 180/np.pi)"
   ]
  },
  {
   "cell_type": "code",
   "execution_count": 137,
   "metadata": {},
   "outputs": [
    {
     "name": "stdout",
     "output_type": "stream",
     "text": [
      "position 0\n",
      " [array([0.04526261, 0.03350658, 0.34689054]), array([4.85954145e-05, 8.83026086e-05, 5.18379255e-05])]\n",
      "[array([ 2.59335659,  1.9197855 , 19.87536366]), array([0.00278431, 0.00505937, 0.00297009])]\n",
      "position 1\n",
      " [array([-0.05099602, -0.0896099 ,  0.32834711]), array([5.18727229e-05, 1.29052788e-04, 4.64341845e-05])]\n",
      "[array([-2.92185699, -5.13426895, 18.81290388]), array([0.00297209, 0.00739418, 0.00266048])]\n",
      "position 2\n",
      " [array([ 0.03977361, -0.02778022,  0.33222251]), array([3.95533555e-04, 2.56252720e-04, 9.19563741e-05])]\n",
      "[array([ 2.27885987, -1.59168924, 19.0349477 ]), array([0.0226624 , 0.0146822 , 0.00526871])]\n",
      "position 3\n",
      " [array([ 0.04180319, -0.02422064,  0.34712392]), array([3.99476098e-04, 2.63102872e-04, 5.06662073e-05])]\n",
      "[array([ 2.39514637, -1.38774065, 19.8887354 ]), array([0.02288829, 0.01507468, 0.00290296])]\n"
     ]
    }
   ],
   "source": [
    "#Mean and std of EE position (meters and degrees), most useful std?\n",
    "position0_stats = [np.mean(np.array(positions_0),axis=0), np.std(np.array(positions_0),axis=0)]\n",
    "orientation0_stats = [np.mean(np.array(orientation_0)*180/np.pi,axis=0), np.std(np.array(orientation_0)*180/np.pi,axis=0)]\n",
    "\n",
    "position1_stats = [np.mean(np.array(positions_1),axis=0), np.std(np.array(positions_1),axis=0)]\n",
    "orientation1_stats = [np.mean(np.array(orientation_1)*180/np.pi,axis=0), np.std(np.array(orientation_1)*180/np.pi,axis=0)]\n",
    "\n",
    "position2_stats = [np.mean(np.array(positions_2),axis=0), np.std(np.array(positions_2),axis=0)]\n",
    "orientation2_stats = [np.mean(np.array(orientation_2)*180/np.pi,axis=0), np.std(np.array(orientation_2)*180/np.pi,axis=0)]\n",
    "\n",
    "position3_stats = [np.mean(np.array(positions_3),axis=0), np.std(np.array(positions_3),axis=0)]\n",
    "orientation3_stats = [np.mean(np.array(orientation_3)*180/np.pi,axis=0), np.std(np.array(orientation_3)*180/np.pi,axis=0)]\n",
    "\n",
    "print(\"position 0\\n\",position0_stats)\n",
    "print(orientation0_stats)\n",
    "print(\"position 1\\n\", position1_stats)\n",
    "print(orientation1_stats)\n",
    "print(\"position 2\\n\", position2_stats)\n",
    "print(orientation2_stats)\n",
    "print(\"position 3\\n\", position3_stats)\n",
    "print(orientation3_stats)\n"
   ]
  },
  {
   "cell_type": "code",
   "execution_count": 135,
   "metadata": {},
   "outputs": [
    {
     "name": "stdout",
     "output_type": "stream",
     "text": [
      "[0.17490815 0.31967532 0.18995601] [0.19352368 0.4344286  0.14947419] [1.09656267 0.7349287  0.24561269] [1.0558703  0.72652996 0.15091051]\n"
     ]
    }
   ],
   "source": [
    "np_positions_0 = np.array(positions_0)\n",
    "md0 = np.max(np_positions_0, axis = 0) - np.min(np_positions_0, axis = 0)\n",
    "\n",
    "np_positions_1 = np.array(positions_1)\n",
    "md1 = np.max(np_positions_1, axis = 0) - np.min(np_positions_1, axis = 0)\n",
    "#print(np.abs(md))\n",
    "\n",
    "np_positions_2 = np.array(positions_2)\n",
    "md2 = np.max(np_positions_2, axis = 0) - np.min(np_positions_2, axis = 0)\n",
    "\n",
    "np_positions_3 = np.array(positions_3)\n",
    "md3 = np.max(np_positions_3, axis = 0) - np.min(np_positions_3, axis = 0)\n",
    "\n",
    "print(md0*1000, md1*1000, md2*1000, md3*1000)\n",
    "#print(np.abs(md))"
   ]
  },
  {
   "cell_type": "code",
   "execution_count": 144,
   "metadata": {},
   "outputs": [
    {
     "name": "stdout",
     "output_type": "stream",
     "text": [
      "[0.0100215  0.01831605 0.01088368] [0.01108809 0.02489093 0.00856424] [0.06282841 0.04210831 0.01407257] [0.06049691 0.0416271  0.00864654]\n"
     ]
    }
   ],
   "source": [
    "np_orientation_0 = np.array(orientation_0)*180/np.pi\n",
    "md0 = np.max(np_orientation_0, axis = 0) - np.min(np_orientation_0, axis = 0)\n",
    "\n",
    "np_orientation_1 = np.array(orientation_1)*180/np.pi\n",
    "md1 = np.max(np_orientation_1, axis = 0) - np.min(np_orientation_1, axis = 0)\n",
    "#print(np.abs(md))\n",
    "\n",
    "np_orientation_2 = np.array(orientation_2)*180/np.pi\n",
    "md2 = np.max(np_orientation_2, axis = 0) - np.min(np_orientation_2, axis = 0)\n",
    "\n",
    "np_orientation_3 = np.array(orientation_3)*180/np.pi\n",
    "md3 = np.max(np_orientation_3, axis = 0) - np.min(np_orientation_3, axis = 0)\n",
    "\n",
    "print(md0, md1, md2, md3)\n",
    "#print(np.abs(md))"
   ]
  },
  {
   "cell_type": "code",
   "execution_count": 141,
   "metadata": {},
   "outputs": [
    {
     "data": {
      "text/plain": [
       "0.14188657500330742"
      ]
     },
     "execution_count": 141,
     "metadata": {},
     "output_type": "execute_result"
    }
   ],
   "source": [
    "np.mean(positions_0)"
   ]
  },
  {
   "cell_type": "code",
   "execution_count": 62,
   "metadata": {},
   "outputs": [
    {
     "name": "stdout",
     "output_type": "stream",
     "text": [
      "[-15.00645922   4.99178007   5.0306324    0.02047988] [ 5.00103798e+00 -1.49903198e+01  4.98538991e+00  1.08941843e-02] [ 4.98948909e+00  5.00187147e+00 -1.50125591e+01 -1.89786228e-04] [  4.99547338   5.00451687 -15.02848242   0.01524634]\n"
     ]
    }
   ],
   "source": [
    "#Average joint angle endpoints\n",
    "avg_jointAngles_0 = rads2degs(np.mean(np.array(measured_jointAngles_0),axis=0))\n",
    "avg_jointAngles_1 = rads2degs(np.mean(np.array(measured_jointAngles_1),axis=0))\n",
    "avg_jointAngles_2 = rads2degs(np.mean(np.array(measured_jointAngles_2),axis=0))\n",
    "avg_jointAngles_3 = rads2degs(np.mean(np.array(measured_jointAngles_3),axis=0))\n",
    "\n",
    "print(avg_jointAngles_0,avg_jointAngles_1, avg_jointAngles_2, avg_jointAngles_3)"
   ]
  }
 ],
 "metadata": {
  "kernelspec": {
   "display_name": "Python 3",
   "language": "python",
   "name": "python3"
  },
  "language_info": {
   "codemirror_mode": {
    "name": "ipython",
    "version": 3
   },
   "file_extension": ".py",
   "mimetype": "text/x-python",
   "name": "python",
   "nbconvert_exporter": "python",
   "pygments_lexer": "ipython3",
   "version": "3.6.4"
  }
 },
 "nbformat": 4,
 "nbformat_minor": 2
}
