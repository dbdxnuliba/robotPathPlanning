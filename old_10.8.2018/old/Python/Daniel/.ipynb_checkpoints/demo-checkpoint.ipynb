{
 "cells": [
  {
   "cell_type": "markdown",
   "metadata": {},
   "source": [
    "http://alexanderfabisch.github.io/pybullet.html"
   ]
  },
  {
   "cell_type": "code",
   "execution_count": 1,
   "metadata": {},
   "outputs": [],
   "source": [
    "import pybullet\n",
    "pybullet.connect(pybullet.GUI)\n",
    "pybullet.resetSimulation()\n"
   ]
  },
  {
   "cell_type": "code",
   "execution_count": 2,
   "metadata": {},
   "outputs": [],
   "source": [
    "import pybullet_data\n",
    "pybullet.setAdditionalSearchPath(pybullet_data.getDataPath())"
   ]
  },
  {
   "cell_type": "code",
   "execution_count": 3,
   "metadata": {},
   "outputs": [],
   "source": [
    "plane = pybullet.loadURDF(\"plane.urdf\")\n"
   ]
  },
  {
   "cell_type": "code",
   "execution_count": 4,
   "metadata": {},
   "outputs": [
    {
     "data": {
      "text/plain": [
       "0"
      ]
     },
     "execution_count": 4,
     "metadata": {},
     "output_type": "execute_result"
    }
   ],
   "source": [
    "import os\n",
    "# this may take a while...\n",
    "os.system(\"git clone https://github.com/ros-industrial/kuka_experimental.git\")"
   ]
  },
  {
   "cell_type": "code",
   "execution_count": 5,
   "metadata": {},
   "outputs": [],
   "source": [
    "robot = pybullet.loadURDF(\"kuka_experimental/kuka_kr210_support/urdf/kr210l150.urdf\")\n"
   ]
  },
  {
   "cell_type": "code",
   "execution_count": 6,
   "metadata": {},
   "outputs": [
    {
     "data": {
      "text/plain": [
       "(0.0, 0.0, 0.0, 1.0)"
      ]
     },
     "execution_count": 6,
     "metadata": {},
     "output_type": "execute_result"
    }
   ],
   "source": [
    "position, orientation = pybullet.getBasePositionAndOrientation(robot)\n",
    "orientation"
   ]
  },
  {
   "cell_type": "code",
   "execution_count": 7,
   "metadata": {},
   "outputs": [
    {
     "data": {
      "text/plain": [
       "((0.0, 0.0, 0.0), (0.0, 0.0, 0.0, 1.0))"
      ]
     },
     "execution_count": 7,
     "metadata": {},
     "output_type": "execute_result"
    }
   ],
   "source": [
    " pybullet.getBasePositionAndOrientation(plane)"
   ]
  },
  {
   "cell_type": "code",
   "execution_count": 9,
   "metadata": {},
   "outputs": [
    {
     "data": {
      "text/plain": [
       "(0.0, -0.0, 0.0)"
      ]
     },
     "execution_count": 9,
     "metadata": {},
     "output_type": "execute_result"
    }
   ],
   "source": [
    "pybullet.getEulerFromQuaternion(orientation)"
   ]
  },
  {
   "cell_type": "code",
   "execution_count": 10,
   "metadata": {},
   "outputs": [
    {
     "data": {
      "text/plain": [
       "8"
      ]
     },
     "execution_count": 10,
     "metadata": {},
     "output_type": "execute_result"
    }
   ],
   "source": [
    "pybullet.getNumJoints(robot)"
   ]
  },
  {
   "cell_type": "code",
   "execution_count": 12,
   "metadata": {},
   "outputs": [
    {
     "data": {
      "text/plain": [
       "(2,\n",
       " b'joint_a3',\n",
       " 0,\n",
       " 9,\n",
       " 8,\n",
       " 1,\n",
       " 0.0,\n",
       " 0.0,\n",
       " -3.66519153,\n",
       " 1.134464045,\n",
       " 0.0,\n",
       " 1.954768816,\n",
       " b'link_3',\n",
       " (0.0, 1.0, 0.0),\n",
       " (-0.017021482170093805, 0.04446001350879669, 0.8023899793624878),\n",
       " (0.0, 0.0, 0.0, 1.0),\n",
       " 1)"
      ]
     },
     "execution_count": 12,
     "metadata": {},
     "output_type": "execute_result"
    }
   ],
   "source": [
    "index = 2\n",
    "pybullet.getJointInfo(robot, index)"
   ]
  },
  {
   "cell_type": "code",
   "execution_count": 13,
   "metadata": {},
   "outputs": [
    {
     "data": {
      "text/plain": [
       "[0.0, 0.0, 0.0, 0.0, 0.0, 0.0]"
      ]
     },
     "execution_count": 13,
     "metadata": {},
     "output_type": "execute_result"
    }
   ],
   "source": [
    "joint_positions = [j[0] for j in pybullet.getJointStates(robot, range(6))]\n",
    "joint_positions"
   ]
  },
  {
   "cell_type": "code",
   "execution_count": 14,
   "metadata": {},
   "outputs": [
    {
     "data": {
      "text/plain": [
       "(0.5384715154650621, -0.0005601330776698887, 1.9572909735143185)"
      ]
     },
     "execution_count": 14,
     "metadata": {},
     "output_type": "execute_result"
    }
   ],
   "source": [
    "world_position, world_orientation = pybullet.getLinkState(robot, 2)[:2]\n",
    "world_position"
   ]
  },
  {
   "cell_type": "code",
   "execution_count": 15,
   "metadata": {},
   "outputs": [],
   "source": [
    "pybullet.setGravity(0, 0, -9.81)   # everything should fall down\n",
    "pybullet.setTimeStep(0.0001)       # this slows everything down, but let's be accurate...\n",
    "pybullet.setRealTimeSimulation(0)  # we want to be faster than real time :)"
   ]
  },
  {
   "cell_type": "code",
   "execution_count": 16,
   "metadata": {},
   "outputs": [],
   "source": [
    "pybullet.setJointMotorControlArray(\n",
    "    robot, range(6), pybullet.POSITION_CONTROL,\n",
    "    targetPositions=[0.1] * 6)"
   ]
  },
  {
   "cell_type": "code",
   "execution_count": 35,
   "metadata": {},
   "outputs": [],
   "source": [
    "for _ in range(10000):\n",
    "    pybullet.stepSimulation()"
   ]
  },
  {
   "cell_type": "code",
   "execution_count": 49,
   "metadata": {},
   "outputs": [],
   "source": [
    "pybullet.resetSimulation()\n",
    "plane = pybullet.loadURDF(\"plane.urdf\")\n",
    "robot = pybullet.loadURDF(\"kuka_experimental/kuka_kr210_support/urdf/kr210l150.urdf\",\n",
    "                          [0, 0, 0], useFixedBase=1)  # use a fixed base!\n",
    "pybullet.setGravity(0, 0, -9.81)\n",
    "pybullet.setTimeStep(0.0001)\n",
    "pybullet.setRealTimeSimulation(0)"
   ]
  },
  {
   "cell_type": "code",
   "execution_count": 55,
   "metadata": {},
   "outputs": [],
   "source": [
    "pybullet.setJointMotorControlArray(\n",
    "    robot, range(6), pybullet.POSITION_CONTROL,\n",
    "    targetPositions=[0.1] * 6)\n",
    "for _ in range(10000):\n",
    "    pybullet.stepSimulation()"
   ]
  },
  {
   "cell_type": "code",
   "execution_count": null,
   "metadata": {},
   "outputs": [],
   "source": [
    "pybullet.disconnect()"
   ]
  }
 ],
 "metadata": {
  "kernelspec": {
   "display_name": "Python 3",
   "language": "python",
   "name": "python3"
  },
  "language_info": {
   "codemirror_mode": {
    "name": "ipython",
    "version": 3
   },
   "file_extension": ".py",
   "mimetype": "text/x-python",
   "name": "python",
   "nbconvert_exporter": "python",
   "pygments_lexer": "ipython3",
   "version": "3.6.4"
  }
 },
 "nbformat": 4,
 "nbformat_minor": 2
}
