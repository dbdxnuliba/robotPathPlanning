{
 "cells": [
  {
   "cell_type": "code",
   "execution_count": 22,
   "metadata": {},
   "outputs": [],
   "source": [
    "import numpy as np\n",
    "import matplotlib.pyplot as plt\n",
    "import time\n",
    "\n",
    "import sys\n",
    "sys.path.append(\"..\")\n",
    "from generateTrajectory import *\n",
    "from armControl import *\n",
    "from forwardKinematics import robot_config\n",
    "from utils.motor_setup import Motors\n"
   ]
  },
  {
   "cell_type": "code",
   "execution_count": 7,
   "metadata": {},
   "outputs": [
    {
     "name": "stdout",
     "output_type": "stream",
     "text": [
      "Generating transform function for j1\n",
      "Generating transform function for j2\n",
      "Generating transform function for j3\n",
      "Generating transform function for j4\n",
      "Generating transform function for j5\n",
      "Generating transform function for j6\n",
      "Generating transform function for j7\n",
      "Generating transform function for j1\n",
      "Generating transform function for j2\n",
      "Generating transform function for j3\n",
      "Generating transform function for j4\n",
      "Generating transform function for j5\n",
      "Generating transform function for j6\n",
      "Generating transform function for j7\n"
     ]
    }
   ],
   "source": [
    "pi = np.pi\n",
    "armKinematics = robot_config()\n",
    "q = np.array([0., 0., 0., 0., 0., 0., 0.])\n",
    "positions = armKinematics.forwardKinPos(q)\n",
    "orientation = armKinematics.forwardKinOrientation(q)\n",
    "\n",
    "armController = remoteRobotArm()\n",
    "armController.initMotorArmMixing()\n",
    "\n",
    "\n",
    "def signal_handler(signal, frame):\n",
    "\tmotors.tcp_close()\n",
    "signal.signal(signal.SIGINT, signal_handler)\n",
    "script_dir = os.path.dirname(__file__)\n",
    "results_dir = os.path.join(script_dir, 'Current_data/')\n",
    "if not os.path.isdir(results_dir):\n",
    "    os.makedirs(results_dir)\n",
    "#Constants\n",
    "socket_ip = '192.168.1.20'\n",
    "socket_port = 1122\n",
    "P = 0\n",
    "PL = 0\n",
    "I = 0\n",
    "IL = 0\n",
    "D = 0\n",
    "motors = Motors(P ,PL ,I, IL ,D)"
   ]
  },
  {
   "cell_type": "code",
   "execution_count": 20,
   "metadata": {},
   "outputs": [
    {
     "name": "stdout",
     "output_type": "stream",
     "text": [
      "[ 0.12566371  0.12566371  0.5         1.27272727  0.21212121  0.81818182\n",
      " -0.48484848]\n"
     ]
    }
   ],
   "source": [
    "q = np.array([1, 1, 1, 1, 1, 1, 10])\n",
    "armController.jointAngleSetpoint = q\n",
    "armController.updateMotorArmMixing()\n",
    "print(armController.motorAngleSetpoint)"
   ]
  },
  {
   "cell_type": "code",
   "execution_count": null,
   "metadata": {},
   "outputs": [],
   "source": [
    "enc_position = np.zeros(8)\n",
    "motors.tcp_init(socket_ip, socket_port)\n",
    "motors.tcp_init(socket_ip, socket_port)\n",
    "print(\"Arming motors now...\")\n",
    "motors.arm_motors()\n",
    "time.sleep(1)"
   ]
  }
 ],
 "metadata": {
  "kernelspec": {
   "display_name": "Python 3",
   "language": "python",
   "name": "python3"
  },
  "language_info": {
   "codemirror_mode": {
    "name": "ipython",
    "version": 3
   },
   "file_extension": ".py",
   "mimetype": "text/x-python",
   "name": "python",
   "nbconvert_exporter": "python",
   "pygments_lexer": "ipython3",
   "version": "3.5.2"
  }
 },
 "nbformat": 4,
 "nbformat_minor": 2
}
