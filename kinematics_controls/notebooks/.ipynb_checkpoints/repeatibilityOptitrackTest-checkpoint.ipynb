{
 "cells": [
  {
   "cell_type": "markdown",
   "metadata": {},
   "source": [
    "## Robot setup"
   ]
  },
  {
   "cell_type": "code",
   "execution_count": 135,
   "metadata": {},
   "outputs": [
    {
     "name": "stdout",
     "output_type": "stream",
     "text": [
      "Opening socket at ip: 192.168.0.113 using port: 1125\n"
     ]
    }
   ],
   "source": [
    "import numpy as np\n",
    "import matplotlib.pyplot as plt\n",
    "import time\n",
    "\n",
    "import sys\n",
    "sys.path.append(\"..\")\n",
    "sys.path.append(\"../../\")\n",
    "\n",
    "from armControl import *\n",
    "from forwardKinematics import robot_config\n",
    "from utils.motor_setup import maxonGearSmall\n",
    "import armControl\n",
    "\n",
    "from utils.NatNetClient2 import NatNetClient\n",
    "from utils.GetJointData import data, NatNetFuncs #receiveNewFrame, receiveRigidBodyFrameList\n",
    "\n",
    "import signal\n",
    "\n",
    "import matplotlib.pyplot as plt\n",
    "\n",
    "socket_ip = '192.168.0.113'\n",
    "socket_port = 1125\n",
    "\n",
    "server_ip = \"192.168.0.105\"\n",
    "multicastAddress = \"239.255.42.99\"\n",
    "\n",
    "joint_names = ['Base','RigidBody']\n",
    "ids = [0, 1]\n",
    "\n",
    "#trajPlanner = trajectoryGenerator()\n",
    "\n",
    "motors = maxonGearSmall()\n",
    "motors.tcp_init(socket_ip, socket_port)\n",
    "\n",
    "#axis_motor_indexes = np.array([-1, -1, -1, 0, 3, 2, 1]) #indexed from 0 for motors and axis\n",
    "#velocity = np.ones(8)*3.14/20\n"
   ]
  },
  {
   "cell_type": "markdown",
   "metadata": {},
   "source": [
    "## Command motors w/ indexing for joints"
   ]
  },
  {
   "cell_type": "markdown",
   "metadata": {},
   "source": [
    "def commandJoints(setpoint_arm, trajectory = True):\n",
    "    myArm = armControl.remoteRobotArm()\n",
    "    myArm.jointAngleSetpoint = setpoint_arm\n",
    "    myArm.updateMotorArmMixing()\n",
    "    setpoint_motor = np.zeros(8)\n",
    "    setpoint_motor[axis_motor_indexes[3:7]] = myArm.motorAngleSetpoint[3:7]\n",
    "    if trajectory:\n",
    "        motors.run_trajectory(setpoint_motor, velocity)\n",
    "    else:\n",
    "        motors.command_motors_radians(setpoint_motor)\n"
   ]
  },
  {
   "cell_type": "markdown",
   "metadata": {},
   "source": [
    "## Arm Motors"
   ]
  },
  {
   "cell_type": "code",
   "execution_count": 136,
   "metadata": {},
   "outputs": [
    {
     "name": "stdout",
     "output_type": "stream",
     "text": [
      "Arming motors now...\n",
      "initializing motors to [0 0 0 0 0 0 0 0]\n",
      "*** C side has an error or needs to be armed ***\n",
      "\n",
      "Arming motors\n"
     ]
    }
   ],
   "source": [
    "print(\"Arming motors now...\")\n",
    "motors.arm_motors()"
   ]
  },
  {
   "cell_type": "markdown",
   "metadata": {},
   "source": [
    "## Manual motor zeroing"
   ]
  },
  {
   "cell_type": "code",
   "execution_count": 137,
   "metadata": {},
   "outputs": [],
   "source": [
    "from importlib import reload\n",
    "reload(armControl)\n",
    "\n",
    "myArm = armControl.remoteRobotArm()\n",
    "\n",
    "setpoint_arm = np.array([0.0,0.0,-0.,0,0.0,0,0])\n",
    "myArm.commandJoints(motors, setpoint_arm)\n",
    "time.sleep(0.5)\n"
   ]
  },
  {
   "cell_type": "code",
   "execution_count": 138,
   "metadata": {},
   "outputs": [],
   "source": [
    "for i in range(8):\n",
    "    motors.zero_motors_radians(i, motors.get_motors_position_radians()[i])"
   ]
  },
  {
   "cell_type": "markdown",
   "metadata": {},
   "source": [
    "## Test arm joint mixing"
   ]
  },
  {
   "cell_type": "markdown",
   "metadata": {},
   "source": [
    "### this is old, now in \"commandJoints\" above\n",
    "\n",
    "import armControl\n",
    "from importlib import reload\n",
    "reload(armControl)\n",
    "\n",
    "setpoint_arm = np.array([0,0,0,0,0,0,-0])\n",
    "myArm = armControl.remoteRobotArm()\n",
    "myArm.jointAngleSetpoint = setpoint_arm\n",
    "myArm.updateMotorArmMixing()\n",
    "print(myArm.motorAngleSetpoint)\n",
    "\n",
    "setpoint_motor = np.zeros(8)\n",
    "setpoint_motor[axis_motor_indexes[3:7]] = myArm.motorAngleSetpoint[3:7]\n",
    "print(setpoint_motor)\n",
    "motors.run_trajectory(setpoint_motor, velocity)\n"
   ]
  },
  {
   "cell_type": "code",
   "execution_count": 2,
   "metadata": {},
   "outputs": [
    {
     "ename": "SyntaxError",
     "evalue": "invalid syntax (<ipython-input-2-2463c653ead1>, line 90)",
     "output_type": "error",
     "traceback": [
      "\u001b[1;36m  File \u001b[1;32m\"<ipython-input-2-2463c653ead1>\"\u001b[1;36m, line \u001b[1;32m90\u001b[0m\n\u001b[1;33m    for k in range(len(sweep1_pos))\u001b[0m\n\u001b[1;37m                                   ^\u001b[0m\n\u001b[1;31mSyntaxError\u001b[0m\u001b[1;31m:\u001b[0m invalid syntax\n"
     ]
    }
   ],
   "source": [
    "print(myArm.jointUpperLimits)\n",
    "print(myArm.jointLowerLimits)\n",
    "a = np.linspace(myArm.jointLowerLimits[-1],myArm.jointUpperLimits[-1], num=50)\n",
    "b = np.linspace(myArm.jointLowerLimits[-2],myArm.jointUpperLimits[-2], num=500)\n",
    "c = np.linspace(myArm.jointLowerLimits[-3],myArm.jointUpperLimits[-3], num=50)\n",
    "d = np.linspace(myArm.jointLowerLimits[-4],myArm.jointUpperLimits[-4], num=50)\n",
    "\n",
    "print(a)\n",
    "print(b)\n",
    "#c = np.meshgrid(a,b)\n",
    "#print(c)\n",
    "\n",
    "setpoint_arm = np.array([0,0,0,0.,0,0.,0.0])\n",
    "myArm.commandJoints(motors, setpoint_arm)\n",
    "\n",
    "time.sleep(5)\n",
    "\n",
    "#Tracking class\n",
    "print(\"Starting streaming client now...\")\n",
    "streamingClient = NatNetClient(server_ip, multicastAddress, verbose = print_trak_data)\n",
    "NatNet = NatNetFuncs()\n",
    "streamingClient.newFrameListener = NatNet.receiveNewFrame\n",
    "streamingClient.rigidBodyListListener = NatNet.receiveRigidBodyFrameList\n",
    "\n",
    "prev_frame = 0\n",
    "time.sleep(0.5)\n",
    "\n",
    "streamingClient.run()\n",
    "\n",
    "time.sleep(0.5)\n",
    "\n",
    "track_data = data(joint_names,ids)\n",
    "\n",
    "time.sleep(0.5)\n",
    "\n",
    "track_data.parse_data(NatNet.joint_data, NatNet.frame) #updates the frame and data that is being used\n",
    "\n",
    "pos_list = []\n",
    "ang_list = []\n",
    "rot_list = []\n",
    "for m in range(3):\n",
    "    pos_sweep_list = []\n",
    "    ang_sweep_list = []\n",
    "    for k in range(len(d)):\n",
    "        #time.sleep(5)\n",
    "        for j in range(len(c)):\n",
    "            #time.sleep(5)\n",
    "            setpoint_arm = np.array([0,0,0,d[k],c[j],b[i],0])\n",
    "            myArm.commandJoints(motors, setpoint_arm, trajectory = True)\n",
    "            time.sleep(5)\n",
    "            for i in range(len(b)):\n",
    "                setpoint_arm = np.array([0,0,0,d[k],c[j],b[i],0])\n",
    "                myArm.commandJoints(motors, setpoint_arm, trajectory = False)\n",
    "                time.sleep(0.02)\n",
    "                #add in optitrack position measurements\n",
    "                base = track_data.bodies[0].homogenous_mat\n",
    "                base_inv = track_data.bodies[0].homg_inv\n",
    "                needle = track_data.bodies[1].homogenous_mat\n",
    "                needle_base, needlebase_pos, needlebase_euler, _ = track_data.homg_mat_mult(base_inv,needle)\n",
    "                needlebase_deg = np.array(needlebase_euler) * 180 / np.pi\n",
    "                needlebase_pos_mm = np.array(needlebase_pos)*1000\n",
    "                needle_base_rot = needle_base[0:3,0:3]\n",
    "                pos_sweep_list.append(needlebase_pos_mm)\n",
    "                ang_sweep_list.append(needlebase_euler)\n",
    "                rot_sweep_list.append(needle_base_rot)\n",
    "            time.sleep(5)\n",
    "    pos_list.append(pos_sweep_list)\n",
    "    ang_list.append(ang_sweep_list) #eulers \n",
    "    rot_list.append(rot_sweep_list) #rotation matrix\n",
    "\n",
    "sweep1_pos = pos_list[0]\n",
    "sweep2_pos = pos_list[1]\n",
    "sweep3_pos = pos_list[2]\n",
    "\n",
    "sweep1_ang = ang_list[0]\n",
    "sweep2_ang = ang_list[1]\n",
    "sweep3_ang = ang_list[2]\n",
    "\n",
    "sweep1_rot = rot_list[0]\n",
    "sweep2_rot = rot_list[1]\n",
    "sweep3_rot = rot_list[2]\n",
    "\n",
    "#plot x,y,z\n",
    "\n",
    "for i in range(3):\n",
    "    \n",
    "    figure()\n",
    "    plt.plot(sweep1_pos[:][i], label='Sweep 1') \n",
    "    plt.plot(sweep2_pos[:][i], label='Sweep 2') \n",
    "    plt.plot(sweep3_pos[:][i]), label='Sweep 3')\n",
    "    plt.ylabel('Position')\n",
    "    plt.legend()\n",
    "    plt.show()\n",
    "    \n",
    "    figure()\n",
    "    plt.plot(sweep1_ang[:][i], label='Sweep 1') \n",
    "    plt.plot(sweep2_ang[:][i], label='Sweep 2') \n",
    "    plt.plot(sweep3_ang[:][i]), label='Sweep 3')\n",
    "    plt.ylabel('Rotation')\n",
    "    plt.legend()\n",
    "    plt.show()\n",
    "\n",
    "\n",
    "\n",
    "for k in range(len(sweep1_pos))\n",
    "    #error in position\n",
    "    error_pos_12[k] = abs(sweep1_pos[k]-sweep2_pos[k])\n",
    "    error_pos_13[k] = abs(sweep1_pos[k]-sweep3_pos[k])\n",
    "    error_pos_23[k] = abs(sweep2_pos[k]-sweep3_pos[k])\n",
    "    \n",
    "for i in range(len(sweep1_ang))\n",
    "    #invert rotation matrices \n",
    "    sweep1_rot_inv[i] = sweep1_rot[i].T\n",
    "    sweep2_rot_inv[i] = sweep2_rot[i].T\n",
    "    #error in rotation matrices\n",
    "    error_rot_12[i] = sweep1_rot_inv[i]*sweep2_rot[i]\n",
    "    error_rot_13[i] = sweep1_rot_inv[i]*sweep3_rot[i]\n",
    "    error_rot_23[i] = sweep2_rot_inv[i]*sweep3_rot[i]\n",
    "    #convert error in rotation matrices to eulers\n",
    "    error_euler_12[i] = mat2euler(error_ang_12[i])\n",
    "    error_euler_13[i] = mat2euler(error_ang_13[i])\n",
    "    error_euler_23[i] = mat2euler(error_ang_23[i])\n",
    "    \n",
    "print(\"Sweep 1 & 2 Position Error: {}, Sweep 1 & 3 Position Error: {}, Sweep 2 & 3 Position Error: {}\" .format(error_pos_12, error_pos_13, error_pos_23))\n",
    "print(\"Sweep 1 & 2 Angle Error: {}, Sweep 1 & 3 Angle Error: {}, Sweep 2 & 3 Angle Error: {}\" .format(error_euler_12, error_euler_13, error_euler_23))  \n",
    "    \n",
    "  \n",
    "\n",
    "    \n",
    "    \n",
    "\n",
    "\n",
    "setpoint_arm = np.array([0,0,0,0.,0,0.,0.0])\n",
    "myArm.commandJoints(motors, setpoint_arm)"
   ]
  },
  {
   "cell_type": "markdown",
   "metadata": {},
   "source": [
    "## Sine wave / profile test"
   ]
  },
  {
   "cell_type": "code",
   "execution_count": null,
   "metadata": {},
   "outputs": [],
   "source": [
    "dt = 0.005\n",
    "runtime = 10\n",
    "num_elements = int(runtime/dt)\n",
    "setpoints = np.zeros((num_elements, 7))\n",
    "frequency = 0.1\n",
    "amplitude = np.pi/6\n",
    "for i in range(num_elements):\n",
    "    setpoints[i,:] = (np.ones(7) * np.sin(i*dt*2*pi*frequency)*amplitude)\n",
    "\n",
    "\n",
    "start_time = time.time()\n",
    "\n",
    "currents_mA = []\n",
    "for i in range(num_elements):\n",
    "    current_time = time.time()\n",
    "    setpoint = setpoints[i]\n",
    "    myArm.commandJoints(motors, setpoint, trajectory=False)\n",
    "    time.sleep(dt)\n",
    "\n",
    "time.sleep(1.5)\n",
    "\n",
    "motors.run_trajectory(np.zeros(8), velocity)\n"
   ]
  },
  {
   "cell_type": "markdown",
   "metadata": {},
   "source": [
    "## Cleanup"
   ]
  },
  {
   "cell_type": "code",
   "execution_count": 134,
   "metadata": {},
   "outputs": [],
   "source": [
    "setpoints = np.zeros(8)\n",
    "velocity = np.ones(8)*3.14/5\n",
    "motors.run_trajectory(setpoints, velocity)\n",
    "time.sleep(20)\n",
    "motors.tcp_close()"
   ]
  },
  {
   "cell_type": "code",
   "execution_count": 120,
   "metadata": {},
   "outputs": [],
   "source": [
    "motors.tcp_close()"
   ]
  },
  {
   "cell_type": "code",
   "execution_count": null,
   "metadata": {},
   "outputs": [],
   "source": []
  }
 ],
 "metadata": {
  "kernelspec": {
   "display_name": "Python 3",
   "language": "python",
   "name": "python3"
  },
  "language_info": {
   "codemirror_mode": {
    "name": "ipython",
    "version": 3
   },
   "file_extension": ".py",
   "mimetype": "text/x-python",
   "name": "python",
   "nbconvert_exporter": "python",
   "pygments_lexer": "ipython3",
   "version": "3.7.1"
  }
 },
 "nbformat": 4,
 "nbformat_minor": 2
}
