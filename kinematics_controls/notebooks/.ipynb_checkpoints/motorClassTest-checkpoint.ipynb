{
 "cells": [
  {
   "cell_type": "code",
   "execution_count": 1,
   "metadata": {},
   "outputs": [],
   "source": [
    "import numpy as np\n",
    "import matplotlib.pyplot as plt\n",
    "import time\n",
    "import sys\n",
    "\n",
    "sys.path.append(\"..\")\n",
    "from utils.motor_setup import CableReduction"
   ]
  },
  {
   "cell_type": "code",
   "execution_count": 2,
   "metadata": {},
   "outputs": [
    {
     "name": "stdout",
     "output_type": "stream",
     "text": [
      "Opening socket at ip: 192.168.1.20 using port: 1122\n"
     ]
    }
   ],
   "source": [
    "socket_ip = '192.168.1.20'\n",
    "socket_port = 1122\n",
    "\n",
    "motors = CableReduction()\n",
    "motors.tcp_init(socket_ip, socket_port)"
   ]
  },
  {
   "cell_type": "code",
   "execution_count": 3,
   "metadata": {},
   "outputs": [
    {
     "name": "stdout",
     "output_type": "stream",
     "text": [
      "Arming motors now...\n",
      "initializing motors to [  0   0   0   0   0   0   0 546]\n",
      "*** C side has an error or needs to be armed ***\n",
      "\n",
      "Arming motors\n"
     ]
    }
   ],
   "source": [
    "print(\"Arming motors now...\")\n",
    "motors.arm_motors()\n"
   ]
  },
  {
   "cell_type": "code",
   "execution_count": 4,
   "metadata": {},
   "outputs": [
    {
     "name": "stdout",
     "output_type": "stream",
     "text": [
      "[0.         0.         0.         0.         0.         0.\n",
      " 0.         0.09016371]\n",
      "[0. 0. 0. 0. 0. 0. 0. 0.]\n",
      "[ 0.          0.          0.          0.          0.          0.\n",
      "  0.         -0.00486947]\n",
      "[0.1 0.1 0.1 0.1 0.1 0.1 0.1 0.1]\n",
      "[ 0.          0.          0.          0.          0.          0.\n",
      "  0.         -0.10486947]\n",
      "[0.1 0.1 0.1 0.1 0.1 0.1 0.1 0.1]\n",
      "[ 0.          0.          0.          0.          0.          0.\n",
      "  0.         -0.00795134]\n",
      "[0. 0. 0. 0. 0. 0. 0. 0.]\n"
     ]
    }
   ],
   "source": [
    "motors.command_motors_radians(np.zeros(8))\n",
    "time.sleep(2.5)\n",
    "print(motors.get_motors_position_radians())\n",
    "print(motors.get_motors_setpoint_radians())\n",
    "motors.command_motors_radians(np.ones(8)/10)\n",
    "time.sleep(2.5)\n",
    "print(motors.get_motors_position_radians())\n",
    "print(motors.get_motors_setpoint_radians())\n",
    "\n",
    "motors.zero_motors_radians(7,0.1)\n",
    "print(motors.get_motors_position_radians())\n",
    "print(motors.get_motors_setpoint_radians())\n",
    "motors.command_motors_radians(np.zeros(8))\n",
    "time.sleep(2.5)\n",
    "print(motors.get_motors_position_radians())\n",
    "print(motors.get_motors_setpoint_radians())"
   ]
  },
  {
   "cell_type": "code",
   "execution_count": 5,
   "metadata": {},
   "outputs": [],
   "source": [
    "motors.tcp_close()"
   ]
  },
  {
   "cell_type": "code",
   "execution_count": null,
   "metadata": {},
   "outputs": [],
   "source": []
  }
 ],
 "metadata": {
  "kernelspec": {
   "display_name": "Python 3",
   "language": "python",
   "name": "python3"
  },
  "language_info": {
   "codemirror_mode": {
    "name": "ipython",
    "version": 3
   },
   "file_extension": ".py",
   "mimetype": "text/x-python",
   "name": "python",
   "nbconvert_exporter": "python",
   "pygments_lexer": "ipython3",
   "version": "3.5.2"
  }
 },
 "nbformat": 4,
 "nbformat_minor": 2
}
