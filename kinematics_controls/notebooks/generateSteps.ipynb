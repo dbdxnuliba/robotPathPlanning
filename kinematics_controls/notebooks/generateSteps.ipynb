{
 "cells": [
  {
   "cell_type": "code",
   "execution_count": null,
   "metadata": {},
   "outputs": [],
   "source": [
    "import numpy as np\n",
    "import matplotlib.pyplot as plt\n",
    "\n",
    "def generateStepArray(trajectory, stepSize):\n",
    "    stepTrajectory = np.array(trajectory) / stepSize #calculates trajectory in number of steps\n",
    "    relativeSteps = np.zeros(len(trajectory))\n",
    "    if (np.abs(stepTrajectory[:-1] - stepTrajectory[1:]) > 1).any():\n",
    "        print(\"error, trajectory is not fine enough\")\n",
    "        return -1\n",
    "    else:\n",
    "        #np.round(trajectory[1:] - trajectory[:-1]) this won't work...\n",
    "        for i in range(len(stepTrajectory)):\n",
    "            if stepTrajectory[i] - np.sum(relativeSteps) >= 1:\n",
    "                relativeSteps[i] = 1\n",
    "            elif stepTrajectory[i] - np.sum(relativeSteps) <= -1:\n",
    "                relativeSteps[i] = -1\n",
    "    return relativeSteps"
   ]
  },
  {
   "cell_type": "code",
   "execution_count": null,
   "metadata": {},
   "outputs": [],
   "source": [
    "trajectory = np.append(np.cumsum(np.ones(5))/15, 5/15 + np.cumsum(np.ones(5))/15*-1)\n",
    "relativeSteps = generateStepArray(trajectory, 0.1)\n",
    "\n",
    "plt.figure()\n",
    "plt.plot(trajectory)\n",
    "plt.plot(np.cumsum(relativeSteps), '*-')\n",
    "plt.plot(relativeSteps, 'o-')\n",
    "plt.legend(['trajectory', 'relative steps cum', 'relative steps'])\n",
    "plt.show()"
   ]
  },
  {
   "cell_type": "code",
   "execution_count": null,
   "metadata": {},
   "outputs": [],
   "source": []
  }
 ],
 "metadata": {
  "kernelspec": {
   "display_name": "Python 3",
   "language": "python",
   "name": "python3"
  },
  "language_info": {
   "codemirror_mode": {
    "name": "ipython",
    "version": 3
   },
   "file_extension": ".py",
   "mimetype": "text/x-python",
   "name": "python",
   "nbconvert_exporter": "python",
   "pygments_lexer": "ipython3",
   "version": "3.7.1"
  }
 },
 "nbformat": 4,
 "nbformat_minor": 2
}
