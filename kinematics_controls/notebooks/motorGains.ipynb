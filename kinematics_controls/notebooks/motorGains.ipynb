{
 "cells": [
  {
   "cell_type": "code",
   "execution_count": 352,
   "metadata": {
    "scrolled": true
   },
   "outputs": [
    {
     "name": "stdout",
     "output_type": "stream",
     "text": [
      "Opening socket at ip: 192.168.0.115 using port: 1126\n",
      "Arming motors now...\n",
      "initializing motors to [0 0 0 0 0 0 0 0]\n",
      "*** C side has an error or needs to be armed ***\n",
      "\n",
      "Arming motors\n"
     ]
    }
   ],
   "source": [
    "import numpy as np\n",
    "import matplotlib.pyplot as plt\n",
    "import time\n",
    "\n",
    "import sys\n",
    "sys.path.append(\"..\")\n",
    "sys.path.append(\"../../\")\n",
    "\n",
    "from armControl import *\n",
    "from forwardKinematics import robot_config\n",
    "from utils.motor_setup import maxonGearSmall\n",
    "import armControl\n",
    "\n",
    "import signal\n",
    "\n",
    "socket_ip = '192.168.0.115'\n",
    "socket_port = 1126\n",
    "\n",
    "motors = maxonGearSmall()\n",
    "motors.tcp_init(socket_ip, socket_port)\n",
    "\n",
    "print(\"Arming motors now...\")\n",
    "motors.arm_motors()\n",
    "\n",
    "for i in range(8):\n",
    "    motors.zero_motors_radians(i, motors.get_motors_position_radians()[i])"
   ]
  },
  {
   "cell_type": "code",
   "execution_count": 356,
   "metadata": {},
   "outputs": [
    {
     "data": {
      "image/png": "[encoded data removed]",
      "text/plain": [
       "<Figure size 432x288 with 1 Axes>"
      ]
     },
     "metadata": {
      "needs_background": "light"
     },
     "output_type": "display_data"
    }
   ],
   "source": [
    "myArm = armControl.remoteRobotArm()\n",
    "dt = 0.01\n",
    "rt = 10\n",
    "hz = 0.5\n",
    "amplitude = 0.5#0.25 #this causes chirping, 0.25\n",
    "\n",
    "setpoint_arm = np.array([-0.0,-0.,0.,-0.,-0.,0,0])\n",
    "myArm.commandJoints(motors, setpoint_arm, trajectory=False)\n",
    "\n",
    "motorSetpoints = []\n",
    "motorPositions = []\n",
    "\n",
    "y = np.vstack([np.zeros([int(rt/dt/4),1]),np.ones([int(rt/dt*3/8),1])*amplitude,np.ones([int(rt/dt*3/8),1])*amplitude/2])\n",
    "#y = np.vstack([y.copy(), y.copy()])\n",
    "\n",
    "for i in range(int(rt/dt)-1):\n",
    "    x = y[i]*amplitude\n",
    "    setpoint_arm = np.array([-0.0,-0.,x,-0.,-0.,0,0])\n",
    "    myArm.commandJoints(motors, setpoint_arm, trajectory=False)\n",
    "    \n",
    "    motorSetpoints.append(motors.get_motors_setpoint_radians())\n",
    "    motorPositions.append(motors.get_motors_position_radians())\n",
    "    time.sleep(dt)\n",
    "    \n",
    "motorSetpoints = np.array(motorSetpoints)\n",
    "motorPositions = np.array(motorPositions)\n",
    "\n",
    "\n",
    "plt.figure()\n",
    "plt.plot(motorSetpoints[:,:])\n",
    "plt.plot(motorPositions[:,:])\n",
    "plt.legend(['Setpoint', 'Position'])\n",
    "plt.xlabel(['Time'])\n",
    "plt.ylabel(['Position (radians)'])\n",
    "plt.show()"
   ]
  },
  {
   "cell_type": "markdown",
   "metadata": {},
   "source": [
    "## Sine wave"
   ]
  },
  {
   "cell_type": "code",
   "execution_count": 351,
   "metadata": {
    "scrolled": true
   },
   "outputs": [
    {
     "name": "stdout",
     "output_type": "stream",
     "text": [
      "\n",
      "\n",
      "Server side closed. Closing ports now.\n",
      "\n",
      "\n",
      "We had a timeout (probably)?\n"
     ]
    },
    {
     "ename": "OSError",
     "evalue": "[Errno 9] Bad file descriptor",
     "output_type": "error",
     "traceback": [
      "\u001b[0;31m---------------------------------------------------------------------------\u001b[0m",
      "\u001b[0;31mOSError\u001b[0m                                   Traceback (most recent call last)",
      "\u001b[0;32m<ipython-input-351-52ea59365d70>\u001b[0m in \u001b[0;36m<module>\u001b[0;34m\u001b[0m\n\u001b[1;32m     15\u001b[0m     \u001b[0mx\u001b[0m \u001b[0;34m=\u001b[0m \u001b[0mnp\u001b[0m\u001b[0;34m.\u001b[0m\u001b[0msin\u001b[0m\u001b[0;34m(\u001b[0m\u001b[0mi\u001b[0m\u001b[0;34m*\u001b[0m\u001b[0;36m2\u001b[0m\u001b[0;34m*\u001b[0m\u001b[0mnp\u001b[0m\u001b[0;34m.\u001b[0m\u001b[0mpi\u001b[0m\u001b[0;34m*\u001b[0m\u001b[0mdt\u001b[0m\u001b[0;34m*\u001b[0m\u001b[0mhz\u001b[0m\u001b[0;34m)\u001b[0m\u001b[0;34m*\u001b[0m\u001b[0mamplitude\u001b[0m\u001b[0;34m+\u001b[0m\u001b[0mstartPos\u001b[0m\u001b[0;34m\u001b[0m\u001b[0;34m\u001b[0m\u001b[0m\n\u001b[1;32m     16\u001b[0m     \u001b[0msetpoint_arm\u001b[0m \u001b[0;34m=\u001b[0m \u001b[0mnp\u001b[0m\u001b[0;34m.\u001b[0m\u001b[0mones\u001b[0m\u001b[0;34m(\u001b[0m\u001b[0;36m7\u001b[0m\u001b[0;34m)\u001b[0m\u001b[0;34m*\u001b[0m\u001b[0mx\u001b[0m\u001b[0;31m#np.array([-0.0,-0.,x,-0.,-0.,0,0])\u001b[0m\u001b[0;34m\u001b[0m\u001b[0;34m\u001b[0m\u001b[0m\n\u001b[0;32m---> 17\u001b[0;31m     \u001b[0mmyArm\u001b[0m\u001b[0;34m.\u001b[0m\u001b[0mcommandJoints\u001b[0m\u001b[0;34m(\u001b[0m\u001b[0mmotors\u001b[0m\u001b[0;34m,\u001b[0m \u001b[0msetpoint_arm\u001b[0m\u001b[0;34m,\u001b[0m \u001b[0mtrajectory\u001b[0m\u001b[0;34m=\u001b[0m\u001b[0;32mFalse\u001b[0m\u001b[0;34m)\u001b[0m\u001b[0;34m\u001b[0m\u001b[0;34m\u001b[0m\u001b[0m\n\u001b[0m\u001b[1;32m     18\u001b[0m \u001b[0;34m\u001b[0m\u001b[0m\n\u001b[1;32m     19\u001b[0m     \u001b[0mmotorSetpoints\u001b[0m\u001b[0;34m.\u001b[0m\u001b[0mappend\u001b[0m\u001b[0;34m(\u001b[0m\u001b[0mmotors\u001b[0m\u001b[0;34m.\u001b[0m\u001b[0mget_motors_setpoint_radians\u001b[0m\u001b[0;34m(\u001b[0m\u001b[0;34m)\u001b[0m\u001b[0;34m)\u001b[0m\u001b[0;34m\u001b[0m\u001b[0;34m\u001b[0m\u001b[0m\n",
      "\u001b[0;32m~/Desktop/robotPathPlanning/kinematics_controls/armControl.py\u001b[0m in \u001b[0;36mcommandJoints\u001b[0;34m(self, motors, setpoint_arm, trajectory)\u001b[0m\n\u001b[1;32m    128\u001b[0m             \u001b[0mmotors\u001b[0m\u001b[0;34m.\u001b[0m\u001b[0mrun_trajectory\u001b[0m\u001b[0;34m(\u001b[0m\u001b[0msetpoint_motor\u001b[0m\u001b[0;34m,\u001b[0m \u001b[0mvelocity\u001b[0m\u001b[0;34m)\u001b[0m\u001b[0;34m\u001b[0m\u001b[0;34m\u001b[0m\u001b[0m\n\u001b[1;32m    129\u001b[0m         \u001b[0;32melse\u001b[0m\u001b[0;34m:\u001b[0m\u001b[0;34m\u001b[0m\u001b[0;34m\u001b[0m\u001b[0m\n\u001b[0;32m--> 130\u001b[0;31m             \u001b[0mmotors\u001b[0m\u001b[0;34m.\u001b[0m\u001b[0mcommand_motors_radians\u001b[0m\u001b[0;34m(\u001b[0m\u001b[0msetpoint_motor\u001b[0m\u001b[0;34m)\u001b[0m\u001b[0;34m\u001b[0m\u001b[0;34m\u001b[0m\u001b[0m\n\u001b[0m\u001b[1;32m    131\u001b[0m \u001b[0;34m\u001b[0m\u001b[0m\n\u001b[1;32m    132\u001b[0m \u001b[0;34m\u001b[0m\u001b[0m\n",
      "\u001b[0;32m~/Desktop/robotPathPlanning/utils/motor_setup.py\u001b[0m in \u001b[0;36mcommand_motors_radians\u001b[0;34m(self, positions)\u001b[0m\n\u001b[1;32m    134\u001b[0m \u001b[0;34m\u001b[0m\u001b[0m\n\u001b[1;32m    135\u001b[0m         \u001b[0;32mdef\u001b[0m \u001b[0mcommand_motors_radians\u001b[0m\u001b[0;34m(\u001b[0m\u001b[0mself\u001b[0m\u001b[0;34m,\u001b[0m \u001b[0mpositions\u001b[0m\u001b[0;34m)\u001b[0m\u001b[0;34m:\u001b[0m\u001b[0;34m\u001b[0m\u001b[0;34m\u001b[0m\u001b[0m\n\u001b[0;32m--> 136\u001b[0;31m                 \u001b[0mself\u001b[0m\u001b[0;34m.\u001b[0m\u001b[0mcommand_motors\u001b[0m\u001b[0;34m(\u001b[0m\u001b[0mpositions\u001b[0m \u001b[0;34m*\u001b[0m \u001b[0mself\u001b[0m\u001b[0;34m.\u001b[0m\u001b[0mcounts_per_radian\u001b[0m\u001b[0;34m)\u001b[0m\u001b[0;34m\u001b[0m\u001b[0;34m\u001b[0m\u001b[0m\n\u001b[0m\u001b[1;32m    137\u001b[0m                 \u001b[0;32mreturn\u001b[0m\u001b[0;34m\u001b[0m\u001b[0;34m\u001b[0m\u001b[0m\n\u001b[1;32m    138\u001b[0m \u001b[0;34m\u001b[0m\u001b[0m\n",
      "\u001b[0;32m~/Desktop/robotPathPlanning/utils/motor_setup.py\u001b[0m in \u001b[0;36mcommand_motors\u001b[0;34m(self, position)\u001b[0m\n\u001b[1;32m     93\u001b[0m                                          \u001b[0mstr\u001b[0m\u001b[0;34m(\u001b[0m\u001b[0mint\u001b[0m\u001b[0;34m(\u001b[0m\u001b[0mpos\u001b[0m\u001b[0;34m[\u001b[0m\u001b[0;36m3\u001b[0m\u001b[0;34m]\u001b[0m\u001b[0;34m)\u001b[0m\u001b[0;34m)\u001b[0m \u001b[0;34m+\u001b[0m \u001b[0;34m' '\u001b[0m \u001b[0;34m+\u001b[0m \u001b[0mstr\u001b[0m\u001b[0;34m(\u001b[0m\u001b[0mint\u001b[0m\u001b[0;34m(\u001b[0m\u001b[0mpos\u001b[0m\u001b[0;34m[\u001b[0m\u001b[0;36m4\u001b[0m\u001b[0;34m]\u001b[0m\u001b[0;34m)\u001b[0m\u001b[0;34m)\u001b[0m \u001b[0;34m+\u001b[0m \u001b[0;34m' '\u001b[0m \u001b[0;34m+\u001b[0m \u001b[0mstr\u001b[0m\u001b[0;34m(\u001b[0m\u001b[0mint\u001b[0m\u001b[0;34m(\u001b[0m\u001b[0mpos\u001b[0m\u001b[0;34m[\u001b[0m\u001b[0;36m5\u001b[0m\u001b[0;34m]\u001b[0m\u001b[0;34m)\u001b[0m\u001b[0;34m)\u001b[0m \u001b[0;34m+\u001b[0m \u001b[0;34m' '\u001b[0m \u001b[0;34m+\u001b[0m\u001b[0;34m\u001b[0m\u001b[0;34m\u001b[0m\u001b[0m\n\u001b[1;32m     94\u001b[0m \t\t\t\t\t str(int(pos[6])) + ' ' + str(int(pos[7])) + 'd')\n\u001b[0;32m---> 95\u001b[0;31m                 \u001b[0mself\u001b[0m\u001b[0;34m.\u001b[0m\u001b[0mclient_socket\u001b[0m\u001b[0;34m.\u001b[0m\u001b[0msend\u001b[0m\u001b[0;34m(\u001b[0m\u001b[0mdata\u001b[0m\u001b[0;34m.\u001b[0m\u001b[0mencode\u001b[0m\u001b[0;34m(\u001b[0m\u001b[0;34m)\u001b[0m\u001b[0;34m)\u001b[0m\u001b[0;34m\u001b[0m\u001b[0;34m\u001b[0m\u001b[0m\n\u001b[0m\u001b[1;32m     96\u001b[0m                 \u001b[0mself\u001b[0m\u001b[0;34m.\u001b[0m\u001b[0mread_buff\u001b[0m\u001b[0;34m(\u001b[0m\u001b[0;34m)\u001b[0m\u001b[0;34m\u001b[0m\u001b[0;34m\u001b[0m\u001b[0m\n\u001b[1;32m     97\u001b[0m                 \u001b[0;32mreturn\u001b[0m\u001b[0;34m\u001b[0m\u001b[0;34m\u001b[0m\u001b[0m\n",
      "\u001b[0;31mOSError\u001b[0m: [Errno 9] Bad file descriptor"
     ]
    }
   ],
   "source": [
    "myArm = armControl.remoteRobotArm()\n",
    "dt = 0.005\n",
    "rt = 10000\n",
    "hz = 0.5\n",
    "startPos = 0.0\n",
    "amplitude = 0.0004 #\n",
    "\n",
    "setpoint_arm = np.array([-0.0,-0.,0.,-0.,-0.,0,0])\n",
    "myArm.commandJoints(motors, setpoint_arm, trajectory=True)\n",
    "\n",
    "motorSetpoints = []\n",
    "motorPositions = []\n",
    "\n",
    "for i in range(int(rt/dt-1)):\n",
    "    x = np.sin(i*2*np.pi*dt*hz)*amplitude+startPos\n",
    "    setpoint_arm = np.ones(7)*x#np.array([-0.0,-0.,x,-0.,-0.,0,0])\n",
    "    myArm.commandJoints(motors, setpoint_arm, trajectory=False)\n",
    "    \n",
    "    motorSetpoints.append(motors.get_motors_setpoint_radians())\n",
    "    motorPositions.append(motors.get_motors_position_radians())\n",
    "    time.sleep(dt)\n",
    "    \n",
    "motorSetpoints = np.array(motorSetpoints)\n",
    "motorPositions = np.array(motorPositions)\n",
    "#plt.plot(motorSetpoints[:,:])\n",
    "#plt.plot(motorPositions[:,:])\n",
    "plt.figure()\n",
    "plt.plot(motorSetpoints[:,1])\n",
    "plt.plot(motorPositions[:,1])\n",
    "plt.legend(['Setpoint', 'Position'])\n",
    "plt.xlabel(['Time'])\n",
    "plt.ylabel(['Position (radians)'])\n",
    "plt.show()"
   ]
  },
  {
   "cell_type": "code",
   "execution_count": 347,
   "metadata": {},
   "outputs": [],
   "source": [
    "setpoints = np.zeros(8)\n",
    "velocity = np.ones(8)*3.14/5\n",
    "motors.run_trajectory(setpoints, velocity)\n",
    "time.sleep(1)\n",
    "motors.tcp_close()"
   ]
  },
  {
   "cell_type": "code",
   "execution_count": null,
   "metadata": {},
   "outputs": [],
   "source": []
  },
  {
   "cell_type": "code",
   "execution_count": null,
   "metadata": {},
   "outputs": [],
   "source": []
  }
 ],
 "metadata": {
  "kernelspec": {
   "display_name": "Python 3",
   "language": "python",
   "name": "python3"
  },
  "language_info": {
   "codemirror_mode": {
    "name": "ipython",
    "version": 3
   },
   "file_extension": ".py",
   "mimetype": "text/x-python",
   "name": "python",
   "nbconvert_exporter": "python",
   "pygments_lexer": "ipython3",
   "version": "3.6.7"
  }
 },
 "nbformat": 4,
 "nbformat_minor": 2
}
