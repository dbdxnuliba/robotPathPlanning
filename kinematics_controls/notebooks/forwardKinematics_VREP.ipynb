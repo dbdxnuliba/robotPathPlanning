{
 "cells": [
  {
   "cell_type": "code",
   "execution_count": 1,
   "metadata": {},
   "outputs": [],
   "source": [
    "#puts above directory into the path\n",
    "import sys\n",
    "sys.path.append(\"../../VREP_robot\")\n",
    "sys.path.append(\"../../VREP_robot/utils\")\n",
    "sys.path.append(\"../\")\n",
    "import vrep\n",
    "from vrepRobot import *\n",
    "\n",
    "from forwardKinematics import robot_config\n",
    "import numpy as np\n",
    "import time\n",
    "\n",
    "pi = np.pi"
   ]
  },
  {
   "cell_type": "code",
   "execution_count": 2,
   "metadata": {},
   "outputs": [],
   "source": [
    "# myRobot = robot_config()\n",
    "# vrep_env = VREP_Environement()\n",
    "# robot_handles  = ['pose_j0', 'pose_j1', 'pose_j2', 'pose_j3', 'pose_j4', 'pose_j5', 'pose_j6', 'pose_j7']\n",
    "# vrep_env.add_robot(VREP_Robot('robot', robot_handles))\n",
    "# vrep_env.start_simulation()"
   ]
  },
  {
   "cell_type": "code",
   "execution_count": 3,
   "metadata": {},
   "outputs": [
    {
     "name": "stdout",
     "output_type": "stream",
     "text": [
      "Connected to remote API server\n",
      "In synchronous mode\n",
      "1 robot(s) connected: ['ik_robot']\n"
     ]
    }
   ],
   "source": [
    "# setup environment\n",
    "myRobot = robot_config()\n",
    "# vrep_env = VREP_Environement(synchronous=False)\n",
    "vrep_env = VREP_Environement(synchronous=True)\n",
    "ik_handles = ['ik_joint1', 'ik_joint2', 'ik_joint3', 'ik_joint4', 'ik_joint5', 'ik_joint6', 'ik_joint7', 'ik_ee', 'kinematicsTest_IKTip', 'ik_rf7_static']\n",
    "vrep_env.add_robot(VREP_Robot('ik_robot', ik_handles, connection_type = 'nonblocking'))\n",
    "vrep_env.start_simulation()"
   ]
  },
  {
   "cell_type": "code",
   "execution_count": 4,
   "metadata": {},
   "outputs": [],
   "source": [
    "# start = time.time()\n",
    "\n",
    "# while time.time() - start < 18:\n",
    "#     dt = time.time() - start\n",
    "#     a = np.sin(dt)*0.5\n",
    "#     q = np.array([0.2, -2.5, 0., 0., 0., 0., 0. + a])\n",
    "#     positions = np.zeros((8,3))\n",
    "#     positions[1:,:] = (myRobot.forwardKinPos(q))\n",
    "#     orientations = np.zeros((8, 4)) #4 for quat\n",
    "#     orientations[0,-1] = 1\n",
    "\n",
    "#     print('Forward kinematic positions: {}'.format(positions))\n",
    "#     orientations[1:,:] = myRobot.forwardKinOrientation(q)\n",
    "#     print('Forward kinematic orientations: {}'.format(orientations))\n",
    "\n",
    "#     print(vrep_env.robot.handle_names)\n",
    "#     for i in range(len(robot_handles)):\n",
    "#         vrep_env.robot.setObjectPosition(vrep_env.robot.handles[i], positions[i])\n",
    "#         vrep_env.robot.setObjectQuaternion(vrep_env.robot.handles[i], orientations[i])\n",
    "        \n",
    "#     time.sleep(0.2)"
   ]
  },
  {
   "cell_type": "code",
   "execution_count": 5,
   "metadata": {},
   "outputs": [],
   "source": [
    "#JEE = myRobot.J('EE', q)\n",
    "#print(\"analytic jacobian: \\n{}\".format(JEE))"
   ]
  },
  {
   "cell_type": "code",
   "execution_count": 6,
   "metadata": {},
   "outputs": [],
   "source": [
    "vrep_env.ik_robot.getCollisionHandle('Collision')\n",
    "time.sleep(1)"
   ]
  },
  {
   "cell_type": "code",
   "execution_count": 7,
   "metadata": {},
   "outputs": [
    {
     "data": {
      "text/plain": [
       "(1, [0.0, 0.0, 0.0, 0.0])"
      ]
     },
     "execution_count": 7,
     "metadata": {},
     "output_type": "execute_result"
    }
   ],
   "source": [
    "# initialize collision check\n",
    "# !!!important\n",
    "vrep_env.ik_robot.getCollisionState(initialize=True)\n",
    "vrep_env.ik_robot.getObjectPosition(vrep_env.ik_robot.handles[8], relative2='ik_rf7_static',initialize=True)\n",
    "vrep_env.ik_robot.getObjectOrientation(vrep_env.ik_robot.handles[8], relative2='ik_rf7_static',initialize=True)\n",
    "vrep_env.ik_robot.getObjectQuaternion(vrep_env.ik_robot.handles[8], relative2='ik_rf7_static',initialize=True)"
   ]
  },
  {
   "cell_type": "code",
   "execution_count": 93,
   "metadata": {},
   "outputs": [
    {
     "name": "stdout",
     "output_type": "stream",
     "text": [
      "joint lower limit\n",
      " [-0.1        -0.045      -1.57079633 -0.90757121 -0.87615528 -0.90757121\n",
      "  0.        ]\n",
      "joint upper limit\n",
      " [0.1        0.905      1.57079633 0.90757121 0.90408055 0.90757121\n",
      " 0.055     ]\n",
      "total configs =  1000000\n",
      "[[-0.1        -0.045      -1.57079633 -0.90757121 -0.87615528 -0.90757121]\n",
      " [-0.1        -0.045      -1.57079633 -0.90757121 -0.87615528 -0.70588872]\n",
      " [-0.1        -0.045      -1.57079633 -0.90757121 -0.87615528 -0.50420623]\n",
      " ...\n",
      " [ 0.1         0.905       1.57079633  0.90757121  0.90408055  0.50420623]\n",
      " [ 0.1         0.905       1.57079633  0.90757121  0.90408055  0.70588872]\n",
      " [ 0.1         0.905       1.57079633  0.90757121  0.90408055  0.90757121]]\n",
      "5.555555555555555\n"
     ]
    }
   ],
   "source": [
    "# generate config samples\n",
    "from configGenerator_VREP import configGenerator_VREP\n",
    "config = configGenerator_VREP.generate_sample(10)  # !!!set sample number here\n",
    "total_config = config.shape[0]\n",
    "print(\"total configs = \", total_config)\n",
    "print(config)\n",
    "print(total_config/50/3600)"
   ]
  },
  {
   "cell_type": "code",
   "execution_count": 94,
   "metadata": {},
   "outputs": [],
   "source": [
    "# initialize collision state placeholder\n",
    "y = np.zeros((total_config))\n",
    "EEPosition = np.zeros((total_config,3))\n",
    "EEOrientation = np.zeros((total_config,3))\n",
    "EEQuaternion = np.zeros((total_config,4))"
   ]
  },
  {
   "cell_type": "code",
   "execution_count": 95,
   "metadata": {},
   "outputs": [
    {
     "data": {
      "application/vnd.jupyter.widget-view+json": {
       "model_id": "0d17abf767fc479984f0ba311d753549",
       "version_major": 2,
       "version_minor": 0
      },
      "text/plain": [
       "HBox(children=(IntProgress(value=0, max=1000000), HTML(value='')))"
      ]
     },
     "metadata": {},
     "output_type": "display_data"
    },
    {
     "name": "stderr",
     "output_type": "stream",
     "text": [
      "C:\\Users\\home\\Anaconda3\\lib\\site-packages\\ipykernel_launcher.py:6: DeprecationWarning: time.clock has been deprecated in Python 3.3 and will be removed from Python 3.8: use time.perf_counter or time.process_time instead\n",
      "  \n",
      "C:\\Users\\home\\Anaconda3\\lib\\site-packages\\ipykernel_launcher.py:35: DeprecationWarning: time.clock has been deprecated in Python 3.3 and will be removed from Python 3.8: use time.perf_counter or time.process_time instead\n"
     ]
    },
    {
     "name": "stdout",
     "output_type": "stream",
     "text": [
      "runtime =  24916.2702629\n",
      "collision state =  [0. 1. 1. ... 1. 1. 1.]\n",
      "EEPosition\n",
      " [[-0.10452056  0.34297428 -0.38671896]\n",
      " [-0.126966    0.3445963  -0.35842001]\n",
      " [-0.14567816  0.34043008 -0.32776463]\n",
      " ...\n",
      " [-0.17290831  0.11709514  0.65735751]\n",
      " [-0.16001546  0.12893638  0.62572211]\n",
      " [-0.14231181  0.13536909  0.59486002]]\n",
      "EEPrientation\n",
      " [[-2.01463223 -0.49269596 -2.32834673]\n",
      " [-1.8342607  -0.62449944 -2.23235559]\n",
      " [-1.61899161 -0.73782098 -2.09626746]\n",
      " ...\n",
      " [-1.63609052 -0.75881737  1.02019942]\n",
      " [-1.85074127 -0.64108473  0.88137478]\n",
      " [-2.0282886  -0.50501668  0.78470683]]\n",
      "EEQuaternion\n",
      " [[-0.20463535 -0.80454409 -0.39422914  0.39422908]\n",
      " [-0.16390854 -0.76076967 -0.41282716  0.47322017]\n",
      " [-0.12151644 -0.70926553 -0.42723066  0.5474031 ]\n",
      " ...\n",
      " [-0.71523923  0.11002889  0.54595327  0.42221037]\n",
      " [-0.76656705  0.15197402  0.47117633  0.40898877]\n",
      " [-0.81010628  0.19237506  0.39161199  0.3916117 ]]\n"
     ]
    }
   ],
   "source": [
    "# collision detect\n",
    "from tqdm import tqdm_notebook as tqdm\n",
    "\n",
    "pbar = tqdm(total=total_config)  # set progress bar\n",
    "\n",
    "t = time.clock()\n",
    "for i in range(total_config):\n",
    "#for i in range(len(jointAngle)):\n",
    "    joint_angle = config[i, :]\n",
    "    for j in range(6):\n",
    "        vrep_env.ik_robot.setJointPosition(vrep_env.ik_robot.handles[j], joint_angle[j])\n",
    "    #vrep_env.ik_robot.setJointPosition(vrep_env.ik_robot.handles[5], jointAngle[i])\n",
    "    \n",
    "    vrep.simxSynchronousTrigger(vrep_env.clientID)\n",
    "    #vrep.simxGetPingTime(vrep_env.clientID)\n",
    "    #time.sleep(1)\n",
    "    collisionState = vrep_env.ik_robot.getCollisionState()\n",
    "    #print(collisionState)\n",
    "    y[i] = collisionState\n",
    "    vrep.simxSynchronousTrigger(vrep_env.clientID)\n",
    "    #vrep.simxGetPingTime(vrep_env.clientID)\n",
    "    EEPosition[i,:] = vrep_env.ik_robot.getObjectPosition(vrep_env.ik_robot.handles[8], relative2='ik_rf7_static')[1]\n",
    "    EEOrientation[i,:] = vrep_env.ik_robot.getObjectOrientation(vrep_env.ik_robot.handles[8], relative2='ik_rf7_static')[1]\n",
    "    EEQuaternion[i,:] = vrep_env.ik_robot.getObjectQuaternion(vrep_env.ik_robot.handles[8], relative2='ik_rf7_static')[1]\n",
    "    pbar.update(1)\n",
    "#     time.sleep(0.5)\n",
    "    #print(EEPosition[i,:])\n",
    "    \n",
    "    #if i%int(total_config/100+1) == 0:\n",
    "    #    Data = np.hstack((config, y.reshape(-1,1),EEPosition,EEOrientation,EEQuaternion))\n",
    "    #    #np.save(r'C:\\Users\\xumw1\\Documents\\GitHub\\robotPathPlanning\\logs\\CollisionData{}.npy'.format(i),Data)\n",
    "    #    np.save('logs/CollisionData{}.npy'.format(i),Data)\n",
    "    \n",
    "pbar.close()\n",
    "print('runtime = ', time.clock()-t)  \n",
    "print('collision state = ', y)\n",
    "print('EEPosition\\n', EEPosition)\n",
    "print('EEPrientation\\n', EEOrientation)\n",
    "print('EEQuaternion\\n', EEQuaternion)\n",
    "#np.save(r'C:\\Users\\xumw1\\Documents\\GitHub\\robotPathPlanning\\logs\\CollisionData.npy',Data)\n",
    "np.save('logs/CollisionData.npy',Data)"
   ]
  },
  {
   "cell_type": "code",
   "execution_count": null,
   "metadata": {},
   "outputs": [],
   "source": [
    "# plot\n",
    "%matplotlib inline\n",
    "from mpl_toolkits.mplot3d import Axes3D\n",
    "import matplotlib.pyplot as plt\n",
    "\n",
    "fig = plt.figure()\n",
    "ax = fig.add_subplot(111, projection='3d')\n",
    "ax.scatter(-EEPosition[:,1], EEPosition[:,2], -EEPosition[:,0])\n",
    "plt.show()"
   ]
  },
  {
   "cell_type": "code",
   "execution_count": null,
   "metadata": {},
   "outputs": [],
   "source": [
    "EEPosition_free = EEPosition[y==0,:]\n",
    "print(EEPosition_free)"
   ]
  },
  {
   "cell_type": "code",
   "execution_count": null,
   "metadata": {},
   "outputs": [],
   "source": [
    "fig = plt.figure()\n",
    "ax = fig.add_subplot(111, projection='3d')\n",
    "ax.scatter(-EEPosition_free[:,1], EEPosition_free[:,2], -EEPosition_free[:,0])\n",
    "plt.show()"
   ]
  },
  {
   "cell_type": "code",
   "execution_count": 16,
   "metadata": {},
   "outputs": [
    {
     "name": "stdout",
     "output_type": "stream",
     "text": [
      "False\n",
      "True\n",
      "True\n",
      "True\n",
      "True\n",
      "EEPosition\n",
      " [[-0.14231169  0.12143329 -0.13218689]\n",
      " [-0.14231157 -0.03155687  0.08037645]\n",
      " [-0.14231145  0.00473002  0.28247321]\n",
      " [-0.14231133  0.02803704  0.47708142]\n",
      " [-0.14231157  0.03536907  0.68985993]]\n"
     ]
    }
   ],
   "source": [
    "#test\n",
    "EEPosition = np.zeros((5,3))\n",
    "joint_angle = np.linspace(0,1,5)\n",
    "for i in range(5):\n",
    "    vrep_env.ik_robot.setJointPosition(vrep_env.ik_robot.handles[0], joint_angle[i])\n",
    "    vrep_env.ik_robot.setJointPosition(vrep_env.ik_robot.handles[1], joint_angle[i])\n",
    "    vrep_env.ik_robot.setJointPosition(vrep_env.ik_robot.handles[3], joint_angle[i])\n",
    "    vrep.simxSynchronousTrigger(vrep_env.clientID)\n",
    "    vrep.simxGetPingTime(vrep_env.clientID)\n",
    "    collisionState = vrep_env.ik_robot.getCollisionState()\n",
    "    EEPosition[i,:] = vrep_env.ik_robot.getObjectPosition(vrep_env.ik_robot.handles[8], relative2='ik_rf7_static')[1]\n",
    "    time.sleep(1)\n",
    "    print(collisionState)\n",
    "print('EEPosition\\n', EEPosition)"
   ]
  },
  {
   "cell_type": "code",
   "execution_count": 17,
   "metadata": {},
   "outputs": [
    {
     "data": {
      "image/png": "[encoded data removed]",
      "text/plain": [
       "<Figure size 432x288 with 1 Axes>"
      ]
     },
     "metadata": {
      "needs_background": "light"
     },
     "output_type": "display_data"
    }
   ],
   "source": [
    "fig = plt.figure()\n",
    "ax = fig.add_subplot(111, projection='3d')\n",
    "ax.scatter(-EEPosition[:,1], EEPosition[:,2], -EEPosition[:,0])\n",
    "plt.show()"
   ]
  },
  {
   "cell_type": "markdown",
   "metadata": {},
   "source": [
    "## orientation dictionary work"
   ]
  },
  {
   "cell_type": "code",
   "execution_count": 24,
   "metadata": {},
   "outputs": [
    {
     "data": {
      "text/plain": [
       "(4096, 3)"
      ]
     },
     "execution_count": 24,
     "metadata": {},
     "output_type": "execute_result"
    }
   ],
   "source": [
    "EEOrientation.shape\n"
   ]
  },
  {
   "cell_type": "code",
   "execution_count": null,
   "metadata": {},
   "outputs": [],
   "source": [
    "import transforms3d as t3d\n",
    "import numpy as np\n",
    "\n",
    "def quantizeOrientationsBins(numBins, quaternions):\n",
    "    #numBins is per axis --> numBins**2\n",
    "    #using spherical coordinates: https://en.wikipedia.org/wiki/Spherical_coordinate_system\n",
    "    #theta 0 is - pi/2 to pi/2\n",
    "    #phi is -pi to pi\n",
    "    #orientations is in quaternions\n",
    "    \n",
    "    quaternions = np.roll(quaternions, 1).copy()#we need w, x, y, z; vrep uses x, y, z, w\n",
    "    \n",
    "    thetaInterval = np.linspace(-np.pi/2, np.pi/2, num=numBins+1)\n",
    "    phiInterval = np.linspace(-np.pi, np.pi, num=numBins+1)\n",
    "    \n",
    "    spherical = np.zeros((quaternions.shape[0],2)) #phi, theta\n",
    "    for i in range(spherical.shape[0]):\n",
    "        rotMat = t3d.quaternions.quat2mat(quaternions[i,:])\n",
    "        cartesian = rotMat@np.ones((3,1))\n",
    "        spherical[i,0] = np.arctan2(cartesian[1], cartesian[0]) # phi\n",
    "        spherical[i,1] = np.arctan2(np.sqrt(cartesian[0]**2 + cartesian[1]**2), cartesian[2]) - np.pi/2 # theta\n",
    "        \n",
    "    binCounts = np.zeros((numBins,numBins))\n",
    "    for i in range(numBins):\n",
    "        for j in range(numBins):\n",
    "            temp = np.stack((np.logical_and(spherical[:,1] > thetaInterval[i], spherical[:,1] < thetaInterval[i+1]),\n",
    "                             np.logical_and(spherical[:,0] > phiInterval[j], spherical[:,0] < phiInterval[j+1])), axis = 1)\n",
    "            #print(temp.shape)\n",
    "            temp = temp.all(axis=1)\n",
    "            binCounts[i,j] = np.sum(temp)\n",
    "    return binCounts, spherical, temp, thetaInterval, phiInterval\n",
    "\n",
    "binCounts, spherical, temp, thetaInterval, phiInterval = quantizeOrientationsBins(4, EEQuaternion)\n",
    "\n",
    "print(binCounts)"
   ]
  },
  {
   "cell_type": "code",
   "execution_count": null,
   "metadata": {},
   "outputs": [],
   "source": [
    "start = time.time()\n",
    "for i in range(1000):\n",
    "    binCounts, spherical, temp, thetaInterval, phiInterval = quantizeOrientationsBins(4, EEQuaternion) \n",
    "end = time.time()\n",
    "end - start\n",
    "\n"
   ]
  },
  {
   "cell_type": "code",
   "execution_count": null,
   "metadata": {},
   "outputs": [],
   "source": []
  }
 ],
 "metadata": {
  "kernelspec": {
   "display_name": "Python 3",
   "language": "python",
   "name": "python3"
  },
  "language_info": {
   "codemirror_mode": {
    "name": "ipython",
    "version": 3
   },
   "file_extension": ".py",
   "mimetype": "text/x-python",
   "name": "python",
   "nbconvert_exporter": "python",
   "pygments_lexer": "ipython3",
   "version": "3.7.1"
  }
 },
 "nbformat": 4,
 "nbformat_minor": 2
}
