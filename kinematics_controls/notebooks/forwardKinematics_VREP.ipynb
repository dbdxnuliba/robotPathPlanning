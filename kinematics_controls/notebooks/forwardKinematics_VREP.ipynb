{
 "cells": [
  {
   "cell_type": "code",
   "execution_count": 61,
   "metadata": {},
   "outputs": [],
   "source": [
    "#puts above directory into the path\n",
    "import sys\n",
    "sys.path.append(\"../../VREP_robot\")\n",
    "sys.path.append(\"../../VREP_robot/utils\")\n",
    "sys.path.append(\"../\")\n",
    "import vrep\n",
    "from vrepRobot import *\n",
    "\n",
    "from forwardKinematics import robot_config\n",
    "import numpy as np\n",
    "import time\n",
    "\n",
    "pi = np.pi"
   ]
  },
  {
   "cell_type": "code",
   "execution_count": 62,
   "metadata": {},
   "outputs": [],
   "source": [
    "# myRobot = robot_config()\n",
    "# vrep_env = VREP_Environement()\n",
    "# robot_handles  = ['pose_j0', 'pose_j1', 'pose_j2', 'pose_j3', 'pose_j4', 'pose_j5', 'pose_j6', 'pose_j7']\n",
    "# vrep_env.add_robot(VREP_Robot('robot', robot_handles))\n",
    "# vrep_env.start_simulation()"
   ]
  },
  {
   "cell_type": "markdown",
   "metadata": {},
   "source": [
    "# Setup Environment"
   ]
  },
  {
   "cell_type": "code",
   "execution_count": 63,
   "metadata": {},
   "outputs": [
    {
     "name": "stdout",
     "output_type": "stream",
     "text": [
      "Connected to remote API server\n",
      "In synchronous mode\n",
      "1 robot(s) connected: ['ik_robot']\n"
     ]
    }
   ],
   "source": [
    "# setup environment\n",
    "myRobot = robot_config()\n",
    "# vrep_env = VREP_Environement(synchronous=False)\n",
    "vrep_env = VREP_Environement(synchronous=True)\n",
    "ik_handles = ['ik_joint1', 'ik_joint2', 'ik_joint3', 'ik_joint4', 'ik_joint5', 'ik_joint6', 'ik_joint7', 'ik_ee', 'kinematicsTest_IKTip', 'ik_rf7_static']\n",
    "vrep_env.add_robot(VREP_Robot('ik_robot', ik_handles, connection_type = 'nonblocking'))\n",
    "vrep_env.start_simulation()"
   ]
  },
  {
   "cell_type": "code",
   "execution_count": 64,
   "metadata": {},
   "outputs": [],
   "source": [
    "# start = time.time()\n",
    "\n",
    "# while time.time() - start < 18:\n",
    "#     dt = time.time() - start\n",
    "#     a = np.sin(dt)*0.5\n",
    "#     q = np.array([0.2, -2.5, 0., 0., 0., 0., 0. + a])\n",
    "#     positions = np.zeros((8,3))\n",
    "#     positions[1:,:] = (myRobot.forwardKinPos(q))\n",
    "#     orientations = np.zeros((8, 4)) #4 for quat\n",
    "#     orientations[0,-1] = 1\n",
    "\n",
    "#     print('Forward kinematic positions: {}'.format(positions))\n",
    "#     orientations[1:,:] = myRobot.forwardKinOrientation(q)\n",
    "#     print('Forward kinematic orientations: {}'.format(orientations))\n",
    "\n",
    "#     print(vrep_env.robot.handle_names)\n",
    "#     for i in range(len(robot_handles)):\n",
    "#         vrep_env.robot.setObjectPosition(vrep_env.robot.handles[i], positions[i])\n",
    "#         vrep_env.robot.setObjectQuaternion(vrep_env.robot.handles[i], orientations[i])\n",
    "        \n",
    "#     time.sleep(0.2)"
   ]
  },
  {
   "cell_type": "code",
   "execution_count": 65,
   "metadata": {},
   "outputs": [],
   "source": [
    "#JEE = myRobot.J('EE', q)\n",
    "#print(\"analytic jacobian: \\n{}\".format(JEE))"
   ]
  },
  {
   "cell_type": "code",
   "execution_count": 66,
   "metadata": {},
   "outputs": [],
   "source": [
    "vrep_env.ik_robot.getCollisionHandle('Collision')\n",
    "time.sleep(1)"
   ]
  },
  {
   "cell_type": "markdown",
   "metadata": {},
   "source": [
    "# Initialization"
   ]
  },
  {
   "cell_type": "code",
   "execution_count": 67,
   "metadata": {},
   "outputs": [
    {
     "data": {
      "text/plain": [
       "(0,\n",
       " [-0.8101062774658203,\n",
       "  0.1923750638961792,\n",
       "  0.3916119933128357,\n",
       "  0.3916116952896118])"
      ]
     },
     "execution_count": 67,
     "metadata": {},
     "output_type": "execute_result"
    }
   ],
   "source": [
    "# initialize collision check\n",
    "# !!!important\n",
    "vrep_env.ik_robot.getCollisionState(initialize=True)\n",
    "vrep_env.ik_robot.getObjectPosition(vrep_env.ik_robot.handles[8], relative2='ik_rf7_static',initialize=True)\n",
    "vrep_env.ik_robot.getObjectOrientation(vrep_env.ik_robot.handles[8], relative2='ik_rf7_static',initialize=True)\n",
    "vrep_env.ik_robot.getObjectQuaternion(vrep_env.ik_robot.handles[8], relative2='ik_rf7_static',initialize=True)\n",
    "time.sleep(0.5)\n",
    "vrep_env.ik_robot.getCollisionState(initialize=True)\n",
    "vrep_env.ik_robot.getObjectPosition(vrep_env.ik_robot.handles[8], relative2='ik_rf7_static',initialize=True)\n",
    "vrep_env.ik_robot.getObjectOrientation(vrep_env.ik_robot.handles[8], relative2='ik_rf7_static',initialize=True)\n",
    "vrep_env.ik_robot.getObjectQuaternion(vrep_env.ik_robot.handles[8], relative2='ik_rf7_static',initialize=True)"
   ]
  },
  {
   "cell_type": "markdown",
   "metadata": {},
   "source": [
    "# Generate Configs\n",
    "### set sample number here"
   ]
  },
  {
   "cell_type": "code",
   "execution_count": 68,
   "metadata": {},
   "outputs": [
    {
     "name": "stdout",
     "output_type": "stream",
     "text": [
      "joint lower limit\n",
      " [-0.1        -0.045      -1.57079633 -0.90757121 -0.87615528 -0.90757121\n",
      "  0.        ]\n",
      "joint upper limit\n",
      " [0.1        0.905      1.57079633 0.90757121 0.90408055 0.90757121\n",
      " 0.055     ]\n",
      "total configs =  15625\n",
      "[[-0.1        -0.045      -1.57079633 -0.90757121 -0.87615528 -0.90757121]\n",
      " [-0.1        -0.045      -1.57079633 -0.90757121 -0.87615528 -0.45378561]\n",
      " [-0.1        -0.045      -1.57079633 -0.90757121 -0.87615528  0.        ]\n",
      " ...\n",
      " [ 0.1         0.905       1.57079633  0.90757121  0.90408055  0.        ]\n",
      " [ 0.1         0.905       1.57079633  0.90757121  0.90408055  0.45378561]\n",
      " [ 0.1         0.905       1.57079633  0.90757121  0.90408055  0.90757121]]\n",
      "0.08680555555555555\n"
     ]
    }
   ],
   "source": [
    "# generate config samples\n",
    "from configGenerator_VREP import configGenerator_VREP\n",
    "config = configGenerator_VREP.generate_sample(5)  # !!!set sample number here\n",
    "total_config = config.shape[0]\n",
    "print(\"total configs = \", total_config)\n",
    "print(config)\n",
    "print(total_config/50/3600)"
   ]
  },
  {
   "cell_type": "markdown",
   "metadata": {},
   "source": [
    "# Collision Detect"
   ]
  },
  {
   "cell_type": "code",
   "execution_count": 69,
   "metadata": {},
   "outputs": [],
   "source": [
    "# initialize collision state placeholder\n",
    "y = np.zeros((total_config))\n",
    "EEPosition = np.zeros((total_config,3))\n",
    "EEOrientation = np.zeros((total_config,3))\n",
    "EEQuaternion = np.zeros((total_config,4))"
   ]
  },
  {
   "cell_type": "code",
   "execution_count": 70,
   "metadata": {},
   "outputs": [
    {
     "data": {
      "application/vnd.jupyter.widget-view+json": {
       "model_id": "0f908823d5474106b4ed2388a8e6dfc8",
       "version_major": 2,
       "version_minor": 0
      },
      "text/plain": [
       "HBox(children=(IntProgress(value=0, max=15625), HTML(value='')))"
      ]
     },
     "metadata": {},
     "output_type": "display_data"
    },
    {
     "name": "stdout",
     "output_type": "stream",
     "text": [
      "\n",
      "runtime =  383.8233633462087\n",
      "collision state =  [1. 1. 1. ... 1. 1. 1.]\n",
      "EEPosition\n",
      " [[-0.10452056  0.34297428 -0.38671896]\n",
      " [-0.14968014  0.33849886 -0.3198767 ]\n",
      " [-0.17160153  0.30635628 -0.24906999]\n",
      " ...\n",
      " [-0.18119943  0.0674648   0.73147911]\n",
      " [-0.17531407  0.11334148  0.66523701]\n",
      " [-0.14231181  0.13536909  0.59486002]]\n",
      "EEPrientation\n",
      " [[-2.01463223 -0.49269596 -2.32834673]\n",
      " [-1.55867672 -0.76222014 -2.05514359]\n",
      " [-0.90757006 -0.87615514 -1.57079589]\n",
      " ...\n",
      " [-0.90757191 -0.90408105  1.57079637]\n",
      " [-1.57537854 -0.78429163  1.06254101]\n",
      " [-2.0282886  -0.50501668  0.78470683]]\n",
      "EEQuaternion\n",
      " [[-0.20463535 -0.80454409 -0.39422914  0.39422908]\n",
      " [-0.11070836 -0.69524145 -0.43015796  0.56510812]\n",
      " [-0.01110656 -0.55030072 -0.44403714  0.70701969]\n",
      " ...\n",
      " [-0.55644733  0.00123414  0.7071057   0.43631008]\n",
      " [-0.70124978  0.09935093  0.56380934  0.42484975]\n",
      " [-0.81010628  0.19237506  0.39161199  0.3916117 ]]\n"
     ]
    }
   ],
   "source": [
    "# collision detect\n",
    "from tqdm import tqdm_notebook as tqdm\n",
    "\n",
    "pbar = tqdm(total=total_config)  # set progress bar\n",
    "\n",
    "t = time.clock()\n",
    "for i in range(total_config):\n",
    "#for i in range(len(jointAngle)):\n",
    "    joint_angle = config[i, :]\n",
    "    for j in range(6):\n",
    "        vrep_env.ik_robot.setJointPosition(vrep_env.ik_robot.handles[j], joint_angle[j])\n",
    "    #vrep_env.ik_robot.setJointPosition(vrep_env.ik_robot.handles[5], jointAngle[i])\n",
    "    \n",
    "    vrep.simxSynchronousTrigger(vrep_env.clientID)\n",
    "    #vrep.simxGetPingTime(vrep_env.clientID)\n",
    "    #time.sleep(1)\n",
    "    collisionState = vrep_env.ik_robot.getCollisionState()\n",
    "    #print(collisionState)\n",
    "    y[i] = collisionState\n",
    "    vrep.simxSynchronousTrigger(vrep_env.clientID)\n",
    "    #vrep.simxGetPingTime(vrep_env.clientID)\n",
    "    EEPosition[i,:] = vrep_env.ik_robot.getObjectPosition(vrep_env.ik_robot.handles[8], relative2='ik_rf7_static')[1]\n",
    "    EEOrientation[i,:] = vrep_env.ik_robot.getObjectOrientation(vrep_env.ik_robot.handles[8], relative2='ik_rf7_static')[1]\n",
    "    EEQuaternion[i,:] = vrep_env.ik_robot.getObjectQuaternion(vrep_env.ik_robot.handles[8], relative2='ik_rf7_static')[1]\n",
    "    pbar.update(1)\n",
    "#     time.sleep(0.5)\n",
    "    #print(EEPosition[i,:])\n",
    "    \n",
    "    #if i%int(total_config/100+1) == 0:\n",
    "    #    Data = np.hstack((config, y.reshape(-1,1),EEPosition,EEOrientation,EEQuaternion))\n",
    "    #    #np.save(r'C:\\Users\\xumw1\\Documents\\GitHub\\robotPathPlanning\\logs\\CollisionData{}.npy'.format(i),Data)\n",
    "    #    np.save('logs/CollisionData{}.npy'.format(i),Data)\n",
    "    \n",
    "pbar.close()\n",
    "print('runtime = ', time.clock()-t)  \n",
    "print('collision state = ', y)\n",
    "print('EEPosition\\n', EEPosition)\n",
    "print('EEPrientation\\n', EEOrientation)\n",
    "print('EEQuaternion\\n', EEQuaternion)\n",
    "#np.save(r'C:\\Users\\xumw1\\Documents\\GitHub\\robotPathPlanning\\logs\\CollisionData.npy',Data)\n",
    "Data = np.hstack((config, y.reshape(-1,1),EEPosition,EEOrientation,EEQuaternion))\n",
    "np.save('logs/CollisionData.npy',Data)"
   ]
  },
  {
   "cell_type": "markdown",
   "metadata": {},
   "source": [
    "# Save Data"
   ]
  },
  {
   "cell_type": "code",
   "execution_count": 71,
   "metadata": {},
   "outputs": [],
   "source": [
    "Data = np.hstack((config, y.reshape(-1,1),EEPosition,EEOrientation,EEQuaternion))\n",
    "np.save('logs/CollisionData.npy',Data)"
   ]
  },
  {
   "cell_type": "markdown",
   "metadata": {},
   "source": [
    "# Plot"
   ]
  },
  {
   "cell_type": "code",
   "execution_count": 72,
   "metadata": {},
   "outputs": [
    {
     "data": {
      "image/png": "[encoded data removed]",
      "text/plain": [
       "<Figure size 432x288 with 1 Axes>"
      ]
     },
     "metadata": {
      "needs_background": "light"
     },
     "output_type": "display_data"
    }
   ],
   "source": [
    "# plot\n",
    "%matplotlib inline\n",
    "from mpl_toolkits.mplot3d import Axes3D\n",
    "import matplotlib.pyplot as plt\n",
    "\n",
    "fig = plt.figure()\n",
    "ax = fig.add_subplot(111, projection='3d')\n",
    "ax.scatter(-EEPosition[:,1], EEPosition[:,2], -EEPosition[:,0])\n",
    "plt.show()"
   ]
  },
  {
   "cell_type": "code",
   "execution_count": 14,
   "metadata": {},
   "outputs": [
    {
     "name": "stdout",
     "output_type": "stream",
     "text": [
      "[[ 4.76837158e-07  4.99997139e-02 -2.98023224e-07]\n",
      " [ 4.76837158e-07  4.99997139e-02 -2.98023224e-07]\n",
      " [ 4.76837158e-07  4.99997139e-02 -2.98023224e-07]\n",
      " [-1.04520559e-01  3.42974275e-01 -3.86718959e-01]\n",
      " [ 1.60609722e-01  3.35150450e-01 -3.92831564e-01]\n",
      " [ 2.29224920e-01  2.97039360e-01 -2.56349087e-01]\n",
      " [ 1.90337062e-01  1.80906147e-01 -1.57410860e-01]\n",
      " [-1.04520798e-01  2.51007736e-01 -1.90651685e-01]\n",
      " [ 3.04125547e-02  2.51007736e-01 -1.32385552e-01]\n",
      " [ 3.16315889e-02  1.19994521e-01 -4.50811982e-02]\n",
      " [ 3.09406519e-02 -2.94686854e-02 -9.45610702e-02]\n",
      " [ 1.60609603e-01  2.51007676e-01 -2.00580090e-01]\n",
      " [ 2.29225039e-01  1.19994581e-01 -1.46585196e-01]\n",
      " [ 1.90337300e-01 -2.94686258e-02 -1.77186906e-01]\n",
      " [-1.71601415e-01 -8.48174393e-02 -2.11241782e-01]\n",
      " [ 3.04125547e-02 -6.03005290e-03 -1.06538922e-01]\n",
      " [ 3.16318274e-02 -1.55486554e-01 -1.56028986e-01]\n",
      " [ 3.09410095e-02 -2.08514541e-01 -3.04270416e-01]\n",
      " [ 1.60609663e-01  4.77080941e-02 -1.48523748e-01]\n",
      " [ 1.90337300e-01 -1.43404514e-01 -3.55139852e-01]\n",
      " [-2.22979426e-01 -3.25510204e-02 -3.86718810e-01]\n",
      " [-2.68893719e-01  1.02381974e-01 -3.50846589e-01]\n",
      " [-2.15155721e-01  2.32579321e-01 -3.92831445e-01]\n",
      " [ 5.96046448e-07 -9.96318758e-02 -1.34761810e-01]\n",
      " [ 1.49463654e-01 -6.16137087e-02 -1.66437358e-01]\n",
      " [-1.31012797e-01  1.02382034e-01 -1.32385463e-01]\n",
      " [ 3.57627869e-07  1.03601068e-01 -4.50811982e-02]\n",
      " [ 1.49463594e-01  1.02910191e-01 -9.45610702e-02]\n",
      " [ 1.49463534e-01  2.62306809e-01 -1.77186906e-01]\n",
      " [ 8.01108479e-02 -3.25509608e-02 -1.42411172e-01]\n",
      " [ 2.04812467e-01 -9.96318758e-02 -2.11241901e-01]\n",
      " [ 2.71870375e-01 -6.16135299e-02 -3.48521948e-01]\n",
      " [ 1.26025081e-01  1.02382094e-01 -1.06538922e-01]\n",
      " [ 2.75481522e-01  1.03601187e-01 -1.56028986e-01]\n",
      " [ 3.28509510e-01  1.02910429e-01 -3.04270357e-01]\n",
      " [ 7.22867846e-02  2.32579321e-01 -1.48523778e-01]\n",
      " [ 1.95495188e-01  3.01194698e-01 -2.18520999e-01]\n",
      " [ 2.63399363e-01  2.62306958e-01 -3.55139911e-01]\n",
      " [ 1.52545869e-01 -1.51009768e-01 -3.86718839e-01]\n",
      " [ 2.19627023e-01 -1.14391714e-01 -2.49069959e-01]\n",
      " [ 1.81608796e-01  2.58776546e-03 -1.50792778e-01]\n",
      " [ 1.63940191e-02 -1.85060948e-01 -1.93856984e-01]\n",
      " [ 1.70849562e-02 -5.40516078e-02 -1.06541187e-01]\n",
      " [-1.12584233e-01 -1.43185943e-01 -3.92831445e-01]\n",
      " [-1.81199551e-01 -1.05074853e-01 -2.56348968e-01]\n",
      " [ 1.52546167e-01 -5.90430796e-02 -1.90651536e-01]\n",
      " [ 2.19627142e-01  7.19701052e-02 -1.34761900e-01]\n",
      " [ 1.76131725e-02 -5.90430200e-02 -1.32385403e-01]\n",
      " [ 1.63940191e-02  7.19700754e-02 -4.50810790e-02]\n",
      " [ 1.70848370e-02  2.21433312e-01 -9.45610106e-02]\n",
      " [-1.12584114e-01 -5.90430200e-02 -2.00580120e-01]\n",
      " [-1.81199431e-01  7.19701350e-02 -1.46585107e-01]\n",
      " [ 2.19626963e-01  2.76782006e-01 -2.11241841e-01]\n",
      " [ 1.81608498e-01  3.43840003e-01 -3.48521888e-01]\n",
      " [ 1.76128149e-02  1.97994620e-01 -1.06539041e-01]\n",
      " [ 1.63938999e-02  3.47451121e-01 -1.56028986e-01]\n",
      " [-1.81199670e-01  2.67464846e-01 -2.18520850e-01]\n",
      " [ 1.60609841e-01  3.35150510e-01  8.21685791e-02]\n",
      " [ 2.29225159e-01  2.97039360e-01  2.18651056e-01]\n",
      " [ 1.90337360e-01  1.80906117e-01  3.17589283e-01]\n",
      " [ 3.04125547e-02  2.51007646e-01  3.42614591e-01]\n",
      " [ 3.16318274e-02  1.19994491e-01  4.29918945e-01]\n",
      " [ 3.09408903e-02 -2.94686854e-02  3.80438983e-01]\n",
      " [ 1.60609841e-01  2.51007766e-01  2.74419963e-01]\n",
      " [-1.71601176e-01 -8.48173797e-02  2.63758242e-01]\n",
      " [ 3.16318274e-02 -1.55486554e-01  3.18971157e-01]\n",
      " [ 3.09410095e-02 -2.08514661e-01  1.70729756e-01]\n",
      " [ 1.60609961e-01  4.77081239e-02  3.26476276e-01]\n",
      " [-2.68893600e-01  1.02381945e-01  1.24153376e-01]\n",
      " [-2.15155482e-01  2.32579142e-01  8.21686387e-02]\n",
      " [ 8.34465027e-07 -9.96319354e-02  3.40238273e-01]\n",
      " [ 1.49463892e-01 -6.16137087e-02  3.08562696e-01]\n",
      " [ 7.15255737e-07  1.03601038e-01  4.29918826e-01]\n",
      " [ 1.49463892e-01  1.02910221e-01  3.80438983e-01]\n",
      " [ 1.49463773e-01  2.62306839e-01  2.97813118e-01]\n",
      " [ 8.01110864e-02 -3.25510204e-02  3.32588911e-01]\n",
      " [ 1.63941383e-02 -1.85061008e-01  2.81143010e-01]\n",
      " [ 1.70850754e-02 -5.40516078e-02  3.68458688e-01]\n",
      " [-1.12584114e-01 -1.43186063e-01  8.21687579e-02]\n",
      " [ 1.52546346e-01 -5.90430796e-02  2.84348547e-01]\n",
      " [ 1.63943768e-02  7.19700754e-02  4.29918826e-01]\n",
      " [ 1.70850754e-02  2.21433192e-01  3.80439103e-01]\n",
      " [-1.12583876e-01 -5.90431392e-02  2.74419963e-01]\n",
      " [-1.81199312e-01  7.19700456e-02  3.28414977e-01]\n",
      " [ 1.81608737e-01  3.43839973e-01  1.26478136e-01]\n",
      " [ 1.76130533e-02  1.97994560e-01  3.68461132e-01]\n",
      " [ 1.63941383e-02  3.47451061e-01  3.18971217e-01]\n",
      " [-1.81199431e-01  2.67464727e-01  2.56479144e-01]\n",
      " [ 1.60610080e-01  3.35150689e-01  5.57168305e-01]\n",
      " [ 2.29225278e-01  2.97039479e-01  6.93650782e-01]\n",
      " [ 1.90337420e-01  1.80906266e-01  7.92589128e-01]\n",
      " [-1.04520440e-01  2.51007706e-01  7.59348452e-01]\n",
      " [ 3.04126740e-02  2.51007766e-01  8.17614734e-01]\n",
      " [ 3.16318274e-02  1.19994670e-01  9.04918969e-01]\n",
      " [ 3.09408903e-02 -2.94685662e-02  8.55439007e-01]\n",
      " [ 1.60610020e-01  2.51007885e-01  7.49419868e-01]\n",
      " [ 2.29225397e-01  1.19994670e-01  8.03414762e-01]\n",
      " [-1.71601176e-01 -8.48172605e-02  7.38758266e-01]\n",
      " [ 3.16319466e-02 -1.55486435e-01  7.93971002e-01]\n",
      " [ 3.09411287e-02 -2.08514482e-01  6.45729482e-01]\n",
      " [ 1.60610080e-01  4.77083623e-02  8.01476300e-01]\n",
      " [-2.68893361e-01  1.02382094e-01  5.99153340e-01]\n",
      " [-2.15155244e-01  2.32579440e-01  5.57168543e-01]\n",
      " [ 9.53674316e-07 -9.96318161e-02  8.15238297e-01]\n",
      " [ 1.49464071e-01 -6.16135895e-02  7.83562720e-01]\n",
      " [ 8.34465027e-07  1.03601247e-01  9.04918730e-01]\n",
      " [ 1.49464011e-01  1.02910429e-01  8.55439007e-01]\n",
      " [-1.31012559e-01  2.32579321e-01  7.49419987e-01]\n",
      " [ 1.49463832e-01  2.62306899e-01  7.72813141e-01]\n",
      " [ 8.01112652e-02 -3.25508416e-02  8.07588756e-01]\n",
      " [ 1.95495546e-01  3.01194757e-01  7.31478989e-01]\n",
      " [ 2.63399661e-01  2.62307078e-01  5.94860017e-01]\n",
      " [ 1.52546227e-01 -1.51009649e-01  5.63281119e-01]\n",
      " [ 1.63942575e-02 -1.85060948e-01  7.56143034e-01]\n",
      " [ 1.70851946e-02 -5.40514886e-02  8.43458712e-01]\n",
      " [-1.12583995e-01 -1.43185884e-01  5.57168543e-01]\n",
      " [ 1.52546406e-01 -5.90430796e-02  7.59348571e-01]\n",
      " [ 1.63944960e-02  7.19701946e-02  9.04918969e-01]\n",
      " [ 1.70851946e-02  2.21433371e-01  8.55439126e-01]\n",
      " [-1.12583876e-01 -5.90429604e-02  7.49419749e-01]\n",
      " [-1.81199193e-01  7.19701946e-02  8.03415000e-01]\n",
      " [ 2.19627261e-01  2.76782006e-01  7.38757908e-01]\n",
      " [ 1.81608737e-01  3.43840033e-01  6.01478040e-01]\n",
      " [ 1.76132917e-02  1.97994679e-01  8.43460977e-01]\n",
      " [ 1.63942575e-02  3.47451121e-01  7.93971121e-01]\n",
      " [-1.81199193e-01  2.67464906e-01  7.31478989e-01]\n",
      " [-1.71601653e-01  2.06356257e-01 -2.49069899e-01]\n",
      " [ 3.04125547e-02  2.88888663e-01 -3.50846767e-01]\n",
      " [ 3.16315889e-02  2.77025521e-01 -1.93857044e-01]\n",
      " [ 3.09405327e-02  1.46016121e-01 -1.06541276e-01]\n",
      " [ 1.60609722e-01  2.35150427e-01 -3.92831534e-01]\n",
      " [ 2.29225039e-01  1.97039396e-01 -2.56349146e-01]\n",
      " [ 1.90337181e-01  8.09060633e-02 -1.57410741e-01]\n",
      " [-1.04520679e-01  1.51007682e-01 -1.90651596e-01]\n",
      " [-1.71601653e-01  1.99945271e-02 -1.34761751e-01]\n",
      " [ 3.16315889e-02  1.99945867e-02 -4.50811982e-02]\n",
      " [ 3.09407711e-02 -1.29468650e-01 -9.45611000e-02]\n",
      " [ 1.60609663e-01  1.51007682e-01 -2.00580180e-01]\n",
      " [ 2.29225159e-01  1.99945569e-02 -1.46585226e-01]\n",
      " [-1.04520321e-01 -6.01157844e-02 -1.42411232e-01]\n",
      " [-1.71601415e-01 -1.84817523e-01 -2.11241812e-01]\n",
      " [ 3.16318274e-02 -2.55486518e-01 -1.56028897e-01]\n",
      " [ 2.29225218e-01 -1.75500304e-01 -2.18520939e-01]\n",
      " [ 1.90337300e-01 -2.43404478e-01 -3.55139852e-01]\n",
      " [-2.22979426e-01 -1.32551044e-01 -3.86718839e-01]\n",
      " [-2.68893600e-01  2.38201022e-03 -3.50846648e-01]\n",
      " [-2.15155721e-01  1.32579237e-01 -3.92831385e-01]\n",
      " [-1.31012678e-01 -1.32551163e-01 -1.90651536e-01]\n",
      " [ 1.49463713e-01 -1.61613673e-01 -1.66437387e-01]\n",
      " [-1.31012678e-01  2.38201022e-03 -1.32385552e-01]\n",
      " [ 4.76837158e-07  3.60104442e-03 -4.50811982e-02]\n",
      " [ 1.49463654e-01  2.91019678e-03 -9.45610404e-02]\n",
      " [ 4.76837158e-07  2.01194614e-01 -1.46585017e-01]\n",
      " [ 1.49463534e-01  1.62306845e-01 -1.77186966e-01]\n",
      " [ 8.01109076e-02 -1.32550925e-01 -1.42411143e-01]\n",
      " [ 2.04812467e-01 -1.99631900e-01 -2.11241841e-01]\n",
      " [ 2.71870375e-01 -1.61613494e-01 -3.48521918e-01]\n",
      " [ 1.26025140e-01  2.38212943e-03 -1.06538951e-01]\n",
      " [ 7.22869635e-02  1.32579237e-01 -1.48523748e-01]\n",
      " [ 1.95495248e-01  2.01194674e-01 -2.18520999e-01]\n",
      " [ 2.63399422e-01  1.62306994e-01 -3.55139941e-01]\n",
      " [ 1.52545869e-01 -2.51009673e-01 -3.86718810e-01]\n",
      " [ 2.19627082e-01 -2.14391679e-01 -2.49069989e-01]\n",
      " [ 1.81608796e-01 -9.74121988e-02 -1.50792778e-01]\n",
      " [ 1.76130533e-02 -2.96923965e-01 -3.50846678e-01]\n",
      " [-1.12584114e-01 -2.43185848e-01 -3.92831415e-01]\n",
      " [ 2.19627202e-01 -2.80298591e-02 -1.34761870e-01]\n",
      " [ 1.76132917e-02 -1.59043044e-01 -1.32385492e-01]\n",
      " [ 1.63942575e-02 -2.80298889e-02 -4.50811386e-02]\n",
      " [ 1.70849562e-02  1.21433347e-01 -9.45610404e-02]\n",
      " [-1.12584114e-01 -1.59043103e-01 -2.00580120e-01]\n",
      " [ 1.52545929e-01  5.20804822e-02 -1.42411172e-01]\n",
      " [ 1.81608558e-01  2.43840069e-01 -3.48521948e-01]\n",
      " [ 1.76128149e-02  9.79946256e-02 -1.06538951e-01]\n",
      " [ 1.63938999e-02  2.47451097e-01 -1.56028897e-01]\n",
      " [ 1.70844793e-02  3.00479114e-01 -3.04270327e-01]\n",
      " [-1.12584233e-01  4.42564487e-02 -1.48523748e-01]\n",
      " [-1.81199670e-01  1.67464852e-01 -2.18520880e-01]\n",
      " [ 3.04126740e-02  2.88888603e-01  1.24153376e-01]\n",
      " [ 3.16315889e-02  2.77025670e-01  2.81143010e-01]\n",
      " [ 3.09407711e-02  1.46016151e-01  3.68458807e-01]\n",
      " [ 1.60609782e-01  2.35150516e-01  8.21685791e-02]\n",
      " [-1.71601534e-01  1.99944675e-02  3.40238273e-01]\n",
      " [ 3.16318274e-02  1.99945867e-02  4.29918826e-01]\n",
      " [ 3.09408903e-02 -1.29468769e-01  3.80438983e-01]\n",
      " [ 1.60609901e-01  1.51007742e-01  2.74419904e-01]\n",
      " [-1.71601176e-01 -1.84817404e-01  2.63758302e-01]\n",
      " [ 3.16319466e-02 -2.55486578e-01  3.18971217e-01]\n",
      " [ 1.90337479e-01 -2.43404537e-01  1.19860232e-01]\n",
      " [-2.22979307e-01 -1.32550925e-01  8.82813334e-02]\n",
      " [-2.68893600e-01  2.38195062e-03  1.24153435e-01]\n",
      " [-2.15155482e-01  1.32579207e-01  8.21686387e-02]\n",
      " [-1.31012440e-01 -1.32550985e-01  2.84348607e-01]\n",
      " [ 1.49463892e-01 -1.61613673e-01  3.08562577e-01]\n",
      " [-1.31012678e-01  2.38198042e-03  3.42614532e-01]\n",
      " [ 7.15255737e-07  3.60104442e-03  4.29918826e-01]\n",
      " [ 1.49463892e-01  2.91022658e-03  3.80438983e-01]\n",
      " [ 4.76837158e-07  2.01194614e-01  3.28414977e-01]\n",
      " [ 1.49463713e-01  1.62306875e-01  2.97813118e-01]\n",
      " [ 2.19627142e-01 -2.14391798e-01  2.25930274e-01]\n",
      " [ 1.81608915e-01 -9.74122584e-02  3.24207246e-01]\n",
      " [-1.12584114e-01 -2.43185967e-01  8.21686983e-02]\n",
      " [ 1.63943768e-02 -2.80298889e-02  4.29918945e-01]\n",
      " [ 1.70851946e-02  1.21433258e-01  3.80438983e-01]\n",
      " [-1.12583876e-01 -1.59043044e-01  2.74419963e-01]\n",
      " [ 1.52546108e-01  5.20804524e-02  3.32588792e-01]\n",
      " [ 1.63938999e-02  2.47451037e-01  3.18971217e-01]\n",
      " [ 1.70847178e-02  3.00479203e-01  1.70729816e-01]\n",
      " [-1.12584114e-01  4.42564189e-02  3.26476336e-01]\n",
      " [-1.81199431e-01  1.67464703e-01  2.56479263e-01]\n",
      " [ 3.04127932e-02  2.88888723e-01  5.99153340e-01]\n",
      " [ 3.16317081e-02  2.77025610e-01  7.56142914e-01]\n",
      " [ 3.09408903e-02  1.46016270e-01  8.43458712e-01]\n",
      " [ 1.60609901e-01  2.35150546e-01  5.57168305e-01]\n",
      " [ 2.29225278e-01  1.97039396e-01  6.93650901e-01]\n",
      " [-1.71601415e-01  1.99945867e-02  8.15238178e-01]\n",
      " [ 3.16318274e-02  1.99946463e-02  9.04918969e-01]\n",
      " [ 3.09411287e-02 -1.29468530e-01  8.55439007e-01]\n",
      " [ 1.60609961e-01  1.51007801e-01  7.49419868e-01]\n",
      " [-1.71601176e-01 -1.84817284e-01  7.38758266e-01]\n",
      " [ 3.16319466e-02 -2.55486459e-01  7.93971002e-01]\n",
      " [ 2.29225516e-01 -1.75500125e-01  7.31479108e-01]\n",
      " [ 1.90337479e-01 -2.43404418e-01  5.94860137e-01]\n",
      " [-2.22979188e-01 -1.32550806e-01  5.63281357e-01]\n",
      " [-2.68893480e-01  2.38206983e-03  5.99153459e-01]\n",
      " [-2.15155482e-01  1.32579356e-01  5.57168663e-01]\n",
      " [-1.31012440e-01 -1.32550985e-01  7.59348571e-01]\n",
      " [ 1.49463892e-01 -1.61613733e-01  7.83562601e-01]\n",
      " [-1.31012559e-01  2.38206983e-03  8.17614615e-01]\n",
      " [ 7.15255737e-07  3.60110402e-03  9.04918730e-01]\n",
      " [ 1.49463952e-01  2.91031599e-03  8.55439007e-01]\n",
      " [-1.31012559e-01  1.32579356e-01  7.49419987e-01]\n",
      " [ 7.15255737e-07  2.01194733e-01  8.03415120e-01]\n",
      " [ 1.49463892e-01  1.62306994e-01  7.72813141e-01]\n",
      " [ 8.01111460e-02 -1.32550865e-01  8.07588875e-01]\n",
      " [ 2.19627261e-01 -2.14391679e-01  7.00929940e-01]\n",
      " [ 1.81609035e-01 -9.74121392e-02  7.99207151e-01]\n",
      " [ 1.76132917e-02 -2.96923965e-01  5.99153221e-01]\n",
      " [-1.12583995e-01 -2.43185848e-01  5.57168424e-01]\n",
      " [ 1.63944960e-02 -2.80297995e-02  9.04918849e-01]\n",
      " [ 1.70850754e-02  1.21433347e-01  8.55439126e-01]\n",
      " [-1.12583876e-01 -1.59043044e-01  7.49419987e-01]\n",
      " [ 1.52546227e-01  5.20805717e-02  8.07588637e-01]\n",
      " [ 1.76130533e-02  9.79946554e-02  8.43461096e-01]\n",
      " [ 1.63940191e-02  2.47451216e-01  7.93971002e-01]\n",
      " [ 1.70847178e-02  3.00479263e-01  6.45729363e-01]\n",
      " [-1.12583876e-01  4.42565382e-02  8.01476061e-01]\n",
      " [-1.81199312e-01  1.67464823e-01  7.31479108e-01]\n",
      " [-1.71601534e-01  1.06356293e-01 -2.49069870e-01]\n",
      " [ 3.04125547e-02  1.88888580e-01 -3.50846767e-01]\n",
      " [ 3.16317081e-02  1.77025557e-01 -1.93856955e-01]\n",
      " [ 3.09406519e-02  4.60161865e-02 -1.06541306e-01]\n",
      " [ 1.60609722e-01  1.35150522e-01 -3.92831504e-01]\n",
      " [ 2.29224980e-01  9.70393717e-02 -2.56349057e-01]\n",
      " [ 1.90337181e-01 -1.90938711e-02 -1.57410741e-01]\n",
      " [-1.04520559e-01  5.10077178e-02 -1.90651625e-01]\n",
      " [-1.71601653e-01 -8.00054967e-02 -1.34761870e-01]\n",
      " [ 3.16317081e-02 -8.00054967e-02 -4.50811982e-02]\n",
      " [ 3.09408903e-02 -2.29468614e-01 -9.45610702e-02]\n",
      " [ 1.60609782e-01  5.10077775e-02 -2.00580090e-01]\n",
      " [ 1.90337360e-01 -2.29468554e-01 -1.77186847e-01]\n",
      " [-1.04520202e-01 -1.60115808e-01 -1.42411202e-01]\n",
      " [ 2.29225278e-01 -2.75500208e-01 -2.18520924e-01]\n",
      " [-1.31012678e-01 -2.32551008e-01 -1.90651536e-01]\n",
      " [ 4.76837158e-07 -9.63989198e-02 -4.50811982e-02]\n",
      " [ 1.49463713e-01 -9.70897377e-02 -9.45610404e-02]\n",
      " [-1.31012678e-01  3.25793922e-02 -2.00580150e-01]\n",
      " [ 5.96046448e-07  1.01194680e-01 -1.46585047e-01]\n",
      " [ 1.49463713e-01  6.23069406e-02 -1.77186817e-01]\n",
      " [ 8.01110268e-02 -2.32550889e-01 -1.42411172e-01]\n",
      " [ 2.04812527e-01 -2.99631804e-01 -2.11241841e-01]\n",
      " [ 1.26025200e-01 -9.76178348e-02 -1.06539011e-01]\n",
      " [ 2.75481641e-01 -9.63986814e-02 -1.56028956e-01]\n",
      " [ 3.28509629e-01 -9.70894992e-02 -3.04270357e-01]\n",
      " [ 7.22869635e-02  3.25793326e-02 -1.48523778e-01]\n",
      " [ 1.95495307e-01  1.01194739e-01 -2.18521029e-01]\n",
      " [ 2.63399482e-01  6.23070896e-02 -3.55139941e-01]\n",
      " [ 1.52545989e-01 -3.51009697e-01 -3.86718810e-01]\n",
      " [ 1.76130533e-02 -3.96923989e-01 -3.50846648e-01]\n",
      " [ 2.19627142e-01 -1.28029913e-01 -1.34761810e-01]\n",
      " [ 1.81608856e-01  2.14332938e-02 -1.66437447e-01]\n",
      " [ 1.70850754e-02  2.14333832e-02 -9.45610702e-02]\n",
      " [-1.12583995e-01 -2.59043008e-01 -2.00580090e-01]\n",
      " [ 1.52546048e-01 -4.79194820e-02 -1.42411143e-01]\n",
      " [ 2.19627082e-01  7.67820179e-02 -2.11241931e-01]\n",
      " [ 1.81608558e-01  1.43840045e-01 -3.48521858e-01]\n",
      " [ 1.76130533e-02 -2.00533867e-03 -1.06538922e-01]\n",
      " [ 1.63938999e-02  1.47451162e-01 -1.56028956e-01]\n",
      " [ 1.70845985e-02  2.00479180e-01 -3.04270297e-01]\n",
      " [-1.12584233e-01 -5.57435453e-02 -1.48523718e-01]\n",
      " [-1.81199551e-01  6.74647987e-02 -2.18520850e-01]\n"
     ]
    },
    {
     "name": "stdout",
     "output_type": "stream",
     "text": [
      " [-1.04520440e-01  1.42974287e-01  8.82810354e-02]]\n"
     ]
    }
   ],
   "source": [
    "EEPosition_free = EEPosition[y==0,:]\n",
    "print(EEPosition_free)"
   ]
  },
  {
   "cell_type": "code",
   "execution_count": 15,
   "metadata": {},
   "outputs": [
    {
     "data": {
      "image/png": "[encoded data removed]",
      "text/plain": [
       "<Figure size 432x288 with 1 Axes>"
      ]
     },
     "metadata": {
      "needs_background": "light"
     },
     "output_type": "display_data"
    }
   ],
   "source": [
    "fig = plt.figure()\n",
    "ax = fig.add_subplot(111, projection='3d')\n",
    "ax.scatter(-EEPosition_free[:,1], EEPosition_free[:,2], -EEPosition_free[:,0])\n",
    "plt.show()"
   ]
  },
  {
   "cell_type": "code",
   "execution_count": 16,
   "metadata": {},
   "outputs": [],
   "source": [
    "#test\n",
    "# EEPosition = np.zeros((5,3))\n",
    "# joint_angle = np.linspace(0,1,5)\n",
    "# for i in range(5):\n",
    "#     vrep_env.ik_robot.setJointPosition(vrep_env.ik_robot.handles[0], joint_angle[i])\n",
    "#     vrep_env.ik_robot.setJointPosition(vrep_env.ik_robot.handles[1], joint_angle[i])\n",
    "#     vrep_env.ik_robot.setJointPosition(vrep_env.ik_robot.handles[3], joint_angle[i])\n",
    "#     vrep.simxSynchronousTrigger(vrep_env.clientID)\n",
    "#     vrep.simxGetPingTime(vrep_env.clientID)\n",
    "#     collisionState = vrep_env.ik_robot.getCollisionState()\n",
    "#     EEPosition[i,:] = vrep_env.ik_robot.getObjectPosition(vrep_env.ik_robot.handles[8], relative2='ik_rf7_static')[1]\n",
    "#     time.sleep(1)\n",
    "#     print(collisionState)\n",
    "# print('EEPosition\\n', EEPosition)"
   ]
  },
  {
   "cell_type": "code",
   "execution_count": 17,
   "metadata": {},
   "outputs": [],
   "source": [
    "# fig = plt.figure()\n",
    "# ax = fig.add_subplot(111, projection='3d')\n",
    "# ax.scatter(-EEPosition[:,1], EEPosition[:,2], -EEPosition[:,0])\n",
    "# plt.show()"
   ]
  },
  {
   "cell_type": "markdown",
   "metadata": {},
   "source": [
    "## orientation dictionary work"
   ]
  },
  {
   "cell_type": "code",
   "execution_count": 51,
   "metadata": {},
   "outputs": [
    {
     "name": "stdout",
     "output_type": "stream",
     "text": [
      "[[ 18.  26.  45.  45.]\n",
      " [ 63.  81.  92. 107.]\n",
      " [  0.  72.  72.  81.]\n",
      " [  0.   9.   9.   9.]]\n"
     ]
    }
   ],
   "source": [
    "import transforms3d as t3d\n",
    "import numpy as np\n",
    "\n",
    "def quantizeOrientationsBins(numBins, quaternions):\n",
    "    #numBins is per axis --> numBins**2\n",
    "    #using spherical coordinates: https://en.wikipedia.org/wiki/Spherical_coordinate_system\n",
    "    #theta 0 is - pi/2 to pi/2\n",
    "    #phi is -pi to pi\n",
    "    #orientations is in quaternions\n",
    "    \n",
    "    quaternions = np.roll(quaternions, 1).copy()#we need w, x, y, z; vrep uses x, y, z, w\n",
    "    \n",
    "    thetaInterval = np.linspace(-np.pi/2, np.pi/2, num=numBins+1)\n",
    "    phiInterval = np.linspace(-np.pi, np.pi, num=numBins+1)\n",
    "    \n",
    "    spherical = np.zeros((quaternions.shape[0],2)) #phi, theta\n",
    "    for i in range(spherical.shape[0]):\n",
    "        # mod\n",
    "        if quaternions.ndim != 1:\n",
    "            rotMat = t3d.quaternions.quat2mat(quaternions[i,:])\n",
    "        else:\n",
    "            rotMat = t3d.quaternions.quat2mat(quaternions)\n",
    "        cartesian = rotMat@np.ones((3,1))\n",
    "        spherical[i,0] = np.arctan2(cartesian[1], cartesian[0]) # phi\n",
    "        spherical[i,1] = np.arctan2(np.sqrt(cartesian[0]**2 + cartesian[1]**2), cartesian[2]) - np.pi/2 # theta\n",
    "        \n",
    "    binCounts = np.zeros((numBins,numBins))\n",
    "    for i in range(numBins):\n",
    "        for j in range(numBins):\n",
    "            temp = np.stack((np.logical_and(spherical[:,1] > thetaInterval[i], spherical[:,1] < thetaInterval[i+1]),\n",
    "                             np.logical_and(spherical[:,0] > phiInterval[j], spherical[:,0] < phiInterval[j+1])), axis = 1)\n",
    "            #print(temp.shape)\n",
    "            temp = temp.all(axis=1)\n",
    "            binCounts[i,j] = np.sum(temp)\n",
    "    return binCounts, spherical, temp, thetaInterval, phiInterval\n",
    "\n",
    "binCounts, spherical, temp, thetaInterval, phiInterval = quantizeOrientationsBins(4, EEQuaternion)\n",
    "\n",
    "print(binCounts)"
   ]
  },
  {
   "cell_type": "code",
   "execution_count": 21,
   "metadata": {},
   "outputs": [
    {
     "data": {
      "text/plain": [
       "20.62088894844055"
      ]
     },
     "execution_count": 21,
     "metadata": {},
     "output_type": "execute_result"
    }
   ],
   "source": [
    "start = time.time()\n",
    "for i in range(1000):\n",
    "    binCounts, spherical, temp, thetaInterval, phiInterval = quantizeOrientationsBins(4, EEQuaternion) \n",
    "end = time.time()\n",
    "end - start\n",
    "\n"
   ]
  }
 ],
 "metadata": {
  "kernelspec": {
   "display_name": "Python 3",
   "language": "python",
   "name": "python3"
  },
  "language_info": {
   "codemirror_mode": {
    "name": "ipython",
    "version": 3
   },
   "file_extension": ".py",
   "mimetype": "text/x-python",
   "name": "python",
   "nbconvert_exporter": "python",
   "pygments_lexer": "ipython3",
   "version": "3.6.8"
  }
 },
 "nbformat": 4,
 "nbformat_minor": 2
}
