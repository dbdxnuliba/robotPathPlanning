{
 "cells": [
  {
   "cell_type": "code",
   "execution_count": 3,
   "metadata": {},
   "outputs": [],
   "source": [
    "import numpy as np\n",
    "import matplotlib.pyplot as plt\n",
    "import time\n",
    "\n",
    "import sys\n",
    "sys.path.append(\"..\")\n",
    "sys.path.append(\"../../\")\n",
    "\n",
    "import armControl"
   ]
  },
  {
   "cell_type": "code",
   "execution_count": 4,
   "metadata": {},
   "outputs": [],
   "source": [
    "myArm = armControl.remoteRobotArm()\n",
    "armTheta_motorTheta = myArm.armTheta_motorTheta #calculates motor theta given arm theta -->backward\n",
    "motorTheta_armTheta_full = myArm.motorTheta_armTheta_full #calculates arm theta given motor theta -->forward\n",
    "\n"
   ]
  },
  {
   "cell_type": "code",
   "execution_count": 37,
   "metadata": {},
   "outputs": [],
   "source": [
    "import numpy as np\n",
    "from sklearn.utils.extmath import cartesian\n",
    "\n",
    "class configGenerator_VREP(object):\n",
    "    def generate_sample(config = 2):\n",
    "        # prepare training set\n",
    "#        joint_range_lower_limit = np.array([-2e-1, -4.500e-2, -9.000e+1, -5.200e+1, -5.020e+1, -5.200e+1, 0])\n",
    "#        joint_range = np.array([4e-1, 0.95e0, 1.800e+2, 1.040e+2, 1.020e+2, 1.040e+2, 5.500e-2])\n",
    "\n",
    "        #units are radians for revolute joints: http://www.coppeliarobotics.com/helpFiles/en/jointDescription.htm\n",
    "        joint_range_lower_limit = np.array([-0, -0, -0, -100, -100, -100, -1.5e-2])\n",
    "        joint_range_lower_limit[2:-1] = joint_range_lower_limit[2:-1] * np.pi/180\n",
    "        joint_range = np.array([0, 0, 0, 200, 200, 200, 3e-2])\n",
    "        joint_range[2:-1] = joint_range[2:-1] * np.pi/180\n",
    "        joint_range_upper_limit = joint_range_lower_limit + joint_range\n",
    "        \n",
    "        print('joint lower limit\\n', joint_range_lower_limit)\n",
    "        print('joint upper limit\\n', joint_range_upper_limit)\n",
    "        \n",
    "        sample = (np.linspace(0,1,config)[:,None]*(joint_range_upper_limit\n",
    "                               -joint_range_lower_limit)+joint_range_lower_limit)\n",
    "        \n",
    "        #x1, x2 = np.meshgrid(sample_j1, sample_j2)\n",
    "        #t = np.array(np.meshgrid(sample[0,:],sample[1,:])).T.reshape(-1,7)\n",
    "#        sample0 = ((np.linspace(0,1,config[0])[:,None]*(joint_range_upper_limit\n",
    "#                           -joint_range_lower_limit)+joint_range_lower_limit))\n",
    "#        sample1 = ((np.linspace(0,1,config[1])[:,None]*(joint_range_upper_limit\n",
    "#                           -joint_range_lower_limit)+joint_range_lower_limit))\n",
    "#        sample2 = ((np.linspace(0,1,config[2])[:,None]*(joint_range_upper_limit\n",
    "#                           -joint_range_lower_limit)+joint_range_lower_limit))\n",
    "#        sample3 = ((np.linspace(0,1,config[3])[:,None]*(joint_range_upper_limit\n",
    "#                           -joint_range_lower_limit)+joint_range_lower_limit))\n",
    "#        sample4 = ((np.linspace(0,1,config[4])[:,None]*(joint_range_upper_limit\n",
    "#                           -joint_range_lower_limit)+joint_range_lower_limit))\n",
    "#        sample5 = ((np.linspace(0,1,config[5])[:,None]*(joint_range_upper_limit\n",
    "#                           -joint_range_lower_limit)+joint_range_lower_limit))\n",
    "#        \n",
    "#        #x1, x2 = np.meshgrid(sample_j1, sample_j2)\n",
    "#        #t = np.array(np.meshgrid(sample[0,:],sample[1,:])).T.reshape(-1,7)\n",
    "#        sample = np.vstack((sample0,sample1,sample2,sample3,sample4,sample5))\n",
    "        \n",
    "        total_sample = cartesian((sample[:, 0], sample[:, 1], sample[:, 2], sample[:, 3], \n",
    "                       sample[:, 4], sample[:, 5], sample[:, 6]))\n",
    "        return total_sample\n"
   ]
  },
  {
   "cell_type": "code",
   "execution_count": 40,
   "metadata": {},
   "outputs": [
    {
     "name": "stdout",
     "output_type": "stream",
     "text": [
      "joint lower limit\n",
      " [ 0.          0.          0.         -1.74532925 -1.74532925 -1.74532925\n",
      " -0.015     ]\n",
      "joint upper limit\n",
      " [0.         0.         0.         1.74532925 1.74532925 1.74532925\n",
      " 0.015     ]\n",
      "total configs =  35831808\n"
     ]
    }
   ],
   "source": [
    "config = configGenerator_VREP.generate_sample(13)  # set sample number here\n",
    "total_config = config.shape[0]\n",
    "print(\"total configs = \", total_config)"
   ]
  },
  {
   "cell_type": "code",
   "execution_count": 42,
   "metadata": {},
   "outputs": [
    {
     "name": "stdout",
     "output_type": "stream",
     "text": [
      "Maximum motor angles in degrees: [  0.           0.           0.         220.47244094 393.7007874\n",
      " 425.19685039 378.08810027]\n"
     ]
    }
   ],
   "source": [
    "motor_angles = np.zeros(config.shape)\n",
    "for i in range(config.shape[0]):\n",
    "    motor_angles[i,:] = armTheta_motorTheta@config[i,:]\n",
    "    \n",
    "print('Maximum motor angles in degrees: {}'.format(np.abs(motor_angles).max(axis=0)/np.pi*180))"
   ]
  },
  {
   "cell_type": "code",
   "execution_count": null,
   "metadata": {},
   "outputs": [],
   "source": []
  }
 ],
 "metadata": {
  "kernelspec": {
   "display_name": "Python 3",
   "language": "python",
   "name": "python3"
  },
  "language_info": {
   "codemirror_mode": {
    "name": "ipython",
    "version": 3
   },
   "file_extension": ".py",
   "mimetype": "text/x-python",
   "name": "python",
   "nbconvert_exporter": "python",
   "pygments_lexer": "ipython3",
   "version": "3.7.1"
  }
 },
 "nbformat": 4,
 "nbformat_minor": 2
}
