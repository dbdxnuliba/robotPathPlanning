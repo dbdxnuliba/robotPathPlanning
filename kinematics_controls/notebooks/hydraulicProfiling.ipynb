{
 "cells": [
  {
   "cell_type": "markdown",
   "metadata": {},
   "source": [
    "# This is the most up to date motor control example. Refer here to work with the FPGA through the network connection"
   ]
  },
  {
   "cell_type": "code",
   "execution_count": 1,
   "metadata": {},
   "outputs": [],
   "source": [
    "import numpy as np\n",
    "import matplotlib.pyplot as plt\n",
    "import time\n",
    "\n",
    "import sys\n",
    "sys.path.append(\"..\")\n",
    "sys.path.append(\"../../\")\n",
    "\n",
    "from armControl import *\n",
    "from forwardKinematics import robot_config\n",
    "from utils.motor_setup import CableReduction\n",
    "import signal\n",
    "\n",
    "import matplotlib.pyplot as plt\n"
   ]
  },
  {
   "cell_type": "code",
   "execution_count": 2,
   "metadata": {},
   "outputs": [
    {
     "name": "stdout",
     "output_type": "stream",
     "text": [
      "Opening socket at ip: 192.168.0.101 using port: 1123\n"
     ]
    }
   ],
   "source": [
    "socket_ip = '192.168.0.101'\n",
    "socket_port = 1123\n",
    "\n",
    "#trajPlanner = trajectoryGenerator()\n",
    "\n",
    "motors = CableReduction()\n",
    "motors.tcp_init(socket_ip, socket_port)"
   ]
  },
  {
   "cell_type": "code",
   "execution_count": 3,
   "metadata": {},
   "outputs": [
    {
     "name": "stdout",
     "output_type": "stream",
     "text": [
      "Arming motors now...\n",
      "initializing motors to [0 0 0 0 0 0 0 0]\n",
      "*** C side has an error or needs to be armed ***\n",
      "\n",
      "Arming motors\n"
     ]
    }
   ],
   "source": [
    "print(\"Arming motors now...\")\n",
    "motors.arm_motors()"
   ]
  },
  {
   "cell_type": "code",
   "execution_count": 8,
   "metadata": {},
   "outputs": [],
   "source": [
    "motors.tcp_close()"
   ]
  },
  {
   "cell_type": "code",
   "execution_count": 4,
   "metadata": {},
   "outputs": [
    {
     "data": {
      "text/plain": [
       "0"
      ]
     },
     "execution_count": 4,
     "metadata": {},
     "output_type": "execute_result"
    }
   ],
   "source": [
    "setpoints = np.zeros(8)#np.ones(8)*3.14/8\n",
    "setpoints[6] = np.pi*8\n",
    "velocity = np.ones(8)*np.pi*8\n",
    "dt = 0.005\n",
    "runtime = 1\n",
    "num_elements = int(runtime/dt)\n",
    "frequency = 0.5\n",
    "\n",
    "motors.run_trajectory(setpoints, velocity)\n",
    "motors.run_trajectory(np.zeros(8), velocity)"
   ]
  },
  {
   "cell_type": "code",
   "execution_count": 6,
   "metadata": {},
   "outputs": [
    {
     "name": "stdout",
     "output_type": "stream",
     "text": [
      "0.0\n"
     ]
    }
   ],
   "source": [
    "setpoint = np.zeros(8)\n",
    "currents_left = []\n",
    "counts_left = []\n",
    "while motors.avg_current[0] < 0.45:\n",
    "    setpoint = setpoint + 0.01\n",
    "    currents_left.append(motors.avg_current[0])\n",
    "    counts_left.append(motors.get_motors_position_radians())\n",
    "    motors.command_motors_radians(setpoint)\n",
    "    time.sleep(0.01)\n",
    "zero_left = motors.get_motors_position_radians()\n",
    "\n",
    "motors.run_trajectory(np.zeros(8), velocity)\n",
    "\n",
    "setpoint = np.zeros(8)    \n",
    "currents_right = []\n",
    "counts_right = []\n",
    "while motors.avg_current[0] < 0.45:\n",
    "    setpoint = setpoint - 0.01\n",
    "    currents_right.append(motors.avg_current[0])\n",
    "    counts_right.append(motors.get_motors_position_radians())\n",
    "    motors.command_motors_radians(setpoint)\n",
    "    time.sleep(0.01)\n",
    "zero_right = motors.get_motors_position_radians()\n",
    "\n",
    "motor_zero_new = (zero_right[7] + zero_left[7])/2\n",
    "motors.zero_motors_radians(7, motor_zero_new)\n",
    "\n",
    "motors.run_trajectory(np.zeros(8), velocity)\n",
    "print(motor_zero_new)"
   ]
  },
  {
   "cell_type": "code",
   "execution_count": 7,
   "metadata": {},
   "outputs": [
    {
     "ename": "IndexError",
     "evalue": "too many indices for array",
     "output_type": "error",
     "traceback": [
      "\u001b[0;31m---------------------------------------------------------------------------\u001b[0m",
      "\u001b[0;31mIndexError\u001b[0m                                Traceback (most recent call last)",
      "\u001b[0;32m<ipython-input-7-cd087b0ebe3c>\u001b[0m in \u001b[0;36m<module>\u001b[0;34m\u001b[0m\n\u001b[1;32m      6\u001b[0m \u001b[0mplt\u001b[0m\u001b[0;34m.\u001b[0m\u001b[0mplot\u001b[0m\u001b[0;34m(\u001b[0m\u001b[0mnp\u001b[0m\u001b[0;34m.\u001b[0m\u001b[0mabs\u001b[0m\u001b[0;34m(\u001b[0m\u001b[0mcounts_left\u001b[0m\u001b[0;34m[\u001b[0m\u001b[0;34m:\u001b[0m\u001b[0;34m,\u001b[0m\u001b[0;36m7\u001b[0m\u001b[0;34m]\u001b[0m\u001b[0;34m)\u001b[0m\u001b[0;34m/\u001b[0m\u001b[0;36m10\u001b[0m\u001b[0;34m)\u001b[0m\u001b[0;34m\u001b[0m\u001b[0;34m\u001b[0m\u001b[0m\n\u001b[1;32m      7\u001b[0m \u001b[0mplt\u001b[0m\u001b[0;34m.\u001b[0m\u001b[0mplot\u001b[0m\u001b[0;34m(\u001b[0m\u001b[0mcurrents_right\u001b[0m\u001b[0;34m)\u001b[0m\u001b[0;34m\u001b[0m\u001b[0;34m\u001b[0m\u001b[0m\n\u001b[0;32m----> 8\u001b[0;31m \u001b[0mplt\u001b[0m\u001b[0;34m.\u001b[0m\u001b[0mplot\u001b[0m\u001b[0;34m(\u001b[0m\u001b[0mnp\u001b[0m\u001b[0;34m.\u001b[0m\u001b[0mabs\u001b[0m\u001b[0;34m(\u001b[0m\u001b[0mcounts_right\u001b[0m\u001b[0;34m[\u001b[0m\u001b[0;34m:\u001b[0m\u001b[0;34m,\u001b[0m\u001b[0;36m7\u001b[0m\u001b[0;34m]\u001b[0m\u001b[0;34m)\u001b[0m\u001b[0;34m/\u001b[0m\u001b[0;36m10\u001b[0m\u001b[0;34m)\u001b[0m\u001b[0;34m\u001b[0m\u001b[0;34m\u001b[0m\u001b[0m\n\u001b[0m",
      "\u001b[0;31mIndexError\u001b[0m: too many indices for array"
     ]
    },
    {
     "data": {
      "image/png": "[encoded data removed]",
      "text/plain": [
       "<Figure size 432x288 with 1 Axes>"
      ]
     },
     "metadata": {
      "needs_background": "light"
     },
     "output_type": "display_data"
    }
   ],
   "source": [
    "currents_left = np.array(currents_left)\n",
    "counts_left = np.array(counts_left)\n",
    "currents_right = np.array(currents_right)\n",
    "counts_right = np.array(counts_right)\n",
    "plt.plot(currents_left)\n",
    "plt.plot(np.abs(counts_left[:,7])/10)\n",
    "plt.plot(currents_right)\n",
    "plt.plot(np.abs(counts_right[:,7])/10)"
   ]
  },
  {
   "cell_type": "code",
   "execution_count": null,
   "metadata": {},
   "outputs": [],
   "source": [
    "dt = 0.005\n",
    "runtime = 10\n",
    "num_elements = int(runtime/dt)\n",
    "setpoints = np.zeros((num_elements, 8))\n",
    "frequency = 0.5\n",
    "for i in range(num_elements):\n",
    "    setpoints[i,:] = (np.ones(8) * np.sin(i*dt*2*pi*frequency)*3.14/3)\n",
    "\n",
    "\n",
    "start_time = time.time()\n",
    "\n",
    "currents_mA = []\n",
    "for i in range(num_elements):\n",
    "    current_time = time.time()\n",
    "    #print(enc_position)\n",
    "    setpoint = setpoints[i]\n",
    "    motors.command_motors_radians(setpoint)\n",
    "    currents_mA.append(1000*motors.avg_current)\n",
    "    time.sleep(dt)\n",
    "    \n",
    "motors.run_trajectory(np.zeros(8), velocity)\n",
    "\n",
    "plt.plot(currents_mA)"
   ]
  },
  {
   "cell_type": "code",
   "execution_count": null,
   "metadata": {},
   "outputs": [],
   "source": [
    "motors.tcp_close()"
   ]
  },
  {
   "cell_type": "code",
   "execution_count": null,
   "metadata": {},
   "outputs": [],
   "source": []
  }
 ],
 "metadata": {
  "kernelspec": {
   "display_name": "Python 3",
   "language": "python",
   "name": "python3"
  },
  "language_info": {
   "codemirror_mode": {
    "name": "ipython",
    "version": 3
   },
   "file_extension": ".py",
   "mimetype": "text/x-python",
   "name": "python",
   "nbconvert_exporter": "python",
   "pygments_lexer": "ipython3",
   "version": "3.6.7"
  }
 },
 "nbformat": 4,
 "nbformat_minor": 2
}
