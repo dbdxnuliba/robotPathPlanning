{
 "cells": [
  {
   "cell_type": "code",
   "execution_count": 1,
   "metadata": {},
   "outputs": [],
   "source": [
    "import numpy as np\n",
    "import matplotlib.pyplot as plt\n",
    "import time\n",
    "\n",
    "import sys\n",
    "sys.path.append(\"..\")\n",
    "from generateTrajectory import *\n",
    "from armControl import *\n",
    "from forwardKinematics import robot_config\n",
    "from utils.motor_setup import Motors\n",
    "import signal\n",
    "\n",
    "import generateTrajectory\n",
    "import matplotlib.pyplot as plt\n"
   ]
  },
  {
   "cell_type": "code",
   "execution_count": 2,
   "metadata": {},
   "outputs": [],
   "source": [
    "def signal_handler(signal, frame):\n",
    "    motors.tcp_close()\n",
    "signal.signal(signal.SIGINT, signal_handler)\n",
    "#script_dir = os.path.dirname(__file__)\n",
    "#results_dir = os.path.join(script_dir, 'Current_data/')\n",
    "#if not os.path.isdir(results_dir):\n",
    "#os.makedirs(results_dir)\n",
    "#Constants\n",
    "socket_ip = '192.168.1.20'\n",
    "socket_port = 1122\n",
    "P = 0\n",
    "PL = 0\n",
    "I = 0\n",
    "IL = 0\n",
    "D = 0\n",
    "motors = Motors(P ,PL ,I, IL ,D)"
   ]
  },
  {
   "cell_type": "code",
   "execution_count": 3,
   "metadata": {},
   "outputs": [],
   "source": [
    "trajPlanner = trajectoryGenerator()"
   ]
  },
  {
   "cell_type": "code",
   "execution_count": 4,
   "metadata": {},
   "outputs": [
    {
     "name": "stdout",
     "output_type": "stream",
     "text": [
      "Opening socket at ip: 192.168.1.20 using port: 1122\n"
     ]
    }
   ],
   "source": [
    "motors.tcp_init(socket_ip, socket_port)"
   ]
  },
  {
   "cell_type": "code",
   "execution_count": 5,
   "metadata": {},
   "outputs": [
    {
     "name": "stdout",
     "output_type": "stream",
     "text": [
      "Arming motors now...\n",
      "initializing motors to [0 0 0 0 0 0 0 0]\n",
      "Arming motors\n"
     ]
    }
   ],
   "source": [
    "print(\"Arming motors now...\")\n",
    "motors.arm_motors()"
   ]
  },
  {
   "cell_type": "code",
   "execution_count": 9,
   "metadata": {},
   "outputs": [],
   "source": [
    "dt = 0.01\n",
    "runtime = 60\n",
    "num_elements = int(runtime/dt)\n",
    "setpoints = np.zeros((num_elements, 8))\n",
    "for i in range(num_elements):\n",
    "    setpoints[i,:] = (np.ones(8) * np.sin(i*dt*2*pi)*4000).astype(int)\n",
    "    \n",
    "start_time = time.time()\n",
    "for i in range(num_elements):\n",
    "    current_time = time.time()\n",
    "    #print(enc_position)\n",
    "    setpoint = setpoints[i]\n",
    "    motors.command_motors(setpoint)\n",
    "    time.sleep(dt)\n",
    "    \n",
    "trajectory = trajPlanner.createTrajectoryNumPoints(setpoint, np.zeros(8), int(1/dt)).astype(int)\n",
    "for i in range(trajectory.shape[1]):\n",
    "    setpoint = list(trajectory[:,i].astype(int))\n",
    "    motors.command_motors(list(trajectory[:,i].astype(int)))\n",
    "    time.sleep(dt)\n",
    "    #print(setpoint)\n"
   ]
  },
  {
   "cell_type": "code",
   "execution_count": null,
   "metadata": {},
   "outputs": [],
   "source": []
  }
 ],
 "metadata": {
  "kernelspec": {
   "display_name": "Python 3",
   "language": "python",
   "name": "python3"
  },
  "language_info": {
   "codemirror_mode": {
    "name": "ipython",
    "version": 3
   },
   "file_extension": ".py",
   "mimetype": "text/x-python",
   "name": "python",
   "nbconvert_exporter": "python",
   "pygments_lexer": "ipython3",
   "version": "3.5.2"
  }
 },
 "nbformat": 4,
 "nbformat_minor": 2
}
